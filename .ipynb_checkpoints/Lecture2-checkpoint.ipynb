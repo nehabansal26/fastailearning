{
 "cells": [
  {
   "cell_type": "code",
   "execution_count": 2,
   "id": "473ac040-c2fd-4154-b0f0-29b7e7a0ce52",
   "metadata": {},
   "outputs": [],
   "source": [
    "import fastbook\n",
    "fastbook.setup_book()"
   ]
  },
  {
   "cell_type": "code",
   "execution_count": 4,
   "id": "99e05ac2-d756-4673-a0aa-5381ef051f8f",
   "metadata": {},
   "outputs": [],
   "source": [
    "from fastbook import *\n",
    "from fastai.vision.widgets import *"
   ]
  },
  {
   "cell_type": "markdown",
   "id": "ab436f29-8b96-4a37-9f83-6c8d41585e79",
   "metadata": {},
   "source": [
    "## What DL can do?\n",
    "    1. Computer vision\n",
    "        - object recognition\n",
    "        - object detection (segmentation)\n",
    "        ** sound to image transformation (spectrograms)\n",
    "    2. Natural Language Processing\n",
    "        - topic modelling\n",
    "        - language translation\n",
    "        - document summary\n",
    "        - identify concept of interest\n",
    "        ** protein chains (sequential data)\n",
    "    3. Image + Text \n",
    "        - caption for a image\n",
    "    4. Tabular data\n",
    "        - fast training of RF and boosting methods (RAPIDS)\n",
    "    5. Recommendation System \n",
    "        - DL's capability to handle high-cardinality data is useful here\n",
    "        \n",
    "    \n"
   ]
  }
 ],
 "metadata": {
  "kernelspec": {
   "display_name": "Python 3 (ipykernel)",
   "language": "python",
   "name": "python3"
  },
  "language_info": {
   "codemirror_mode": {
    "name": "ipython",
    "version": 3
   },
   "file_extension": ".py",
   "mimetype": "text/x-python",
   "name": "python",
   "nbconvert_exporter": "python",
   "pygments_lexer": "ipython3",
   "version": "3.11.4"
  }
 },
 "nbformat": 4,
 "nbformat_minor": 5
}
