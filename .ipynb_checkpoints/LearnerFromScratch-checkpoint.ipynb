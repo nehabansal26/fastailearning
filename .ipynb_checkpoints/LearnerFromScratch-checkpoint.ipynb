{
 "cells": [
  {
   "cell_type": "code",
   "execution_count": 3,
   "id": "ad6b9e9f-77c1-415d-942e-dac800e5c365",
   "metadata": {
    "tags": []
   },
   "outputs": [],
   "source": [
    "import fastbook\n",
    "fastbook.setup_book()"
   ]
  },
  {
   "cell_type": "code",
   "execution_count": 224,
   "id": "3bea0490-6e5d-45bb-9361-e18ad8e152c4",
   "metadata": {
    "tags": []
   },
   "outputs": [],
   "source": [
    "from fastai.vision.all import *\n",
    "from fastbook import *\n",
    "import pandas as pd\n",
    "from tqdm import tqdm\n",
    "import os\n",
    "import time"
   ]
  },
  {
   "cell_type": "code",
   "execution_count": 171,
   "id": "f4141ee5-54f3-40d3-bff6-64d3fb6be08d",
   "metadata": {
    "tags": []
   },
   "outputs": [],
   "source": [
    "def img_to_tensor(path_var):\n",
    "    filenames = path_var.ls().sorted()\n",
    "    ls = [tensor(Image.open(i)) for i in filenames]\n",
    "    stacked_ls = torch.stack(ls).float()/255\n",
    "    return stacked_ls"
   ]
  },
  {
   "cell_type": "code",
   "execution_count": 172,
   "id": "7bd8adb5-2a12-413f-a631-75cfeea0ee91",
   "metadata": {
    "tags": []
   },
   "outputs": [],
   "source": [
    "def linear_model(x):\n",
    "    y = x@weight+bias\n",
    "    y = 1/(1+torch.exp(-y))\n",
    "    return y"
   ]
  },
  {
   "cell_type": "code",
   "execution_count": 173,
   "id": "6d52ab70-afd9-4c91-968b-af6dcdd6b78a",
   "metadata": {
    "tags": []
   },
   "outputs": [],
   "source": [
    "def param_init(size,std =0.1):\n",
    "    return (torch.rand(size)*std).requires_grad_()"
   ]
  },
  {
   "cell_type": "code",
   "execution_count": 174,
   "id": "da7b1b07-03f8-4cc7-914a-8a743a5d681d",
   "metadata": {
    "tags": []
   },
   "outputs": [],
   "source": [
    "def calculate_loss(preds,actual):\n",
    "    return torch.where(actual==1,1-preds,preds).mean()\n",
    "  "
   ]
  },
  {
   "cell_type": "code",
   "execution_count": 175,
   "id": "534ababe-4792-4071-a028-655ffe945318",
   "metadata": {
    "tags": []
   },
   "outputs": [],
   "source": [
    "def optimizer(loss,lr):\n",
    "    loss.backward()\n",
    "    for p in params:\n",
    "        p.data -= p.grad*lr\n",
    "        p.grad.zero_()\n",
    "    "
   ]
  },
  {
   "cell_type": "code",
   "execution_count": 176,
   "id": "e92e0635-521f-4ad1-98d2-7f30f2064c4e",
   "metadata": {
    "tags": []
   },
   "outputs": [],
   "source": [
    "def acc(preds,actual):\n",
    "    return ((preds>=0.5) == actual).float().mean()"
   ]
  },
  {
   "cell_type": "code",
   "execution_count": 177,
   "id": "bbb82700-72fe-4751-b2bf-a612febef191",
   "metadata": {
    "tags": []
   },
   "outputs": [],
   "source": [
    "def validate_model(model):\n",
    "    correct_ls = [acc(model(xb),yb) for xb,yb in valid_dls]\n",
    "    loss_valid = round(torch.stack([calculate_loss(model(xb),yb) for xb,yb in valid_dls]).mean().item(),4)\n",
    "    return round(torch.stack(correct_ls).mean().item(),4),loss_valid"
   ]
  },
  {
   "cell_type": "code",
   "execution_count": 178,
   "id": "a450b352-8d9a-4d25-81ae-27c3f8335a87",
   "metadata": {
    "tags": []
   },
   "outputs": [],
   "source": [
    "def train_epoch(model,lr,params):\n",
    "    for xb,yb in train_dls:\n",
    "        preds = model(xb)\n",
    "        loss = calculate_loss(preds,yb)\n",
    "        metric = validate_model(model)\n",
    "        optimizer(loss,lr)\n",
    "    loss_train = round(torch.stack([calculate_loss(model(xb),yb) for xb,yb in train_dls]).mean().item(),4)\n",
    "    return loss_train"
   ]
  },
  {
   "cell_type": "code",
   "execution_count": 179,
   "id": "1dc48e7a-b4f7-44d0-867a-fc76ddf6324e",
   "metadata": {
    "tags": []
   },
   "outputs": [
    {
     "data": {
      "text/plain": [
       "(#3) [Path('/home/nehaiitr/.fastai/data/mnist_sample/train'),Path('/home/nehaiitr/.fastai/data/mnist_sample/valid'),Path('/home/nehaiitr/.fastai/data/mnist_sample/labels.csv')]"
      ]
     },
     "execution_count": 179,
     "metadata": {},
     "output_type": "execute_result"
    }
   ],
   "source": [
    "path = untar_data(URLs.MNIST_SAMPLE)\n",
    "path.ls()"
   ]
  },
  {
   "cell_type": "code",
   "execution_count": 186,
   "id": "51696b34-c0f4-4597-af50-c95afe83fe24",
   "metadata": {
    "tags": []
   },
   "outputs": [
    {
     "name": "stdout",
     "output_type": "stream",
     "text": [
      "torch.Size([12396, 784])\n",
      "torch.Size([2038, 784])\n"
     ]
    }
   ],
   "source": [
    "train_data = torch.cat((img_to_tensor(path/'train'/'3'),img_to_tensor(path/'train'/'7'))).view(-1,28*28)\n",
    "print(train_data.shape)\n",
    "valid_data = torch.cat((img_to_tensor(path/'valid'/'3'),img_to_tensor(path/'valid'/'7'))).view(-1,28*28)\n",
    "print(valid_data.shape)"
   ]
  },
  {
   "cell_type": "code",
   "execution_count": 187,
   "id": "0d03f3ca-45c5-46b8-a271-a2db53dad24e",
   "metadata": {
    "tags": []
   },
   "outputs": [
    {
     "name": "stdout",
     "output_type": "stream",
     "text": [
      "torch.Size([12396, 1])\n",
      "torch.Size([2038, 1])\n"
     ]
    }
   ],
   "source": [
    "train_y = tensor([1]*len((path/'train'/'3').ls().sorted()) + [0]*len((path/'train'/'7').ls().sorted())).float().unsqueeze(1)\n",
    "print(train_y.shape)\n",
    "valid_y = tensor([1]*len((path/'valid'/'3').ls().sorted()) + [0]*len((path/'valid'/'7').ls().sorted())).float().unsqueeze(1)\n",
    "print(valid_y.shape)\n"
   ]
  },
  {
   "cell_type": "code",
   "execution_count": 188,
   "id": "8b9d2e9c-2330-43c2-9dd5-03febf5f1ee3",
   "metadata": {
    "tags": []
   },
   "outputs": [],
   "source": [
    "train_dset = list(zip(train_data,train_y))\n",
    "valid_dset = list(zip(valid_data,valid_y))"
   ]
  },
  {
   "cell_type": "code",
   "execution_count": 189,
   "id": "57693124-d06b-484e-9139-4b1f023faf8d",
   "metadata": {
    "tags": []
   },
   "outputs": [],
   "source": [
    "train_dls = DataLoader(train_dset,bs = 256, shuffle=True)\n",
    "valid_dls = DataLoader(valid_dset,bs = 256)"
   ]
  },
  {
   "cell_type": "code",
   "execution_count": 234,
   "id": "f06f9c3f-ed16-405d-bfa1-cfdfd30efcf6",
   "metadata": {
    "tags": []
   },
   "outputs": [
    {
     "name": "stdout",
     "output_type": "stream",
     "text": [
      "torch.Size([784, 1])\n",
      "tensor([0.0388], requires_grad=True)\n"
     ]
    }
   ],
   "source": [
    "weight = param_initi((28*28,1))\n",
    "print(weight.shape)\n",
    "bias = param_initi(1)\n",
    "print(bias)\n",
    "params = weight,bias\n",
    "lr = 0.1"
   ]
  },
  {
   "cell_type": "code",
   "execution_count": 237,
   "id": "ad1b6d55-38cd-410e-8a88-a2364626ecb9",
   "metadata": {
    "tags": []
   },
   "outputs": [],
   "source": [
    "def learner(epoch,model,lr,params):\n",
    "    out_ls = []\n",
    "    for i in tqdm(range(epochs)):\n",
    "        train_loss = train_epoch(model,lr,params)\n",
    "        metric, valid_loss = validate_model(model)\n",
    "        out_ls.append([i,train_loss,valid_loss,metric])\n",
    "    df = pd.DataFrame(out_ls,columns=['epoch','train_loss','valid_loss','vaid_acc'])\n",
    "    print(df)        \n",
    "    "
   ]
  },
  {
   "cell_type": "code",
   "execution_count": 238,
   "id": "435c8dd8-d558-423a-a3a5-3c2495b9182f",
   "metadata": {
    "tags": []
   },
   "outputs": [
    {
     "name": "stderr",
     "output_type": "stream",
     "text": [
      "100%|██████████████████████████████████████████████████████████████████████████████████████████████████████████████████████████████████████████████████████████████████████| 10/10 [00:05<00:00,  1.90it/s]"
     ]
    },
    {
     "name": "stdout",
     "output_type": "stream",
     "text": [
      "   epoch  train_loss  valid_loss  vaid_acc\n",
      "0      0      0.0382      0.0424    0.9701\n",
      "1      1      0.0372      0.0412    0.9701\n",
      "2      2      0.0359      0.0403    0.9701\n",
      "3      3      0.0349      0.0395    0.9701\n",
      "4      4      0.0342      0.0387    0.9706\n",
      "5      5      0.0337      0.0379    0.9711\n",
      "6      6      0.0328      0.0373    0.9721\n",
      "7      7      0.0321      0.0367    0.9726\n",
      "8      8      0.0315      0.0362    0.9726\n",
      "9      9      0.0307      0.0357    0.9736\n"
     ]
    },
    {
     "name": "stderr",
     "output_type": "stream",
     "text": [
      "\n"
     ]
    }
   ],
   "source": [
    "learner(10,linear_model,lr,params)"
   ]
  },
  {
   "cell_type": "code",
   "execution_count": null,
   "id": "6341f920-4563-4228-80b4-83855a57ae25",
   "metadata": {},
   "outputs": [],
   "source": []
  }
 ],
 "metadata": {
  "kernelspec": {
   "display_name": "Python 3 (ipykernel)",
   "language": "python",
   "name": "python3"
  },
  "language_info": {
   "codemirror_mode": {
    "name": "ipython",
    "version": 3
   },
   "file_extension": ".py",
   "mimetype": "text/x-python",
   "name": "python",
   "nbconvert_exporter": "python",
   "pygments_lexer": "ipython3",
   "version": "3.11.4"
  }
 },
 "nbformat": 4,
 "nbformat_minor": 5
}
