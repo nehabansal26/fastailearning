{
 "cells": [
  {
   "cell_type": "markdown",
   "id": "3fa679fe-e899-46c6-be93-5afedfd593a7",
   "metadata": {
    "tags": []
   },
   "source": [
    "## new library\n",
    "- sympy : symbolic math calculation\n",
    "\n",
    "## things to ponder\n",
    "- how normalization impact the weight optimization process\n",
    "- why the average of those errors should tend towards zero once there are enough trees in random forest"
   ]
  },
  {
   "cell_type": "markdown",
   "id": "f67b59e3-6ca5-4c99-b010-b411983660f5",
   "metadata": {
    "jp-MarkdownHeadingCollapsed": true,
    "tags": []
   },
   "source": [
    "# Titanic Data"
   ]
  },
  {
   "cell_type": "code",
   "execution_count": 36,
   "id": "32178eaa-4cbd-4c98-a8dc-9c62a59aa2d6",
   "metadata": {
    "tags": []
   },
   "outputs": [],
   "source": [
    "import pandas as pd\n",
    "import numpy as np \n",
    "import os\n",
    "import torch \n",
    "from torch import tensor"
   ]
  },
  {
   "cell_type": "code",
   "execution_count": 48,
   "id": "cbd07c63-ecba-4779-8d15-2d5e428f7d2b",
   "metadata": {
    "tags": []
   },
   "outputs": [],
   "source": [
    "df = pd.read_csv(\"train.csv\")"
   ]
  },
  {
   "cell_type": "code",
   "execution_count": 49,
   "id": "c5cdbec9-dc73-4be4-a329-ec313b753946",
   "metadata": {
    "tags": []
   },
   "outputs": [
    {
     "data": {
      "text/html": [
       "<div>\n",
       "<style scoped>\n",
       "    .dataframe tbody tr th:only-of-type {\n",
       "        vertical-align: middle;\n",
       "    }\n",
       "\n",
       "    .dataframe tbody tr th {\n",
       "        vertical-align: top;\n",
       "    }\n",
       "\n",
       "    .dataframe thead th {\n",
       "        text-align: right;\n",
       "    }\n",
       "</style>\n",
       "<table border=\"1\" class=\"dataframe\">\n",
       "  <thead>\n",
       "    <tr style=\"text-align: right;\">\n",
       "      <th></th>\n",
       "      <th>PassengerId</th>\n",
       "      <th>Survived</th>\n",
       "      <th>Pclass</th>\n",
       "      <th>Name</th>\n",
       "      <th>Sex</th>\n",
       "      <th>Age</th>\n",
       "      <th>SibSp</th>\n",
       "      <th>Parch</th>\n",
       "      <th>Ticket</th>\n",
       "      <th>Fare</th>\n",
       "      <th>Cabin</th>\n",
       "      <th>Embarked</th>\n",
       "    </tr>\n",
       "  </thead>\n",
       "  <tbody>\n",
       "    <tr>\n",
       "      <th>0</th>\n",
       "      <td>1</td>\n",
       "      <td>0</td>\n",
       "      <td>3</td>\n",
       "      <td>Braund, Mr. Owen Harris</td>\n",
       "      <td>male</td>\n",
       "      <td>22.0</td>\n",
       "      <td>1</td>\n",
       "      <td>0</td>\n",
       "      <td>A/5 21171</td>\n",
       "      <td>7.2500</td>\n",
       "      <td>NaN</td>\n",
       "      <td>S</td>\n",
       "    </tr>\n",
       "    <tr>\n",
       "      <th>1</th>\n",
       "      <td>2</td>\n",
       "      <td>1</td>\n",
       "      <td>1</td>\n",
       "      <td>Cumings, Mrs. John Bradley (Florence Briggs Th...</td>\n",
       "      <td>female</td>\n",
       "      <td>38.0</td>\n",
       "      <td>1</td>\n",
       "      <td>0</td>\n",
       "      <td>PC 17599</td>\n",
       "      <td>71.2833</td>\n",
       "      <td>C85</td>\n",
       "      <td>C</td>\n",
       "    </tr>\n",
       "    <tr>\n",
       "      <th>2</th>\n",
       "      <td>3</td>\n",
       "      <td>1</td>\n",
       "      <td>3</td>\n",
       "      <td>Heikkinen, Miss. Laina</td>\n",
       "      <td>female</td>\n",
       "      <td>26.0</td>\n",
       "      <td>0</td>\n",
       "      <td>0</td>\n",
       "      <td>STON/O2. 3101282</td>\n",
       "      <td>7.9250</td>\n",
       "      <td>NaN</td>\n",
       "      <td>S</td>\n",
       "    </tr>\n",
       "    <tr>\n",
       "      <th>3</th>\n",
       "      <td>4</td>\n",
       "      <td>1</td>\n",
       "      <td>1</td>\n",
       "      <td>Futrelle, Mrs. Jacques Heath (Lily May Peel)</td>\n",
       "      <td>female</td>\n",
       "      <td>35.0</td>\n",
       "      <td>1</td>\n",
       "      <td>0</td>\n",
       "      <td>113803</td>\n",
       "      <td>53.1000</td>\n",
       "      <td>C123</td>\n",
       "      <td>S</td>\n",
       "    </tr>\n",
       "    <tr>\n",
       "      <th>4</th>\n",
       "      <td>5</td>\n",
       "      <td>0</td>\n",
       "      <td>3</td>\n",
       "      <td>Allen, Mr. William Henry</td>\n",
       "      <td>male</td>\n",
       "      <td>35.0</td>\n",
       "      <td>0</td>\n",
       "      <td>0</td>\n",
       "      <td>373450</td>\n",
       "      <td>8.0500</td>\n",
       "      <td>NaN</td>\n",
       "      <td>S</td>\n",
       "    </tr>\n",
       "  </tbody>\n",
       "</table>\n",
       "</div>"
      ],
      "text/plain": [
       "   PassengerId  Survived  Pclass  \\\n",
       "0            1         0       3   \n",
       "1            2         1       1   \n",
       "2            3         1       3   \n",
       "3            4         1       1   \n",
       "4            5         0       3   \n",
       "\n",
       "                                                Name     Sex   Age  SibSp  \\\n",
       "0                            Braund, Mr. Owen Harris    male  22.0      1   \n",
       "1  Cumings, Mrs. John Bradley (Florence Briggs Th...  female  38.0      1   \n",
       "2                             Heikkinen, Miss. Laina  female  26.0      0   \n",
       "3       Futrelle, Mrs. Jacques Heath (Lily May Peel)  female  35.0      1   \n",
       "4                           Allen, Mr. William Henry    male  35.0      0   \n",
       "\n",
       "   Parch            Ticket     Fare Cabin Embarked  \n",
       "0      0         A/5 21171   7.2500   NaN        S  \n",
       "1      0          PC 17599  71.2833   C85        C  \n",
       "2      0  STON/O2. 3101282   7.9250   NaN        S  \n",
       "3      0            113803  53.1000  C123        S  \n",
       "4      0            373450   8.0500   NaN        S  "
      ]
     },
     "execution_count": 49,
     "metadata": {},
     "output_type": "execute_result"
    }
   ],
   "source": [
    "df.head()"
   ]
  },
  {
   "cell_type": "code",
   "execution_count": 50,
   "id": "2238b3bc-14d4-4c7e-a18c-f10bb4d85053",
   "metadata": {
    "tags": []
   },
   "outputs": [
    {
     "data": {
      "text/plain": [
       "PassengerId      0\n",
       "Survived         0\n",
       "Pclass           0\n",
       "Name             0\n",
       "Sex              0\n",
       "Age            177\n",
       "SibSp            0\n",
       "Parch            0\n",
       "Ticket           0\n",
       "Fare             0\n",
       "Cabin          687\n",
       "Embarked         2\n",
       "dtype: int64"
      ]
     },
     "execution_count": 50,
     "metadata": {},
     "output_type": "execute_result"
    }
   ],
   "source": [
    "df.isna().sum()"
   ]
  },
  {
   "cell_type": "code",
   "execution_count": 51,
   "id": "67c61a2d-01ec-4103-a3f4-d560b11e150d",
   "metadata": {
    "tags": []
   },
   "outputs": [
    {
     "data": {
      "text/plain": [
       "PassengerId                      1\n",
       "Survived                       0.0\n",
       "Pclass                         3.0\n",
       "Name           Abbing, Mr. Anthony\n",
       "Sex                           male\n",
       "Age                           24.0\n",
       "SibSp                          0.0\n",
       "Parch                          0.0\n",
       "Ticket                        1601\n",
       "Fare                          8.05\n",
       "Cabin                      B96 B98\n",
       "Embarked                         S\n",
       "Name: 0, dtype: object"
      ]
     },
     "execution_count": 51,
     "metadata": {},
     "output_type": "execute_result"
    }
   ],
   "source": [
    "# it return multiple values when there is tie\n",
    "modes = df.mode().iloc[0]\n",
    "modes"
   ]
  },
  {
   "cell_type": "code",
   "execution_count": 52,
   "id": "2ce8e3d3-b18a-4066-a2e4-4c7e9dd92fcc",
   "metadata": {
    "tags": []
   },
   "outputs": [],
   "source": [
    "df.fillna(modes,inplace=True)"
   ]
  },
  {
   "cell_type": "code",
   "execution_count": 53,
   "id": "548bf3f9-6a38-4754-a361-ca67933c3d33",
   "metadata": {
    "tags": []
   },
   "outputs": [
    {
     "data": {
      "text/plain": [
       "PassengerId    0\n",
       "Survived       0\n",
       "Pclass         0\n",
       "Name           0\n",
       "Sex            0\n",
       "Age            0\n",
       "SibSp          0\n",
       "Parch          0\n",
       "Ticket         0\n",
       "Fare           0\n",
       "Cabin          0\n",
       "Embarked       0\n",
       "dtype: int64"
      ]
     },
     "execution_count": 53,
     "metadata": {},
     "output_type": "execute_result"
    }
   ],
   "source": [
    "df.isna().sum()"
   ]
  },
  {
   "cell_type": "code",
   "execution_count": 54,
   "id": "1530d562-0c71-4311-b002-7f229d101a56",
   "metadata": {
    "tags": []
   },
   "outputs": [
    {
     "data": {
      "text/html": [
       "<div>\n",
       "<style scoped>\n",
       "    .dataframe tbody tr th:only-of-type {\n",
       "        vertical-align: middle;\n",
       "    }\n",
       "\n",
       "    .dataframe tbody tr th {\n",
       "        vertical-align: top;\n",
       "    }\n",
       "\n",
       "    .dataframe thead th {\n",
       "        text-align: right;\n",
       "    }\n",
       "</style>\n",
       "<table border=\"1\" class=\"dataframe\">\n",
       "  <thead>\n",
       "    <tr style=\"text-align: right;\">\n",
       "      <th></th>\n",
       "      <th>PassengerId</th>\n",
       "      <th>Survived</th>\n",
       "      <th>Pclass</th>\n",
       "      <th>Age</th>\n",
       "      <th>SibSp</th>\n",
       "      <th>Parch</th>\n",
       "      <th>Fare</th>\n",
       "    </tr>\n",
       "  </thead>\n",
       "  <tbody>\n",
       "    <tr>\n",
       "      <th>count</th>\n",
       "      <td>891.000000</td>\n",
       "      <td>891.000000</td>\n",
       "      <td>891.000000</td>\n",
       "      <td>891.000000</td>\n",
       "      <td>891.000000</td>\n",
       "      <td>891.000000</td>\n",
       "      <td>891.000000</td>\n",
       "    </tr>\n",
       "    <tr>\n",
       "      <th>mean</th>\n",
       "      <td>446.000000</td>\n",
       "      <td>0.383838</td>\n",
       "      <td>2.308642</td>\n",
       "      <td>28.566970</td>\n",
       "      <td>0.523008</td>\n",
       "      <td>0.381594</td>\n",
       "      <td>32.204208</td>\n",
       "    </tr>\n",
       "    <tr>\n",
       "      <th>std</th>\n",
       "      <td>257.353842</td>\n",
       "      <td>0.486592</td>\n",
       "      <td>0.836071</td>\n",
       "      <td>13.199572</td>\n",
       "      <td>1.102743</td>\n",
       "      <td>0.806057</td>\n",
       "      <td>49.693429</td>\n",
       "    </tr>\n",
       "    <tr>\n",
       "      <th>min</th>\n",
       "      <td>1.000000</td>\n",
       "      <td>0.000000</td>\n",
       "      <td>1.000000</td>\n",
       "      <td>0.420000</td>\n",
       "      <td>0.000000</td>\n",
       "      <td>0.000000</td>\n",
       "      <td>0.000000</td>\n",
       "    </tr>\n",
       "    <tr>\n",
       "      <th>25%</th>\n",
       "      <td>223.500000</td>\n",
       "      <td>0.000000</td>\n",
       "      <td>2.000000</td>\n",
       "      <td>22.000000</td>\n",
       "      <td>0.000000</td>\n",
       "      <td>0.000000</td>\n",
       "      <td>7.910400</td>\n",
       "    </tr>\n",
       "    <tr>\n",
       "      <th>50%</th>\n",
       "      <td>446.000000</td>\n",
       "      <td>0.000000</td>\n",
       "      <td>3.000000</td>\n",
       "      <td>24.000000</td>\n",
       "      <td>0.000000</td>\n",
       "      <td>0.000000</td>\n",
       "      <td>14.454200</td>\n",
       "    </tr>\n",
       "    <tr>\n",
       "      <th>75%</th>\n",
       "      <td>668.500000</td>\n",
       "      <td>1.000000</td>\n",
       "      <td>3.000000</td>\n",
       "      <td>35.000000</td>\n",
       "      <td>1.000000</td>\n",
       "      <td>0.000000</td>\n",
       "      <td>31.000000</td>\n",
       "    </tr>\n",
       "    <tr>\n",
       "      <th>max</th>\n",
       "      <td>891.000000</td>\n",
       "      <td>1.000000</td>\n",
       "      <td>3.000000</td>\n",
       "      <td>80.000000</td>\n",
       "      <td>8.000000</td>\n",
       "      <td>6.000000</td>\n",
       "      <td>512.329200</td>\n",
       "    </tr>\n",
       "  </tbody>\n",
       "</table>\n",
       "</div>"
      ],
      "text/plain": [
       "       PassengerId    Survived      Pclass         Age       SibSp  \\\n",
       "count   891.000000  891.000000  891.000000  891.000000  891.000000   \n",
       "mean    446.000000    0.383838    2.308642   28.566970    0.523008   \n",
       "std     257.353842    0.486592    0.836071   13.199572    1.102743   \n",
       "min       1.000000    0.000000    1.000000    0.420000    0.000000   \n",
       "25%     223.500000    0.000000    2.000000   22.000000    0.000000   \n",
       "50%     446.000000    0.000000    3.000000   24.000000    0.000000   \n",
       "75%     668.500000    1.000000    3.000000   35.000000    1.000000   \n",
       "max     891.000000    1.000000    3.000000   80.000000    8.000000   \n",
       "\n",
       "            Parch        Fare  \n",
       "count  891.000000  891.000000  \n",
       "mean     0.381594   32.204208  \n",
       "std      0.806057   49.693429  \n",
       "min      0.000000    0.000000  \n",
       "25%      0.000000    7.910400  \n",
       "50%      0.000000   14.454200  \n",
       "75%      0.000000   31.000000  \n",
       "max      6.000000  512.329200  "
      ]
     },
     "execution_count": 54,
     "metadata": {},
     "output_type": "execute_result"
    }
   ],
   "source": [
    "df.describe(include=(np.number))"
   ]
  },
  {
   "cell_type": "code",
   "execution_count": 55,
   "id": "4dc0eec7-2935-4101-bc11-e5939b51fc93",
   "metadata": {
    "tags": []
   },
   "outputs": [
    {
     "data": {
      "text/plain": [
       "<Axes: >"
      ]
     },
     "execution_count": 55,
     "metadata": {},
     "output_type": "execute_result"
    },
    {
     "data": {
      "image/png": "[encoded data removed]",
      "text/plain": [
       "<Figure size 640x480 with 1 Axes>"
      ]
     },
     "metadata": {},
     "output_type": "display_data"
    }
   ],
   "source": [
    "df.Fare.hist()"
   ]
  },
  {
   "cell_type": "code",
   "execution_count": 56,
   "id": "9fe9fddc-1b87-4273-a135-b2eb0b885dbb",
   "metadata": {
    "tags": []
   },
   "outputs": [],
   "source": [
    "df['logfare'] = np.log(df.Fare+1)"
   ]
  },
  {
   "cell_type": "code",
   "execution_count": 57,
   "id": "e7bc97eb-830a-478b-9456-188d46fe1a8f",
   "metadata": {
    "tags": []
   },
   "outputs": [
    {
     "data": {
      "text/plain": [
       "<Axes: >"
      ]
     },
     "execution_count": 57,
     "metadata": {},
     "output_type": "execute_result"
    },
    {
     "data": {
      "image/png": "[encoded data removed]",
      "text/plain": [
       "<Figure size 640x480 with 1 Axes>"
      ]
     },
     "metadata": {},
     "output_type": "display_data"
    }
   ],
   "source": [
    "df.logfare.hist()"
   ]
  },
  {
   "cell_type": "code",
   "execution_count": 58,
   "id": "29d83ceb-e891-45b1-8b79-c8aba6c8500a",
   "metadata": {
    "tags": []
   },
   "outputs": [
    {
     "data": {
      "text/plain": [
       "[1, 2, 3]"
      ]
     },
     "execution_count": 58,
     "metadata": {},
     "output_type": "execute_result"
    }
   ],
   "source": [
    "pclasses = sorted(df.Pclass.unique())\n",
    "pclasses"
   ]
  },
  {
   "cell_type": "code",
   "execution_count": 59,
   "id": "95252aaa-ce89-439a-9d5d-1e650436a8e0",
   "metadata": {
    "tags": []
   },
   "outputs": [
    {
     "data": {
      "text/html": [
       "<div>\n",
       "<style scoped>\n",
       "    .dataframe tbody tr th:only-of-type {\n",
       "        vertical-align: middle;\n",
       "    }\n",
       "\n",
       "    .dataframe tbody tr th {\n",
       "        vertical-align: top;\n",
       "    }\n",
       "\n",
       "    .dataframe thead th {\n",
       "        text-align: right;\n",
       "    }\n",
       "</style>\n",
       "<table border=\"1\" class=\"dataframe\">\n",
       "  <thead>\n",
       "    <tr style=\"text-align: right;\">\n",
       "      <th></th>\n",
       "      <th>Name</th>\n",
       "      <th>Sex</th>\n",
       "      <th>Ticket</th>\n",
       "      <th>Cabin</th>\n",
       "      <th>Embarked</th>\n",
       "    </tr>\n",
       "  </thead>\n",
       "  <tbody>\n",
       "    <tr>\n",
       "      <th>count</th>\n",
       "      <td>891</td>\n",
       "      <td>891</td>\n",
       "      <td>891</td>\n",
       "      <td>891</td>\n",
       "      <td>891</td>\n",
       "    </tr>\n",
       "    <tr>\n",
       "      <th>unique</th>\n",
       "      <td>891</td>\n",
       "      <td>2</td>\n",
       "      <td>681</td>\n",
       "      <td>147</td>\n",
       "      <td>3</td>\n",
       "    </tr>\n",
       "    <tr>\n",
       "      <th>top</th>\n",
       "      <td>Braund, Mr. Owen Harris</td>\n",
       "      <td>male</td>\n",
       "      <td>347082</td>\n",
       "      <td>B96 B98</td>\n",
       "      <td>S</td>\n",
       "    </tr>\n",
       "    <tr>\n",
       "      <th>freq</th>\n",
       "      <td>1</td>\n",
       "      <td>577</td>\n",
       "      <td>7</td>\n",
       "      <td>691</td>\n",
       "      <td>646</td>\n",
       "    </tr>\n",
       "  </tbody>\n",
       "</table>\n",
       "</div>"
      ],
      "text/plain": [
       "                           Name   Sex  Ticket    Cabin Embarked\n",
       "count                       891   891     891      891      891\n",
       "unique                      891     2     681      147        3\n",
       "top     Braund, Mr. Owen Harris  male  347082  B96 B98        S\n",
       "freq                          1   577       7      691      646"
      ]
     },
     "execution_count": 59,
     "metadata": {},
     "output_type": "execute_result"
    }
   ],
   "source": [
    "df.describe(include=object)"
   ]
  },
  {
   "cell_type": "code",
   "execution_count": 60,
   "id": "4f98cef8-d013-41b7-a172-037235d1b9f2",
   "metadata": {
    "tags": []
   },
   "outputs": [],
   "source": [
    "df = pd.get_dummies(df,columns=['Sex','Pclass','Embarked'],dtype=int)"
   ]
  },
  {
   "cell_type": "code",
   "execution_count": 61,
   "id": "237470e2-35f2-4f25-8126-863577720329",
   "metadata": {
    "tags": []
   },
   "outputs": [
    {
     "data": {
      "text/plain": [
       "Index(['PassengerId', 'Survived', 'Name', 'Age', 'SibSp', 'Parch', 'Ticket',\n",
       "       'Fare', 'Cabin', 'logfare', 'Sex_female', 'Sex_male', 'Pclass_1',\n",
       "       'Pclass_2', 'Pclass_3', 'Embarked_C', 'Embarked_Q', 'Embarked_S'],\n",
       "      dtype='object')"
      ]
     },
     "execution_count": 61,
     "metadata": {},
     "output_type": "execute_result"
    }
   ],
   "source": [
    "df.columns"
   ]
  },
  {
   "cell_type": "code",
   "execution_count": 62,
   "id": "5d69384c-f2c2-4fff-95d3-36c56c75db19",
   "metadata": {
    "tags": []
   },
   "outputs": [],
   "source": [
    "added_columns = ['Sex_female', 'Sex_male', 'Pclass_1',\n",
    "       'Pclass_2', 'Pclass_3', 'Embarked_C', 'Embarked_Q', 'Embarked_S']"
   ]
  },
  {
   "cell_type": "code",
   "execution_count": 63,
   "id": "f02e8446-8306-4397-ad32-a295f4a92952",
   "metadata": {
    "tags": []
   },
   "outputs": [
    {
     "data": {
      "text/html": [
       "<div>\n",
       "<style scoped>\n",
       "    .dataframe tbody tr th:only-of-type {\n",
       "        vertical-align: middle;\n",
       "    }\n",
       "\n",
       "    .dataframe tbody tr th {\n",
       "        vertical-align: top;\n",
       "    }\n",
       "\n",
       "    .dataframe thead th {\n",
       "        text-align: right;\n",
       "    }\n",
       "</style>\n",
       "<table border=\"1\" class=\"dataframe\">\n",
       "  <thead>\n",
       "    <tr style=\"text-align: right;\">\n",
       "      <th></th>\n",
       "      <th>Sex_female</th>\n",
       "      <th>Sex_male</th>\n",
       "      <th>Pclass_1</th>\n",
       "      <th>Pclass_2</th>\n",
       "      <th>Pclass_3</th>\n",
       "      <th>Embarked_C</th>\n",
       "      <th>Embarked_Q</th>\n",
       "      <th>Embarked_S</th>\n",
       "    </tr>\n",
       "  </thead>\n",
       "  <tbody>\n",
       "    <tr>\n",
       "      <th>0</th>\n",
       "      <td>0</td>\n",
       "      <td>1</td>\n",
       "      <td>0</td>\n",
       "      <td>0</td>\n",
       "      <td>1</td>\n",
       "      <td>0</td>\n",
       "      <td>0</td>\n",
       "      <td>1</td>\n",
       "    </tr>\n",
       "    <tr>\n",
       "      <th>1</th>\n",
       "      <td>1</td>\n",
       "      <td>0</td>\n",
       "      <td>1</td>\n",
       "      <td>0</td>\n",
       "      <td>0</td>\n",
       "      <td>1</td>\n",
       "      <td>0</td>\n",
       "      <td>0</td>\n",
       "    </tr>\n",
       "    <tr>\n",
       "      <th>2</th>\n",
       "      <td>1</td>\n",
       "      <td>0</td>\n",
       "      <td>0</td>\n",
       "      <td>0</td>\n",
       "      <td>1</td>\n",
       "      <td>0</td>\n",
       "      <td>0</td>\n",
       "      <td>1</td>\n",
       "    </tr>\n",
       "    <tr>\n",
       "      <th>3</th>\n",
       "      <td>1</td>\n",
       "      <td>0</td>\n",
       "      <td>1</td>\n",
       "      <td>0</td>\n",
       "      <td>0</td>\n",
       "      <td>0</td>\n",
       "      <td>0</td>\n",
       "      <td>1</td>\n",
       "    </tr>\n",
       "    <tr>\n",
       "      <th>4</th>\n",
       "      <td>0</td>\n",
       "      <td>1</td>\n",
       "      <td>0</td>\n",
       "      <td>0</td>\n",
       "      <td>1</td>\n",
       "      <td>0</td>\n",
       "      <td>0</td>\n",
       "      <td>1</td>\n",
       "    </tr>\n",
       "  </tbody>\n",
       "</table>\n",
       "</div>"
      ],
      "text/plain": [
       "   Sex_female  Sex_male  Pclass_1  Pclass_2  Pclass_3  Embarked_C  Embarked_Q  \\\n",
       "0           0         1         0         0         1           0           0   \n",
       "1           1         0         1         0         0           1           0   \n",
       "2           1         0         0         0         1           0           0   \n",
       "3           1         0         1         0         0           0           0   \n",
       "4           0         1         0         0         1           0           0   \n",
       "\n",
       "   Embarked_S  \n",
       "0           1  \n",
       "1           0  \n",
       "2           1  \n",
       "3           1  \n",
       "4           1  "
      ]
     },
     "execution_count": 63,
     "metadata": {},
     "output_type": "execute_result"
    }
   ],
   "source": [
    "df[added_columns].head()"
   ]
  },
  {
   "cell_type": "code",
   "execution_count": 64,
   "id": "3998d8ab-6446-4c04-9d34-b09d88feb794",
   "metadata": {
    "tags": []
   },
   "outputs": [],
   "source": [
    "t_dep = tensor(df.Survived)"
   ]
  },
  {
   "cell_type": "code",
   "execution_count": 65,
   "id": "1e975808-ba8a-403e-9aa5-18dee6b9053b",
   "metadata": {
    "tags": []
   },
   "outputs": [],
   "source": [
    "indep_cols = ['Age', 'SibSp', 'Parch', 'logfare'] + added_columns"
   ]
  },
  {
   "cell_type": "code",
   "execution_count": 66,
   "id": "14138f92-11d9-4621-a870-d377c3052ccf",
   "metadata": {
    "tags": []
   },
   "outputs": [],
   "source": [
    "t_indep = tensor(df[indep_cols].values,dtype=torch.float)"
   ]
  },
  {
   "cell_type": "code",
   "execution_count": 67,
   "id": "2a542bab-1e3d-42f3-8e85-76ab1ad3c3ca",
   "metadata": {
    "tags": []
   },
   "outputs": [
    {
     "data": {
      "text/plain": [
       "torch.Size([891, 12])"
      ]
     },
     "execution_count": 67,
     "metadata": {},
     "output_type": "execute_result"
    }
   ],
   "source": [
    "t_indep.shape"
   ]
  },
  {
   "cell_type": "code",
   "execution_count": 69,
   "id": "ff9aa623-9dd6-4749-89f1-5d6c4dd938a8",
   "metadata": {
    "tags": []
   },
   "outputs": [],
   "source": [
    "val,index = t_indep.max(dim=0)\n",
    "t_indep = t_indep/val"
   ]
  },
  {
   "cell_type": "code",
   "execution_count": 72,
   "id": "ffb9f3c9-7ee0-470c-b9eb-d4a273ead154",
   "metadata": {
    "tags": []
   },
   "outputs": [
    {
     "data": {
      "text/plain": [
       "tensor([-0.4629,  0.1386,  0.2409, -0.2262, -0.2632, -0.3147,  0.4876,  0.3136,\n",
       "         0.2799, -0.4392,  0.2103,  0.3625])"
      ]
     },
     "execution_count": 72,
     "metadata": {},
     "output_type": "execute_result"
    }
   ],
   "source": [
    "torch.manual_seed(442)\n",
    "weights = torch.rand(t_indep.shape[1])-0.5\n",
    "weights"
   ]
  },
  {
   "cell_type": "code",
   "execution_count": 73,
   "id": "15501e71-7ddf-4bf0-84b9-efcb30754afc",
   "metadata": {
    "tags": []
   },
   "outputs": [],
   "source": [
    "preds = (t_indep*weights).sum(axis=1)"
   ]
  },
  {
   "cell_type": "code",
   "execution_count": 75,
   "id": "358c4558-977a-488a-ad4b-3944f281e2f3",
   "metadata": {
    "tags": []
   },
   "outputs": [
    {
     "data": {
      "text/plain": [
       "tensor([ 0.1412, -0.5725,  0.1494,  0.2571,  0.0453, -0.0448,  0.0792,  0.2961,\n",
       "         0.2128, -0.5770])"
      ]
     },
     "execution_count": 75,
     "metadata": {},
     "output_type": "execute_result"
    }
   ],
   "source": [
    "preds[:10]"
   ]
  },
  {
   "cell_type": "code",
   "execution_count": 76,
   "id": "390d0a6e-955a-425e-85e9-3689c71c4279",
   "metadata": {
    "tags": []
   },
   "outputs": [
    {
     "data": {
      "text/plain": [
       "tensor(0.5200)"
      ]
     },
     "execution_count": 76,
     "metadata": {},
     "output_type": "execute_result"
    }
   ],
   "source": [
    "loss = torch.abs(preds-t_dep).mean()\n",
    "loss"
   ]
  },
  {
   "cell_type": "code",
   "execution_count": 77,
   "id": "7ebeab89-5710-4848-b8b8-2a4a294c3537",
   "metadata": {
    "tags": []
   },
   "outputs": [],
   "source": [
    "def cal_pred(weights,t_indep): return (t_indep*weights).sum(axis=1)\n",
    "def cal_loss(weights,t_indep,t_dep) : return torch.abs(cal_pred(weights,t_indep)-t_dep).mean()"
   ]
  },
  {
   "cell_type": "code",
   "execution_count": 78,
   "id": "21505136-c234-4753-99ee-15ccf569c745",
   "metadata": {
    "tags": []
   },
   "outputs": [
    {
     "data": {
      "text/plain": [
       "tensor([-0.4629,  0.1386,  0.2409, -0.2262, -0.2632, -0.3147,  0.4876,  0.3136,\n",
       "         0.2799, -0.4392,  0.2103,  0.3625], requires_grad=True)"
      ]
     },
     "execution_count": 78,
     "metadata": {},
     "output_type": "execute_result"
    }
   ],
   "source": [
    "weights.requires_grad_()"
   ]
  },
  {
   "cell_type": "code",
   "execution_count": 79,
   "id": "2730a640-bb7f-4df1-9f95-c129dec2ee40",
   "metadata": {
    "tags": []
   },
   "outputs": [
    {
     "data": {
      "text/plain": [
       "tensor(0.5200, grad_fn=<MeanBackward0>)"
      ]
     },
     "execution_count": 79,
     "metadata": {},
     "output_type": "execute_result"
    }
   ],
   "source": [
    "loss = cal_loss(weights,t_indep,t_dep)\n",
    "loss"
   ]
  },
  {
   "cell_type": "code",
   "execution_count": 82,
   "id": "7443520e-e5b4-4868-b039-ef1446bf0465",
   "metadata": {
    "tags": []
   },
   "outputs": [],
   "source": [
    "loss.backward()"
   ]
  },
  {
   "cell_type": "code",
   "execution_count": 83,
   "id": "41aa4e02-bee8-4b87-a624-26f939e3989c",
   "metadata": {
    "tags": []
   },
   "outputs": [
    {
     "data": {
      "text/plain": [
       "tensor([-0.0483,  0.0118, -0.0041, -0.0804, -0.1975,  0.1111, -0.1235, -0.0426,\n",
       "         0.0797, -0.1886, -0.0617,  0.1639])"
      ]
     },
     "execution_count": 83,
     "metadata": {},
     "output_type": "execute_result"
    }
   ],
   "source": [
    "weights.grad"
   ]
  },
  {
   "cell_type": "code",
   "execution_count": 84,
   "id": "cc76cc96-6306-4e9d-b07a-e1c1dacae2a6",
   "metadata": {
    "tags": []
   },
   "outputs": [
    {
     "name": "stdout",
     "output_type": "stream",
     "text": [
      "tensor(0.5056)\n"
     ]
    }
   ],
   "source": [
    "with torch.no_grad():\n",
    "    weights.sub_(weights.grad*0.1)\n",
    "    print(cal_loss(weights,t_indep,t_dep))"
   ]
  },
  {
   "cell_type": "code",
   "execution_count": 85,
   "id": "c0140b38-6b4f-4109-b317-dc99cc6a3884",
   "metadata": {
    "tags": []
   },
   "outputs": [],
   "source": [
    "from fastai.data.transforms import RandomSplitter\n",
    "trn_split, valid_split  = RandomSplitter(seed=42)(df)"
   ]
  },
  {
   "cell_type": "code",
   "execution_count": 87,
   "id": "aaa9a5ca-cf1e-429b-985b-0b853853f4b2",
   "metadata": {
    "tags": []
   },
   "outputs": [],
   "source": [
    "trn_indep, val_indep = t_indep[trn_split], t_indep[valid_split]\n",
    "trn_dep, val_dep = t_dep[trn_split],t_dep[valid_split]"
   ]
  },
  {
   "cell_type": "code",
   "execution_count": 89,
   "id": "77eb0ac2-aef5-46ec-b1a3-94da2a52328f",
   "metadata": {
    "tags": []
   },
   "outputs": [],
   "source": [
    "def update_coeff(weights,lr): return weights.sub_(weights.grad*0.1)"
   ]
  },
  {
   "cell_type": "code",
   "execution_count": 93,
   "id": "501761c1-12b6-4240-8c06-14da9f1f0314",
   "metadata": {
    "tags": []
   },
   "outputs": [],
   "source": [
    "def one_epoch(weights,lr):\n",
    "    loss = cal_loss(weights,trn_indep,trn_dep)\n",
    "    loss.backward()\n",
    "    with torch.no_grad(): update_coeff(weights,lr)\n",
    "    print(f\"loss:{loss:.3f};\")"
   ]
  },
  {
   "cell_type": "code",
   "execution_count": 98,
   "id": "ecf0d35d-2b1e-460a-aff9-840651fffa33",
   "metadata": {
    "tags": []
   },
   "outputs": [],
   "source": [
    "def init_coeff(n_coeff) : return (torch.rand(n_coeff)-0.5).requires_grad_()"
   ]
  },
  {
   "cell_type": "code",
   "execution_count": 99,
   "id": "b057a459-f597-4a7c-a2db-ce85bec6ed58",
   "metadata": {
    "tags": []
   },
   "outputs": [],
   "source": [
    "def train_model(n_coeff, epoch=30, lr=0.1):\n",
    "    torch.manual_seed(442)\n",
    "    weights = init_coeff(n_coeff)\n",
    "    for i in range(epoch):  one_epoch(weights,lr)\n",
    "    return weights"
   ]
  },
  {
   "cell_type": "code",
   "execution_count": 101,
   "id": "1ebe68c7-b947-4cff-8220-1c9c01c9dcbb",
   "metadata": {
    "tags": []
   },
   "outputs": [
    {
     "name": "stdout",
     "output_type": "stream",
     "text": [
      "loss:0.518;\n",
      "loss:0.504;\n",
      "loss:0.480;\n",
      "loss:0.449;\n",
      "loss:0.399;\n",
      "loss:0.351;\n",
      "loss:0.307;\n",
      "loss:0.293;\n",
      "loss:0.315;\n",
      "loss:0.363;\n"
     ]
    }
   ],
   "source": [
    "weights = train_model(t_indep.shape[1],10,0.1)"
   ]
  },
  {
   "cell_type": "code",
   "execution_count": 102,
   "id": "143d1b7e-25f9-49da-ab93-5e4a5cdf5b1c",
   "metadata": {
    "tags": []
   },
   "outputs": [],
   "source": [
    "def show_coeff() : return dict(zip(indep_cols,weights.requires_grad_(False)))"
   ]
  },
  {
   "cell_type": "code",
   "execution_count": 103,
   "id": "08d70498-34f8-4d37-a850-046ef49aa6b6",
   "metadata": {
    "tags": []
   },
   "outputs": [
    {
     "data": {
      "text/plain": [
       "{'Age': tensor(-0.1332),\n",
       " 'SibSp': tensor(0.0675),\n",
       " 'Parch': tensor(0.2445),\n",
       " 'logfare': tensor(0.2081),\n",
       " 'Sex_female': tensor(0.5610),\n",
       " 'Sex_male': tensor(-0.4620),\n",
       " 'Pclass_1': tensor(0.9443),\n",
       " 'Pclass_2': tensor(0.4502),\n",
       " 'Pclass_3': tensor(0.3636),\n",
       " 'Embarked_C': tensor(0.4254),\n",
       " 'Embarked_Q': tensor(0.3508),\n",
       " 'Embarked_S': tensor(0.0345)}"
      ]
     },
     "execution_count": 103,
     "metadata": {},
     "output_type": "execute_result"
    }
   ],
   "source": [
    "show_coeff()"
   ]
  },
  {
   "cell_type": "code",
   "execution_count": 106,
   "id": "6f9b3aec-fefc-4e2e-bca5-898f8506c4be",
   "metadata": {
    "tags": []
   },
   "outputs": [
    {
     "data": {
      "text/plain": [
       "tensor([True, True, True, True, True, True, True, True, True, True])"
      ]
     },
     "execution_count": 106,
     "metadata": {},
     "output_type": "execute_result"
    }
   ],
   "source": [
    "preds = cal_pred(weights,val_indep)\n",
    "results = val_dep.bool()==(preds>0.5)\n",
    "results[:10]"
   ]
  },
  {
   "cell_type": "code",
   "execution_count": 107,
   "id": "8652a076-a99b-4cfb-b901-85f6859eba45",
   "metadata": {
    "tags": []
   },
   "outputs": [],
   "source": [
    "def cal_acc(weights) : return ( val_dep.bool()==(cal_pred(weights,val_indep)>0.5)).float().mean()"
   ]
  },
  {
   "cell_type": "code",
   "execution_count": 108,
   "id": "390ef246-6b76-49d0-82ce-bad90ab3e4d5",
   "metadata": {
    "tags": []
   },
   "outputs": [
    {
     "data": {
      "text/plain": [
       "tensor(0.7640)"
      ]
     },
     "execution_count": 108,
     "metadata": {},
     "output_type": "execute_result"
    }
   ],
   "source": [
    "cal_acc(weights) "
   ]
  },
  {
   "cell_type": "code",
   "execution_count": 109,
   "id": "846a3477-cf15-4767-818f-9a03c3808f2b",
   "metadata": {
    "tags": []
   },
   "outputs": [
    {
     "data": {
      "text/plain": [
       "tensor([ 1.4085,  0.2848,  0.3573,  0.1364,  0.0690,  0.0776,  1.4731,  1.0870,\n",
       "         0.1872,  1.4643, -0.0442,  0.4292,  0.0619,  1.3083, -0.0534,  0.5524,\n",
       "         0.5191,  1.1547,  0.0676,  0.9832])"
      ]
     },
     "execution_count": 109,
     "metadata": {},
     "output_type": "execute_result"
    }
   ],
   "source": [
    "preds[:20]"
   ]
  },
  {
   "cell_type": "code",
   "execution_count": 110,
   "id": "b3b3ede6-47ae-41dd-a4e8-e5894af9aa12",
   "metadata": {
    "tags": []
   },
   "outputs": [
    {
     "data": {
      "image/png": "[encoded data removed]",
      "text/plain": [
       "<Figure size 640x480 with 1 Axes>"
      ]
     },
     "metadata": {},
     "output_type": "display_data"
    },
    {
     "data": {
      "text/plain": [
       "<sympy.plotting.plot.Plot at 0x7fa2ae985bd0>"
      ]
     },
     "execution_count": 110,
     "metadata": {},
     "output_type": "execute_result"
    }
   ],
   "source": [
    "import sympy\n",
    "sympy.plot(\"1/(1+exp(-x))\",xlim=(-5,5))"
   ]
  },
  {
   "cell_type": "code",
   "execution_count": 128,
   "id": "1228bdc6-1351-4454-89b9-4d696da58b4d",
   "metadata": {
    "tags": []
   },
   "outputs": [],
   "source": [
    "def cal_pred(weights,t_indep): return torch.sigmoid((t_indep*weights).sum(axis=1))"
   ]
  },
  {
   "cell_type": "code",
   "execution_count": 129,
   "id": "cf687ae8-e9dc-4c61-94d6-8c6b80ac44bb",
   "metadata": {
    "tags": []
   },
   "outputs": [
    {
     "name": "stdout",
     "output_type": "stream",
     "text": [
      "loss:0.503;\n",
      "loss:0.501;\n",
      "loss:0.497;\n",
      "loss:0.490;\n",
      "loss:0.482;\n",
      "loss:0.471;\n",
      "loss:0.459;\n",
      "loss:0.445;\n",
      "loss:0.430;\n",
      "loss:0.415;\n",
      "loss:0.399;\n",
      "loss:0.384;\n",
      "loss:0.370;\n",
      "loss:0.358;\n",
      "loss:0.346;\n",
      "loss:0.336;\n",
      "loss:0.328;\n",
      "loss:0.321;\n",
      "loss:0.314;\n",
      "loss:0.309;\n"
     ]
    }
   ],
   "source": [
    "weights = train_model(len(indep_cols),20,0.1)"
   ]
  },
  {
   "cell_type": "code",
   "execution_count": 130,
   "id": "68f348fa-567a-437b-a99b-58117302b18d",
   "metadata": {
    "tags": []
   },
   "outputs": [
    {
     "data": {
      "text/plain": [
       "tensor(0.7079)"
      ]
     },
     "execution_count": 130,
     "metadata": {},
     "output_type": "execute_result"
    }
   ],
   "source": [
    "cal_acc(weights)"
   ]
  },
  {
   "cell_type": "code",
   "execution_count": 131,
   "id": "500aee1e-c839-4880-a7e6-f0f77a7f2fa1",
   "metadata": {
    "tags": []
   },
   "outputs": [
    {
     "data": {
      "text/plain": [
       "{'Age': tensor(-0.8473),\n",
       " 'SibSp': tensor(0.0566),\n",
       " 'Parch': tensor(0.2316),\n",
       " 'logfare': tensor(-0.4314),\n",
       " 'Sex_female': tensor(0.5792),\n",
       " 'Sex_male': tensor(-2.0885),\n",
       " 'Pclass_1': tensor(0.7963),\n",
       " 'Pclass_2': tensor(0.2891),\n",
       " 'Pclass_3': tensor(-0.9358),\n",
       " 'Embarked_C': tensor(-0.3155),\n",
       " 'Embarked_Q': tensor(0.1339),\n",
       " 'Embarked_S': tensor(-0.6161)}"
      ]
     },
     "execution_count": 131,
     "metadata": {},
     "output_type": "execute_result"
    }
   ],
   "source": [
    "show_coeff()"
   ]
  },
  {
   "cell_type": "code",
   "execution_count": 124,
   "id": "c51d305a-a87f-4bd1-8c55-b7927e713fb9",
   "metadata": {
    "tags": []
   },
   "outputs": [],
   "source": []
  },
  {
   "cell_type": "code",
   "execution_count": 138,
   "id": "ef16240b-901f-4780-909b-57db04c00d65",
   "metadata": {
    "tags": []
   },
   "outputs": [],
   "source": [
    "tst_df = pd.read_csv(\"test.csv\")\n",
    "tst_df.Fare = tst_df.Fare.fillna(0)\n",
    "tst_df.fillna(modes,inplace=True)\n",
    "tst_df['logfare'] = np.log(tst_df.Fare+1)\n",
    "tst_df = pd.get_dummies(tst_df, columns=['Sex','Pclass','Embarked'],dtype=int)\n",
    "\n",
    "tst_tens = tensor(tst_df[indep_cols].values,dtype=torch.float)\n",
    "tst_tens = tst_tens/val"
   ]
  },
  {
   "cell_type": "code",
   "execution_count": 142,
   "id": "fd8b49f3-0ed7-434a-bfbd-e5141fb2bf8c",
   "metadata": {
    "tags": []
   },
   "outputs": [],
   "source": [
    "tst_df['Survived'] = (cal_pred(weights,tst_tens)>0.5).int()"
   ]
  },
  {
   "cell_type": "code",
   "execution_count": 145,
   "id": "ca537d53-7b38-4fef-9a6d-3b9c99f24b27",
   "metadata": {
    "tags": []
   },
   "outputs": [],
   "source": [
    "sub_df = tst_df[['PassengerId','Survived']]\n",
    "sub_df.to_csv('submission.csv')"
   ]
  },
  {
   "cell_type": "code",
   "execution_count": 146,
   "id": "6d2bfd76-a894-4fad-b77c-53282002cb6d",
   "metadata": {
    "tags": []
   },
   "outputs": [],
   "source": [
    "def cal_pred(weights,t_indep) : return torch.sigmoid(t_indep@weights)"
   ]
  },
  {
   "cell_type": "code",
   "execution_count": 147,
   "id": "a98bcc2b-e192-4618-9e7e-8c0850b52974",
   "metadata": {
    "tags": []
   },
   "outputs": [],
   "source": [
    "def init_coeff(n_coeff): return (torch.rand(n_coeff,1)*0.1).requires_grad_()"
   ]
  },
  {
   "cell_type": "code",
   "execution_count": 148,
   "id": "3c65f6d7-f92e-445b-87fa-c171aaf2a70c",
   "metadata": {
    "collapsed": true,
    "jupyter": {
     "outputs_hidden": true
    },
    "tags": []
   },
   "outputs": [
    {
     "data": {
      "text/plain": [
       "tensor([[0.0672],\n",
       "        [0.0732],\n",
       "        [0.0142],\n",
       "        [0.0499],\n",
       "        [0.0317],\n",
       "        [0.0259],\n",
       "        [0.0549],\n",
       "        [0.0587],\n",
       "        [0.0447],\n",
       "        [0.0813],\n",
       "        [0.0351],\n",
       "        [0.0245]], requires_grad=True)"
      ]
     },
     "execution_count": 148,
     "metadata": {},
     "output_type": "execute_result"
    }
   ],
   "source": [
    "init_coeff(len(indep_cols))"
   ]
  },
  {
   "cell_type": "code",
   "execution_count": 149,
   "id": "ba1921c2-4332-45dd-871f-6b795bd50dad",
   "metadata": {
    "tags": []
   },
   "outputs": [],
   "source": [
    "trn_dep = trn_dep[:,None]\n",
    "val_dep = val_dep[:,None]"
   ]
  },
  {
   "cell_type": "code",
   "execution_count": 152,
   "id": "12e2d0c5-e094-488e-b60b-3a3ece9cb796",
   "metadata": {
    "collapsed": true,
    "jupyter": {
     "outputs_hidden": true
    },
    "tags": []
   },
   "outputs": [
    {
     "name": "stdout",
     "output_type": "stream",
     "text": [
      "loss:0.512;\n",
      "loss:0.510;\n",
      "loss:0.505;\n",
      "loss:0.499;\n",
      "loss:0.490;\n",
      "loss:0.479;\n",
      "loss:0.467;\n",
      "loss:0.452;\n",
      "loss:0.436;\n",
      "loss:0.419;\n",
      "loss:0.402;\n",
      "loss:0.385;\n",
      "loss:0.369;\n",
      "loss:0.355;\n",
      "loss:0.342;\n",
      "loss:0.331;\n",
      "loss:0.322;\n",
      "loss:0.314;\n",
      "loss:0.308;\n",
      "loss:0.302;\n",
      "loss:0.297;\n",
      "loss:0.292;\n",
      "loss:0.288;\n",
      "loss:0.284;\n",
      "loss:0.280;\n",
      "loss:0.276;\n",
      "loss:0.272;\n",
      "loss:0.268;\n",
      "loss:0.264;\n",
      "loss:0.260;\n"
     ]
    }
   ],
   "source": [
    "weights = train_model(len(indep_cols),lr=2)"
   ]
  },
  {
   "cell_type": "code",
   "execution_count": 153,
   "id": "eed6076e-ce3b-4a63-8242-7d1552a5e37b",
   "metadata": {
    "tags": []
   },
   "outputs": [
    {
     "data": {
      "text/plain": [
       "tensor(0.7921)"
      ]
     },
     "execution_count": 153,
     "metadata": {},
     "output_type": "execute_result"
    }
   ],
   "source": [
    "cal_acc(weights)"
   ]
  },
  {
   "cell_type": "code",
   "execution_count": 190,
   "id": "02490a2e-2b90-4295-86d3-8938a3eb5d85",
   "metadata": {
    "tags": []
   },
   "outputs": [],
   "source": [
    "def init_coeff(n_coeff,n_hidden=20):\n",
    "    layer1 = (torch.rand(n_coeff,n_hidden)-0.5)/n_hidden\n",
    "    layer2 = torch.rand(n_hidden,1)-0.3\n",
    "    const = torch.rand(1)[0]\n",
    "    return layer1.requires_grad_(),layer2.requires_grad_(),const.requires_grad_()"
   ]
  },
  {
   "cell_type": "code",
   "execution_count": 191,
   "id": "a7a1f45f-a01d-4d15-b3c0-98e5b8657331",
   "metadata": {
    "tags": []
   },
   "outputs": [],
   "source": [
    "import torch.nn.functional as F"
   ]
  },
  {
   "cell_type": "code",
   "execution_count": 192,
   "id": "d6da1376-235f-459b-a4b8-e9135a5f77ba",
   "metadata": {
    "tags": []
   },
   "outputs": [],
   "source": [
    "def cal_pred(weights,indpen):\n",
    "    l1,l2,c = weights\n",
    "    res = F.relu(indpen@l1)\n",
    "    res = res@l2+c\n",
    "    return F.sigmoid(res)"
   ]
  },
  {
   "cell_type": "code",
   "execution_count": 193,
   "id": "4a22226e-c96d-46da-bb3e-83e9e9617e7a",
   "metadata": {
    "tags": []
   },
   "outputs": [],
   "source": [
    "def update_coeff(weights,lr):\n",
    "    for layer in weights: layer.sub_(layer.grad*lr)"
   ]
  },
  {
   "cell_type": "code",
   "execution_count": 194,
   "id": "fdb79b58-53eb-4533-b4c8-554ed0192139",
   "metadata": {
    "collapsed": true,
    "jupyter": {
     "outputs_hidden": true
    },
    "tags": []
   },
   "outputs": [
    {
     "name": "stdout",
     "output_type": "stream",
     "text": [
      "loss:0.544;\n",
      "loss:0.533;\n",
      "loss:0.511;\n",
      "loss:0.467;\n",
      "loss:0.392;\n",
      "loss:0.302;\n",
      "loss:0.252;\n",
      "loss:0.225;\n",
      "loss:0.209;\n",
      "loss:0.203;\n",
      "loss:0.201;\n",
      "loss:0.200;\n",
      "loss:0.196;\n",
      "loss:0.193;\n",
      "loss:0.192;\n",
      "loss:0.192;\n",
      "loss:0.192;\n",
      "loss:0.192;\n",
      "loss:0.192;\n",
      "loss:0.192;\n",
      "loss:0.192;\n",
      "loss:0.192;\n",
      "loss:0.192;\n",
      "loss:0.192;\n",
      "loss:0.192;\n",
      "loss:0.192;\n",
      "loss:0.192;\n",
      "loss:0.192;\n",
      "loss:0.192;\n",
      "loss:0.192;\n"
     ]
    }
   ],
   "source": [
    "weights = train_model(len(indep_cols),lr =1.4)"
   ]
  },
  {
   "cell_type": "code",
   "execution_count": 195,
   "id": "53b7e320-234d-4cf2-a70d-afeb00722068",
   "metadata": {
    "tags": []
   },
   "outputs": [
    {
     "data": {
      "text/plain": [
       "tensor(0.8258)"
      ]
     },
     "execution_count": 195,
     "metadata": {},
     "output_type": "execute_result"
    }
   ],
   "source": [
    "cal_acc(weights)"
   ]
  },
  {
   "cell_type": "markdown",
   "id": "437f3c80-7945-45bf-8c03-e0150fd6aec1",
   "metadata": {},
   "source": [
    "## Deep learning :::P"
   ]
  },
  {
   "cell_type": "code",
   "execution_count": 204,
   "id": "e802ca8f-93b1-4426-ac54-144ea7826484",
   "metadata": {
    "tags": []
   },
   "outputs": [],
   "source": [
    "def init_coeff(n_coeff):\n",
    "    hidden_layers = [10,10]\n",
    "    size = [n_coeff] + hidden_layers + [1]\n",
    "    n = len(size)\n",
    "    layers = [(torch.rand(size[i],size[i+1])-0.3)/size[i+1]*4  for i in range(n-1)]\n",
    "    constants = [torch.rand(1)[0]-0.5 for i in range(n-1)]\n",
    "    for coeff in layers+constants : coeff.requires_grad_()\n",
    "    return layers, constants"
   ]
  },
  {
   "cell_type": "code",
   "execution_count": 208,
   "id": "5dd28a49-f4e8-4e16-8b0e-014dba66b64f",
   "metadata": {
    "tags": []
   },
   "outputs": [],
   "source": [
    "def cal_pred(coeffs,indep):\n",
    "    layers, constants = coeffs\n",
    "    n = len(layers)\n",
    "    res = indep\n",
    "    for i in range(n):\n",
    "        res = res@layers[i] + constants[i]\n",
    "        if i!=n-1: res = F.relu(res)\n",
    "    return torch.sigmoid(res)"
   ]
  },
  {
   "cell_type": "code",
   "execution_count": 209,
   "id": "b656d364-84a0-4ced-85b1-699ccc56118a",
   "metadata": {
    "tags": []
   },
   "outputs": [],
   "source": [
    "def update_coeff(coeffs,lr):\n",
    "    layers, constants = coeffs\n",
    "    for coeff in layers+constants : coeff.sub_(coeff.grad*lr)"
   ]
  },
  {
   "cell_type": "code",
   "execution_count": 210,
   "id": "0704a330-86e0-49e6-ab08-1ce3b1d9bc0c",
   "metadata": {
    "tags": []
   },
   "outputs": [
    {
     "name": "stdout",
     "output_type": "stream",
     "text": [
      "loss:0.536;\n",
      "loss:0.400;\n",
      "loss:0.368;\n",
      "loss:0.357;\n",
      "loss:0.329;\n",
      "loss:0.315;\n",
      "loss:0.300;\n",
      "loss:0.264;\n",
      "loss:0.212;\n",
      "loss:0.196;\n",
      "loss:0.196;\n",
      "loss:0.196;\n",
      "loss:0.193;\n",
      "loss:0.192;\n",
      "loss:0.192;\n",
      "loss:0.192;\n",
      "loss:0.192;\n",
      "loss:0.192;\n",
      "loss:0.192;\n",
      "loss:0.192;\n",
      "loss:0.192;\n",
      "loss:0.192;\n",
      "loss:0.192;\n",
      "loss:0.192;\n",
      "loss:0.192;\n",
      "loss:0.190;\n",
      "loss:0.206;\n",
      "loss:0.191;\n",
      "loss:0.192;\n",
      "loss:0.192;\n"
     ]
    }
   ],
   "source": [
    "coeffs = train_model(len(indep_cols),lr=1)"
   ]
  },
  {
   "cell_type": "code",
   "execution_count": 212,
   "id": "dbd8c5fa-1a7d-43e2-b0f8-75fc993ef5a9",
   "metadata": {
    "tags": []
   },
   "outputs": [
    {
     "data": {
      "text/plain": [
       "tensor(0.8258)"
      ]
     },
     "execution_count": 212,
     "metadata": {},
     "output_type": "execute_result"
    }
   ],
   "source": [
    "cal_acc(coeffs)"
   ]
  },
  {
   "cell_type": "markdown",
   "id": "b5c8f68b-673b-44f0-ac64-d911777609e8",
   "metadata": {},
   "source": [
    "# Using the framework"
   ]
  },
  {
   "cell_type": "markdown",
   "id": "e65e4c9c-acdc-472e-9269-9cf6c3d31969",
   "metadata": {
    "tags": []
   },
   "source": [
    "# Ensembling"
   ]
  },
  {
   "cell_type": "markdown",
   "id": "7003c1e6-e6b7-49d4-a270-df0dab3f6ff7",
   "metadata": {},
   "source": [
    "# Book - Chapter 9\n",
    "\n",
    "- Ensemble of decision trees (Random forest, gardient boosting machine) for structured data\n",
    "- Shallow or deep learning networks for unstructured data\n",
    "- Bagging : train model on different subset of data and average the predictions (random forest)\n",
    "- Boosting : train a small model that underfits on entire data and calculate residuals (predicted - actual) use them as target for training next model. Final prediction is addition of prediction from each tree instead of average\n",
    "- Use embeddings from neural networks to train maching learning model (shown to improve the performance significantly)\n",
    "\n",
    "## TODO - \n",
    "- [ ] Pick a competition on Kaggle with tabular data (current or past) and try to adapt the techniques seen in this chapter to get the best possible results. Compare your results to the private leaderboard.\n",
    "- [ ] Implement the decision tree algorithm in this chapter from scratch yourself, and try it on the dataset you used in the first exercise.\n",
    "- [ ] Use the embeddings from the neural net in this chapter in a random forest, and see if you can improve on the random forest results we saw.\n",
    "- [ ] Explain what each line of the source of TabularModel does (with the exception of the BatchNorm1d and Dropout layers).\n",
    "- [ ] Make a list of reasons why a model's validation set error might be worse than the OOB error. How could you test your hypotheses?\n"
   ]
  },
  {
   "cell_type": "code",
   "execution_count": 1,
   "id": "318eccf9-5324-461c-ad51-f73309e1dfe1",
   "metadata": {
    "tags": []
   },
   "outputs": [],
   "source": [
    "# !pip install kaggle\n",
    "from fastbook import *\n",
    "from pandas.api.types import is_string_dtype, is_numeric_dtype, is_categorical_dtype\n",
    "from fastai.tabular.all import *\n",
    "from sklearn.ensemble import RandomForestRegressor\n",
    "from sklearn.tree import DecisionTreeRegressor\n",
    "from dtreeviz.trees import *\n",
    "from IPython.display import Image, display_svg, SVG\n",
    "\n",
    "pd.options.display.max_rows = 20\n",
    "pd.options.display.max_columns = 8"
   ]
  },
  {
   "cell_type": "markdown",
   "id": "1deafeb9-6580-4b8a-8fd3-94370a55af7d",
   "metadata": {
    "jp-MarkdownHeadingCollapsed": true,
    "tags": []
   },
   "source": [
    "# Data Import and load"
   ]
  },
  {
   "cell_type": "code",
   "execution_count": 2,
   "id": "6c3b35b3-ccb4-4084-b142-f57e4bf992b4",
   "metadata": {
    "tags": []
   },
   "outputs": [
    {
     "data": {
      "text/plain": [
       "Path('/home/nehaiitr/.fastai/archive/bluebook-for-bulldozers')"
      ]
     },
     "execution_count": 2,
     "metadata": {},
     "output_type": "execute_result"
    }
   ],
   "source": [
    "comp = 'bluebook-for-bulldozers'\n",
    "path = URLs.path(comp)\n",
    "path"
   ]
  },
  {
   "cell_type": "code",
   "execution_count": 3,
   "id": "4ee27de3-6119-4479-83b9-51ce99e62c68",
   "metadata": {
    "tags": []
   },
   "outputs": [],
   "source": [
    "Path.BASE_PATH = path"
   ]
  },
  {
   "cell_type": "code",
   "execution_count": 231,
   "id": "9a035e67-f390-4939-ac32-8b6ba1ef21c6",
   "metadata": {
    "tags": []
   },
   "outputs": [],
   "source": [
    "import os\n",
    "kaggle_data={\"username\":\"nehabansal\",\"key\":\"840889ffda71e97d179de222af1350e1\"}\n",
    "os.environ['KAGGLE_USERNAME']=kaggle_data[\"username\"]\n",
    "os.environ['KAGGLE_KEY']=kaggle_data[\"key\"]\n"
   ]
  },
  {
   "cell_type": "code",
   "execution_count": 232,
   "id": "dfada341-527c-4506-a60e-650200e02e3d",
   "metadata": {
    "tags": []
   },
   "outputs": [
    {
     "name": "stdout",
     "output_type": "stream",
     "text": [
      "Downloading bluebook-for-bulldozers.zip to /home/nehaiitr/.fastai/archive/bluebook-for-bulldozers\n"
     ]
    },
    {
     "name": "stderr",
     "output_type": "stream",
     "text": [
      "100%|█████████████████████████████████████████████████████████████████████████████████████████████████████████████████████████████████████████████████████████████████| 48.4M/48.4M [00:02<00:00, 24.0MB/s]\n"
     ]
    },
    {
     "name": "stdout",
     "output_type": "stream",
     "text": [
      "\n"
     ]
    },
    {
     "data": {
      "text/plain": [
       "(#7) [Path('Test.csv'),Path('random_forest_benchmark_test.csv'),Path('ValidSolution.csv'),Path('Valid.csv'),Path('TrainAndValid.csv'),Path('median_benchmark.csv'),Path('Machine_Appendix.csv')]"
      ]
     },
     "execution_count": 232,
     "metadata": {},
     "output_type": "execute_result"
    }
   ],
   "source": [
    "from kaggle import api\n",
    "\n",
    "if not path.exists():\n",
    "    path.mkdir(parents=true)\n",
    "    api.competition_download_cli(comp, path=path)\n",
    "    shutil.unpack_archive(str(path/f'{comp}.zip'), str(path))\n",
    "\n",
    "path.ls(file_type='text')\n",
    "     \n"
   ]
  },
  {
   "cell_type": "code",
   "execution_count": 4,
   "id": "0bf061e4-fa3c-462d-9ee1-6d9dc32a6389",
   "metadata": {
    "tags": []
   },
   "outputs": [],
   "source": [
    "## important use of low_memory here\n",
    "df = pd.read_csv(path/'TrainAndValid.csv',low_memory=False)"
   ]
  },
  {
   "cell_type": "code",
   "execution_count": 234,
   "id": "e66d6cc3-4897-4cc4-ab28-6e1e854450a3",
   "metadata": {
    "collapsed": true,
    "jupyter": {
     "outputs_hidden": true
    },
    "tags": []
   },
   "outputs": [
    {
     "data": {
      "text/html": [
       "<div>\n",
       "<style scoped>\n",
       "    .dataframe tbody tr th:only-of-type {\n",
       "        vertical-align: middle;\n",
       "    }\n",
       "\n",
       "    .dataframe tbody tr th {\n",
       "        vertical-align: top;\n",
       "    }\n",
       "\n",
       "    .dataframe thead th {\n",
       "        text-align: right;\n",
       "    }\n",
       "</style>\n",
       "<table border=\"1\" class=\"dataframe\">\n",
       "  <thead>\n",
       "    <tr style=\"text-align: right;\">\n",
       "      <th></th>\n",
       "      <th>SalesID</th>\n",
       "      <th>SalePrice</th>\n",
       "      <th>MachineID</th>\n",
       "      <th>ModelID</th>\n",
       "      <th>...</th>\n",
       "      <th>Blade_Type</th>\n",
       "      <th>Travel_Controls</th>\n",
       "      <th>Differential_Type</th>\n",
       "      <th>Steering_Controls</th>\n",
       "    </tr>\n",
       "  </thead>\n",
       "  <tbody>\n",
       "    <tr>\n",
       "      <th>0</th>\n",
       "      <td>1139246</td>\n",
       "      <td>66000.0</td>\n",
       "      <td>999089</td>\n",
       "      <td>3157</td>\n",
       "      <td>...</td>\n",
       "      <td>NaN</td>\n",
       "      <td>NaN</td>\n",
       "      <td>Standard</td>\n",
       "      <td>Conventional</td>\n",
       "    </tr>\n",
       "    <tr>\n",
       "      <th>1</th>\n",
       "      <td>1139248</td>\n",
       "      <td>57000.0</td>\n",
       "      <td>117657</td>\n",
       "      <td>77</td>\n",
       "      <td>...</td>\n",
       "      <td>NaN</td>\n",
       "      <td>NaN</td>\n",
       "      <td>Standard</td>\n",
       "      <td>Conventional</td>\n",
       "    </tr>\n",
       "    <tr>\n",
       "      <th>2</th>\n",
       "      <td>1139249</td>\n",
       "      <td>10000.0</td>\n",
       "      <td>434808</td>\n",
       "      <td>7009</td>\n",
       "      <td>...</td>\n",
       "      <td>NaN</td>\n",
       "      <td>NaN</td>\n",
       "      <td>NaN</td>\n",
       "      <td>NaN</td>\n",
       "    </tr>\n",
       "    <tr>\n",
       "      <th>3</th>\n",
       "      <td>1139251</td>\n",
       "      <td>38500.0</td>\n",
       "      <td>1026470</td>\n",
       "      <td>332</td>\n",
       "      <td>...</td>\n",
       "      <td>NaN</td>\n",
       "      <td>NaN</td>\n",
       "      <td>NaN</td>\n",
       "      <td>NaN</td>\n",
       "    </tr>\n",
       "    <tr>\n",
       "      <th>4</th>\n",
       "      <td>1139253</td>\n",
       "      <td>11000.0</td>\n",
       "      <td>1057373</td>\n",
       "      <td>17311</td>\n",
       "      <td>...</td>\n",
       "      <td>NaN</td>\n",
       "      <td>NaN</td>\n",
       "      <td>NaN</td>\n",
       "      <td>NaN</td>\n",
       "    </tr>\n",
       "  </tbody>\n",
       "</table>\n",
       "<p>5 rows × 53 columns</p>\n",
       "</div>"
      ],
      "text/plain": [
       "   SalesID  SalePrice  MachineID  ModelID  ...  Blade_Type  Travel_Controls  \\\n",
       "0  1139246    66000.0     999089     3157  ...         NaN              NaN   \n",
       "1  1139248    57000.0     117657       77  ...         NaN              NaN   \n",
       "2  1139249    10000.0     434808     7009  ...         NaN              NaN   \n",
       "3  1139251    38500.0    1026470      332  ...         NaN              NaN   \n",
       "4  1139253    11000.0    1057373    17311  ...         NaN              NaN   \n",
       "\n",
       "   Differential_Type  Steering_Controls  \n",
       "0           Standard       Conventional  \n",
       "1           Standard       Conventional  \n",
       "2                NaN                NaN  \n",
       "3                NaN                NaN  \n",
       "4                NaN                NaN  \n",
       "\n",
       "[5 rows x 53 columns]"
      ]
     },
     "execution_count": 234,
     "metadata": {},
     "output_type": "execute_result"
    }
   ],
   "source": [
    "df.head()"
   ]
  },
  {
   "cell_type": "code",
   "execution_count": 235,
   "id": "627ff039-2557-4021-bc97-b4c682d8d738",
   "metadata": {
    "collapsed": true,
    "jupyter": {
     "outputs_hidden": true
    },
    "tags": []
   },
   "outputs": [
    {
     "data": {
      "text/html": [
       "<div>\n",
       "<style scoped>\n",
       "    .dataframe tbody tr th:only-of-type {\n",
       "        vertical-align: middle;\n",
       "    }\n",
       "\n",
       "    .dataframe tbody tr th {\n",
       "        vertical-align: top;\n",
       "    }\n",
       "\n",
       "    .dataframe thead th {\n",
       "        text-align: right;\n",
       "    }\n",
       "</style>\n",
       "<table border=\"1\" class=\"dataframe\">\n",
       "  <thead>\n",
       "    <tr style=\"text-align: right;\">\n",
       "      <th></th>\n",
       "      <th>SalesID</th>\n",
       "      <th>SalePrice</th>\n",
       "      <th>MachineID</th>\n",
       "      <th>ModelID</th>\n",
       "      <th>datasource</th>\n",
       "      <th>auctioneerID</th>\n",
       "      <th>YearMade</th>\n",
       "      <th>MachineHoursCurrentMeter</th>\n",
       "    </tr>\n",
       "  </thead>\n",
       "  <tbody>\n",
       "    <tr>\n",
       "      <th>count</th>\n",
       "      <td>4.126980e+05</td>\n",
       "      <td>412698.000000</td>\n",
       "      <td>4.126980e+05</td>\n",
       "      <td>412698.000000</td>\n",
       "      <td>412698.000000</td>\n",
       "      <td>392562.000000</td>\n",
       "      <td>412698.000000</td>\n",
       "      <td>1.475040e+05</td>\n",
       "    </tr>\n",
       "    <tr>\n",
       "      <th>mean</th>\n",
       "      <td>2.011161e+06</td>\n",
       "      <td>31215.181414</td>\n",
       "      <td>1.230061e+06</td>\n",
       "      <td>6947.201828</td>\n",
       "      <td>135.169361</td>\n",
       "      <td>6.585268</td>\n",
       "      <td>1899.049637</td>\n",
       "      <td>3.522988e+03</td>\n",
       "    </tr>\n",
       "    <tr>\n",
       "      <th>std</th>\n",
       "      <td>1.080068e+06</td>\n",
       "      <td>23141.743695</td>\n",
       "      <td>4.539533e+05</td>\n",
       "      <td>6280.824982</td>\n",
       "      <td>9.646749</td>\n",
       "      <td>17.158409</td>\n",
       "      <td>292.190243</td>\n",
       "      <td>2.716993e+04</td>\n",
       "    </tr>\n",
       "    <tr>\n",
       "      <th>min</th>\n",
       "      <td>1.139246e+06</td>\n",
       "      <td>4750.000000</td>\n",
       "      <td>0.000000e+00</td>\n",
       "      <td>28.000000</td>\n",
       "      <td>121.000000</td>\n",
       "      <td>0.000000</td>\n",
       "      <td>1000.000000</td>\n",
       "      <td>0.000000e+00</td>\n",
       "    </tr>\n",
       "    <tr>\n",
       "      <th>25%</th>\n",
       "      <td>1.421898e+06</td>\n",
       "      <td>14500.000000</td>\n",
       "      <td>1.088593e+06</td>\n",
       "      <td>3261.000000</td>\n",
       "      <td>132.000000</td>\n",
       "      <td>1.000000</td>\n",
       "      <td>1985.000000</td>\n",
       "      <td>0.000000e+00</td>\n",
       "    </tr>\n",
       "    <tr>\n",
       "      <th>50%</th>\n",
       "      <td>1.645852e+06</td>\n",
       "      <td>24000.000000</td>\n",
       "      <td>1.284397e+06</td>\n",
       "      <td>4605.000000</td>\n",
       "      <td>132.000000</td>\n",
       "      <td>2.000000</td>\n",
       "      <td>1995.000000</td>\n",
       "      <td>0.000000e+00</td>\n",
       "    </tr>\n",
       "    <tr>\n",
       "      <th>75%</th>\n",
       "      <td>2.261012e+06</td>\n",
       "      <td>40000.000000</td>\n",
       "      <td>1.478079e+06</td>\n",
       "      <td>8899.000000</td>\n",
       "      <td>136.000000</td>\n",
       "      <td>4.000000</td>\n",
       "      <td>2001.000000</td>\n",
       "      <td>3.209000e+03</td>\n",
       "    </tr>\n",
       "    <tr>\n",
       "      <th>max</th>\n",
       "      <td>6.333349e+06</td>\n",
       "      <td>142000.000000</td>\n",
       "      <td>2.486330e+06</td>\n",
       "      <td>37198.000000</td>\n",
       "      <td>173.000000</td>\n",
       "      <td>99.000000</td>\n",
       "      <td>2014.000000</td>\n",
       "      <td>2.483300e+06</td>\n",
       "    </tr>\n",
       "  </tbody>\n",
       "</table>\n",
       "</div>"
      ],
      "text/plain": [
       "            SalesID      SalePrice     MachineID        ModelID  \\\n",
       "count  4.126980e+05  412698.000000  4.126980e+05  412698.000000   \n",
       "mean   2.011161e+06   31215.181414  1.230061e+06    6947.201828   \n",
       "std    1.080068e+06   23141.743695  4.539533e+05    6280.824982   \n",
       "min    1.139246e+06    4750.000000  0.000000e+00      28.000000   \n",
       "25%    1.421898e+06   14500.000000  1.088593e+06    3261.000000   \n",
       "50%    1.645852e+06   24000.000000  1.284397e+06    4605.000000   \n",
       "75%    2.261012e+06   40000.000000  1.478079e+06    8899.000000   \n",
       "max    6.333349e+06  142000.000000  2.486330e+06   37198.000000   \n",
       "\n",
       "          datasource   auctioneerID       YearMade  MachineHoursCurrentMeter  \n",
       "count  412698.000000  392562.000000  412698.000000              1.475040e+05  \n",
       "mean      135.169361       6.585268    1899.049637              3.522988e+03  \n",
       "std         9.646749      17.158409     292.190243              2.716993e+04  \n",
       "min       121.000000       0.000000    1000.000000              0.000000e+00  \n",
       "25%       132.000000       1.000000    1985.000000              0.000000e+00  \n",
       "50%       132.000000       2.000000    1995.000000              0.000000e+00  \n",
       "75%       136.000000       4.000000    2001.000000              3.209000e+03  \n",
       "max       173.000000      99.000000    2014.000000              2.483300e+06  "
      ]
     },
     "execution_count": 235,
     "metadata": {},
     "output_type": "execute_result"
    }
   ],
   "source": [
    "df.describe()"
   ]
  },
  {
   "cell_type": "code",
   "execution_count": 239,
   "id": "477c8992-86e0-4f4c-8371-a050014def16",
   "metadata": {
    "collapsed": true,
    "jupyter": {
     "outputs_hidden": true
    },
    "tags": []
   },
   "outputs": [
    {
     "data": {
      "text/html": [
       "<div>\n",
       "<style scoped>\n",
       "    .dataframe tbody tr th:only-of-type {\n",
       "        vertical-align: middle;\n",
       "    }\n",
       "\n",
       "    .dataframe tbody tr th {\n",
       "        vertical-align: top;\n",
       "    }\n",
       "\n",
       "    .dataframe thead th {\n",
       "        text-align: right;\n",
       "    }\n",
       "</style>\n",
       "<table border=\"1\" class=\"dataframe\">\n",
       "  <thead>\n",
       "    <tr style=\"text-align: right;\">\n",
       "      <th></th>\n",
       "      <th>count</th>\n",
       "      <th>unique</th>\n",
       "      <th>top</th>\n",
       "      <th>freq</th>\n",
       "    </tr>\n",
       "  </thead>\n",
       "  <tbody>\n",
       "    <tr>\n",
       "      <th>UsageBand</th>\n",
       "      <td>73670</td>\n",
       "      <td>3</td>\n",
       "      <td>Medium</td>\n",
       "      <td>35832</td>\n",
       "    </tr>\n",
       "    <tr>\n",
       "      <th>saledate</th>\n",
       "      <td>412698</td>\n",
       "      <td>4013</td>\n",
       "      <td>2/16/2009 0:00</td>\n",
       "      <td>1932</td>\n",
       "    </tr>\n",
       "    <tr>\n",
       "      <th>fiModelDesc</th>\n",
       "      <td>412698</td>\n",
       "      <td>5059</td>\n",
       "      <td>310G</td>\n",
       "      <td>5348</td>\n",
       "    </tr>\n",
       "    <tr>\n",
       "      <th>fiBaseModel</th>\n",
       "      <td>412698</td>\n",
       "      <td>1961</td>\n",
       "      <td>580</td>\n",
       "      <td>20179</td>\n",
       "    </tr>\n",
       "    <tr>\n",
       "      <th>fiSecondaryDesc</th>\n",
       "      <td>271971</td>\n",
       "      <td>177</td>\n",
       "      <td>C</td>\n",
       "      <td>44431</td>\n",
       "    </tr>\n",
       "    <tr>\n",
       "      <th>...</th>\n",
       "      <td>...</td>\n",
       "      <td>...</td>\n",
       "      <td>...</td>\n",
       "      <td>...</td>\n",
       "    </tr>\n",
       "    <tr>\n",
       "      <th>Backhoe_Mounting</th>\n",
       "      <td>80712</td>\n",
       "      <td>2</td>\n",
       "      <td>None or Unspecified</td>\n",
       "      <td>80692</td>\n",
       "    </tr>\n",
       "    <tr>\n",
       "      <th>Blade_Type</th>\n",
       "      <td>81875</td>\n",
       "      <td>10</td>\n",
       "      <td>PAT</td>\n",
       "      <td>39633</td>\n",
       "    </tr>\n",
       "    <tr>\n",
       "      <th>Travel_Controls</th>\n",
       "      <td>81877</td>\n",
       "      <td>7</td>\n",
       "      <td>None or Unspecified</td>\n",
       "      <td>71447</td>\n",
       "    </tr>\n",
       "    <tr>\n",
       "      <th>Differential_Type</th>\n",
       "      <td>71564</td>\n",
       "      <td>4</td>\n",
       "      <td>Standard</td>\n",
       "      <td>70169</td>\n",
       "    </tr>\n",
       "    <tr>\n",
       "      <th>Steering_Controls</th>\n",
       "      <td>71522</td>\n",
       "      <td>5</td>\n",
       "      <td>Conventional</td>\n",
       "      <td>70774</td>\n",
       "    </tr>\n",
       "  </tbody>\n",
       "</table>\n",
       "<p>45 rows × 4 columns</p>\n",
       "</div>"
      ],
      "text/plain": [
       "                    count unique                  top   freq\n",
       "UsageBand           73670      3               Medium  35832\n",
       "saledate           412698   4013       2/16/2009 0:00   1932\n",
       "fiModelDesc        412698   5059                 310G   5348\n",
       "fiBaseModel        412698   1961                  580  20179\n",
       "fiSecondaryDesc    271971    177                    C  44431\n",
       "...                   ...    ...                  ...    ...\n",
       "Backhoe_Mounting    80712      2  None or Unspecified  80692\n",
       "Blade_Type          81875     10                  PAT  39633\n",
       "Travel_Controls     81877      7  None or Unspecified  71447\n",
       "Differential_Type   71564      4             Standard  70169\n",
       "Steering_Controls   71522      5         Conventional  70774\n",
       "\n",
       "[45 rows x 4 columns]"
      ]
     },
     "execution_count": 239,
     "metadata": {},
     "output_type": "execute_result"
    }
   ],
   "source": [
    "df.describe(include=object).T"
   ]
  },
  {
   "cell_type": "markdown",
   "id": "be2f52ce-00cc-4850-aeac-492bde806a84",
   "metadata": {},
   "source": [
    "## data transformation"
   ]
  },
  {
   "cell_type": "code",
   "execution_count": 240,
   "id": "73efd9fe-1090-4193-b52e-5ad083b5eead",
   "metadata": {
    "tags": []
   },
   "outputs": [
    {
     "data": {
      "text/plain": [
       "array([nan, 'Medium', 'Small', 'Large / Medium', 'Mini', 'Large', 'Compact'], dtype=object)"
      ]
     },
     "execution_count": 240,
     "metadata": {},
     "output_type": "execute_result"
    }
   ],
   "source": [
    "df.ProductSize.unique()"
   ]
  },
  {
   "cell_type": "code",
   "execution_count": 5,
   "id": "3709e68e-7592-4b2b-a0c9-7f678df43ab3",
   "metadata": {
    "tags": []
   },
   "outputs": [],
   "source": [
    "sizes = 'Large', 'Large / Medium', 'Medium','Small', 'Mini','Compact'\n",
    "df['ProductSize'] = df['ProductSize'].astype('category')\n",
    "df['ProductSize'] = df['ProductSize'].cat.set_categories(sizes,ordered =True)"
   ]
  },
  {
   "cell_type": "code",
   "execution_count": 6,
   "id": "721bfe13-f8f6-4339-a4e9-dee4c678887c",
   "metadata": {
    "tags": []
   },
   "outputs": [],
   "source": [
    "depVar = 'SalePrice'\n",
    "df.SalePrice = np.log(df.SalePrice)"
   ]
  },
  {
   "cell_type": "code",
   "execution_count": 7,
   "id": "1a22a099-0b63-4ebb-9b5a-5400c642a0be",
   "metadata": {
    "tags": []
   },
   "outputs": [
    {
     "name": "stderr",
     "output_type": "stream",
     "text": [
      "/home/nehaiitr/mambaforge/envs/jlabenv/lib/python3.11/site-packages/fastai/tabular/core.py:23: UserWarning: The argument 'infer_datetime_format' is deprecated and will be removed in a future version. A strict version of it is now the default, see https://pandas.pydata.org/pdeps/0004-consistent-to-datetime-parsing.html. You can safely remove this argument.\n"
     ]
    }
   ],
   "source": [
    "df = add_datepart(df,'saledate')"
   ]
  },
  {
   "cell_type": "code",
   "execution_count": 8,
   "id": "2d563eaa-0f14-4fb0-bfa8-56a895abb3b4",
   "metadata": {
    "tags": []
   },
   "outputs": [
    {
     "data": {
      "text/html": [
       "<div>\n",
       "<style scoped>\n",
       "    .dataframe tbody tr th:only-of-type {\n",
       "        vertical-align: middle;\n",
       "    }\n",
       "\n",
       "    .dataframe tbody tr th {\n",
       "        vertical-align: top;\n",
       "    }\n",
       "\n",
       "    .dataframe thead th {\n",
       "        text-align: right;\n",
       "    }\n",
       "</style>\n",
       "<table border=\"1\" class=\"dataframe\">\n",
       "  <thead>\n",
       "    <tr style=\"text-align: right;\">\n",
       "      <th></th>\n",
       "      <th>SalesID</th>\n",
       "      <th>SalePrice</th>\n",
       "      <th>MachineID</th>\n",
       "      <th>ModelID</th>\n",
       "      <th>...</th>\n",
       "      <th>saleIs_quarter_start</th>\n",
       "      <th>saleIs_year_end</th>\n",
       "      <th>saleIs_year_start</th>\n",
       "      <th>saleElapsed</th>\n",
       "    </tr>\n",
       "  </thead>\n",
       "  <tbody>\n",
       "    <tr>\n",
       "      <th>0</th>\n",
       "      <td>1139246</td>\n",
       "      <td>11.097410</td>\n",
       "      <td>999089</td>\n",
       "      <td>3157</td>\n",
       "      <td>...</td>\n",
       "      <td>False</td>\n",
       "      <td>False</td>\n",
       "      <td>False</td>\n",
       "      <td>1.163635e+09</td>\n",
       "    </tr>\n",
       "    <tr>\n",
       "      <th>1</th>\n",
       "      <td>1139248</td>\n",
       "      <td>10.950807</td>\n",
       "      <td>117657</td>\n",
       "      <td>77</td>\n",
       "      <td>...</td>\n",
       "      <td>False</td>\n",
       "      <td>False</td>\n",
       "      <td>False</td>\n",
       "      <td>1.080259e+09</td>\n",
       "    </tr>\n",
       "    <tr>\n",
       "      <th>2</th>\n",
       "      <td>1139249</td>\n",
       "      <td>9.210340</td>\n",
       "      <td>434808</td>\n",
       "      <td>7009</td>\n",
       "      <td>...</td>\n",
       "      <td>False</td>\n",
       "      <td>False</td>\n",
       "      <td>False</td>\n",
       "      <td>1.077754e+09</td>\n",
       "    </tr>\n",
       "    <tr>\n",
       "      <th>3</th>\n",
       "      <td>1139251</td>\n",
       "      <td>10.558414</td>\n",
       "      <td>1026470</td>\n",
       "      <td>332</td>\n",
       "      <td>...</td>\n",
       "      <td>False</td>\n",
       "      <td>False</td>\n",
       "      <td>False</td>\n",
       "      <td>1.305763e+09</td>\n",
       "    </tr>\n",
       "    <tr>\n",
       "      <th>4</th>\n",
       "      <td>1139253</td>\n",
       "      <td>9.305651</td>\n",
       "      <td>1057373</td>\n",
       "      <td>17311</td>\n",
       "      <td>...</td>\n",
       "      <td>False</td>\n",
       "      <td>False</td>\n",
       "      <td>False</td>\n",
       "      <td>1.248307e+09</td>\n",
       "    </tr>\n",
       "  </tbody>\n",
       "</table>\n",
       "<p>5 rows × 65 columns</p>\n",
       "</div>"
      ],
      "text/plain": [
       "   SalesID  SalePrice  MachineID  ModelID  ...  saleIs_quarter_start  \\\n",
       "0  1139246  11.097410     999089     3157  ...                 False   \n",
       "1  1139248  10.950807     117657       77  ...                 False   \n",
       "2  1139249   9.210340     434808     7009  ...                 False   \n",
       "3  1139251  10.558414    1026470      332  ...                 False   \n",
       "4  1139253   9.305651    1057373    17311  ...                 False   \n",
       "\n",
       "   saleIs_year_end  saleIs_year_start   saleElapsed  \n",
       "0            False              False  1.163635e+09  \n",
       "1            False              False  1.080259e+09  \n",
       "2            False              False  1.077754e+09  \n",
       "3            False              False  1.305763e+09  \n",
       "4            False              False  1.248307e+09  \n",
       "\n",
       "[5 rows x 65 columns]"
      ]
     },
     "execution_count": 8,
     "metadata": {},
     "output_type": "execute_result"
    }
   ],
   "source": [
    "df.head()"
   ]
  },
  {
   "cell_type": "code",
   "execution_count": 9,
   "id": "d4933275-b78d-42ed-a9a6-60dbd71d2f02",
   "metadata": {
    "tags": []
   },
   "outputs": [
    {
     "name": "stderr",
     "output_type": "stream",
     "text": [
      "/home/nehaiitr/mambaforge/envs/jlabenv/lib/python3.11/site-packages/fastai/tabular/core.py:23: UserWarning: The argument 'infer_datetime_format' is deprecated and will be removed in a future version. A strict version of it is now the default, see https://pandas.pydata.org/pdeps/0004-consistent-to-datetime-parsing.html. You can safely remove this argument.\n"
     ]
    }
   ],
   "source": [
    "df_test = pd.read_csv(path/'Valid.csv')\n",
    "df_test = add_datepart(df_test,'saledate')"
   ]
  },
  {
   "cell_type": "code",
   "execution_count": 10,
   "id": "39b2e35a-3818-45a6-8a83-7623e3e28700",
   "metadata": {
    "tags": []
   },
   "outputs": [],
   "source": [
    "procs = [Categorify,FillMissing]"
   ]
  },
  {
   "cell_type": "code",
   "execution_count": 11,
   "id": "30cc1763-1324-4902-b86a-078dff1a8fa3",
   "metadata": {
    "tags": []
   },
   "outputs": [],
   "source": [
    "cond = (df.saleYear<2011) | (df.saleMonth <10)\n",
    "train_idx = np.where(cond)[0]\n",
    "valid_idx = np.where(~cond)[0]\n",
    "splits = (list(train_idx),list(valid_idx))"
   ]
  },
  {
   "cell_type": "code",
   "execution_count": 12,
   "id": "f22ee618-b47e-4f9e-a8d5-43bfb90a55bd",
   "metadata": {
    "tags": []
   },
   "outputs": [],
   "source": [
    "cont,cat = cont_cat_split(df,1,dep_var=depVar)\n",
    "to = TabularPandas(df,procs,cat,cont,y_names=depVar,splits=splits)"
   ]
  },
  {
   "cell_type": "code",
   "execution_count": 13,
   "id": "04f6b38b-1e46-4736-abaa-2b9429b6ae80",
   "metadata": {
    "tags": []
   },
   "outputs": [
    {
     "data": {
      "text/plain": [
       "(404710, 7988)"
      ]
     },
     "execution_count": 13,
     "metadata": {},
     "output_type": "execute_result"
    }
   ],
   "source": [
    "len(to.train),len(to.valid)"
   ]
  },
  {
   "cell_type": "code",
   "execution_count": 14,
   "id": "3688da69-fb4f-483b-bd0e-17e2a4429d1b",
   "metadata": {
    "tags": []
   },
   "outputs": [
    {
     "data": {
      "text/html": [
       "<div>\n",
       "<style scoped>\n",
       "    .dataframe tbody tr th:only-of-type {\n",
       "        vertical-align: middle;\n",
       "    }\n",
       "\n",
       "    .dataframe tbody tr th {\n",
       "        vertical-align: top;\n",
       "    }\n",
       "\n",
       "    .dataframe thead th {\n",
       "        text-align: right;\n",
       "    }\n",
       "</style>\n",
       "<table border=\"1\" class=\"dataframe\">\n",
       "  <thead>\n",
       "    <tr style=\"text-align: right;\">\n",
       "      <th></th>\n",
       "      <th>SalesID</th>\n",
       "      <th>SalePrice</th>\n",
       "      <th>MachineID</th>\n",
       "      <th>ModelID</th>\n",
       "      <th>...</th>\n",
       "      <th>saleIs_year_start</th>\n",
       "      <th>saleElapsed</th>\n",
       "      <th>auctioneerID_na</th>\n",
       "      <th>MachineHoursCurrentMeter_na</th>\n",
       "    </tr>\n",
       "  </thead>\n",
       "  <tbody>\n",
       "    <tr>\n",
       "      <th>0</th>\n",
       "      <td>1139246</td>\n",
       "      <td>11.097410</td>\n",
       "      <td>999089</td>\n",
       "      <td>3157</td>\n",
       "      <td>...</td>\n",
       "      <td>1</td>\n",
       "      <td>1.163635e+09</td>\n",
       "      <td>1</td>\n",
       "      <td>1</td>\n",
       "    </tr>\n",
       "    <tr>\n",
       "      <th>1</th>\n",
       "      <td>1139248</td>\n",
       "      <td>10.950807</td>\n",
       "      <td>117657</td>\n",
       "      <td>77</td>\n",
       "      <td>...</td>\n",
       "      <td>1</td>\n",
       "      <td>1.080259e+09</td>\n",
       "      <td>1</td>\n",
       "      <td>1</td>\n",
       "    </tr>\n",
       "  </tbody>\n",
       "</table>\n",
       "<p>2 rows × 67 columns</p>\n",
       "</div>"
      ],
      "text/plain": [
       "   SalesID  SalePrice  MachineID  ModelID  ...  saleIs_year_start  \\\n",
       "0  1139246  11.097410     999089     3157  ...                  1   \n",
       "1  1139248  10.950807     117657       77  ...                  1   \n",
       "\n",
       "    saleElapsed  auctioneerID_na  MachineHoursCurrentMeter_na  \n",
       "0  1.163635e+09                1                            1  \n",
       "1  1.080259e+09                1                            1  \n",
       "\n",
       "[2 rows x 67 columns]"
      ]
     },
     "execution_count": 14,
     "metadata": {},
     "output_type": "execute_result"
    }
   ],
   "source": [
    "to.items.head(2)"
   ]
  },
  {
   "cell_type": "code",
   "execution_count": 15,
   "id": "eb556aa4-183b-4e91-98d8-7f62d3430eef",
   "metadata": {
    "tags": []
   },
   "outputs": [
    {
     "data": {
      "text/plain": [
       "['#na#', 'All Wheel Drive', 'Four Wheel Drive', 'No', 'Two Wheel Drive']"
      ]
     },
     "execution_count": 15,
     "metadata": {},
     "output_type": "execute_result"
    }
   ],
   "source": [
    "to.classes['Drive_System']"
   ]
  },
  {
   "cell_type": "code",
   "execution_count": 16,
   "id": "11c7b13f-8797-4f82-857a-49c622ffa762",
   "metadata": {
    "tags": []
   },
   "outputs": [],
   "source": [
    "save_pickle(path/'to.pkl',to)"
   ]
  },
  {
   "cell_type": "code",
   "execution_count": 17,
   "id": "94342b26-a468-4820-a34b-78f765f8992b",
   "metadata": {
    "tags": []
   },
   "outputs": [],
   "source": [
    "to = load_pickle(path/'to.pkl')"
   ]
  },
  {
   "cell_type": "code",
   "execution_count": 18,
   "id": "52c1dc29-37bf-4425-9101-96bb428d57aa",
   "metadata": {
    "tags": []
   },
   "outputs": [
    {
     "data": {
      "text/html": [
       "<div>\n",
       "<style scoped>\n",
       "    .dataframe tbody tr th:only-of-type {\n",
       "        vertical-align: middle;\n",
       "    }\n",
       "\n",
       "    .dataframe tbody tr th {\n",
       "        vertical-align: top;\n",
       "    }\n",
       "\n",
       "    .dataframe thead th {\n",
       "        text-align: right;\n",
       "    }\n",
       "</style>\n",
       "<table border=\"1\" class=\"dataframe\">\n",
       "  <thead>\n",
       "    <tr style=\"text-align: right;\">\n",
       "      <th></th>\n",
       "      <th>SalesID</th>\n",
       "      <th>SalePrice</th>\n",
       "      <th>MachineID</th>\n",
       "      <th>ModelID</th>\n",
       "      <th>...</th>\n",
       "      <th>saleIs_year_start</th>\n",
       "      <th>saleElapsed</th>\n",
       "      <th>auctioneerID_na</th>\n",
       "      <th>MachineHoursCurrentMeter_na</th>\n",
       "    </tr>\n",
       "  </thead>\n",
       "  <tbody>\n",
       "    <tr>\n",
       "      <th>0</th>\n",
       "      <td>1139246</td>\n",
       "      <td>11.097410</td>\n",
       "      <td>999089</td>\n",
       "      <td>3157</td>\n",
       "      <td>...</td>\n",
       "      <td>1</td>\n",
       "      <td>1.163635e+09</td>\n",
       "      <td>1</td>\n",
       "      <td>1</td>\n",
       "    </tr>\n",
       "    <tr>\n",
       "      <th>1</th>\n",
       "      <td>1139248</td>\n",
       "      <td>10.950807</td>\n",
       "      <td>117657</td>\n",
       "      <td>77</td>\n",
       "      <td>...</td>\n",
       "      <td>1</td>\n",
       "      <td>1.080259e+09</td>\n",
       "      <td>1</td>\n",
       "      <td>1</td>\n",
       "    </tr>\n",
       "  </tbody>\n",
       "</table>\n",
       "<p>2 rows × 67 columns</p>\n",
       "</div>"
      ],
      "text/plain": [
       "   SalesID  SalePrice  MachineID  ModelID  ...  saleIs_year_start  \\\n",
       "0  1139246  11.097410     999089     3157  ...                  1   \n",
       "1  1139248  10.950807     117657       77  ...                  1   \n",
       "\n",
       "    saleElapsed  auctioneerID_na  MachineHoursCurrentMeter_na  \n",
       "0  1.163635e+09                1                            1  \n",
       "1  1.080259e+09                1                            1  \n",
       "\n",
       "[2 rows x 67 columns]"
      ]
     },
     "execution_count": 18,
     "metadata": {},
     "output_type": "execute_result"
    }
   ],
   "source": [
    "to.items.head(2)"
   ]
  },
  {
   "cell_type": "code",
   "execution_count": 19,
   "id": "e5351b62-fca8-4a7c-a85a-e12408727b14",
   "metadata": {},
   "outputs": [],
   "source": [
    "xs, y = to.train.xs,to.train.y\n",
    "valid_xs,valid_y = to.valid.xs, to.valid.y"
   ]
  },
  {
   "cell_type": "markdown",
   "id": "4d750a1c-cf9f-466b-9a60-55865084100f",
   "metadata": {
    "jp-MarkdownHeadingCollapsed": true,
    "tags": []
   },
   "source": [
    "## Decision Tree"
   ]
  },
  {
   "cell_type": "code",
   "execution_count": 39,
   "id": "d866b319-e7a6-4bec-800e-b1f102f3ef66",
   "metadata": {
    "tags": []
   },
   "outputs": [
    {
     "data": {
      "text/html": [
       "<style>#sk-container-id-4 {color: black;}#sk-container-id-4 pre{padding: 0;}#sk-container-id-4 div.sk-toggleable {background-color: white;}#sk-container-id-4 label.sk-toggleable__label {cursor: pointer;display: block;width: 100%;margin-bottom: 0;padding: 0.3em;box-sizing: border-box;text-align: center;}#sk-container-id-4 label.sk-toggleable__label-arrow:before {content: \"▸\";float: left;margin-right: 0.25em;color: #696969;}#sk-container-id-4 label.sk-toggleable__label-arrow:hover:before {color: black;}#sk-container-id-4 div.sk-estimator:hover label.sk-toggleable__label-arrow:before {color: black;}#sk-container-id-4 div.sk-toggleable__content {max-height: 0;max-width: 0;overflow: hidden;text-align: left;background-color: #f0f8ff;}#sk-container-id-4 div.sk-toggleable__content pre {margin: 0.2em;color: black;border-radius: 0.25em;background-color: #f0f8ff;}#sk-container-id-4 input.sk-toggleable__control:checked~div.sk-toggleable__content {max-height: 200px;max-width: 100%;overflow: auto;}#sk-container-id-4 input.sk-toggleable__control:checked~label.sk-toggleable__label-arrow:before {content: \"▾\";}#sk-container-id-4 div.sk-estimator input.sk-toggleable__control:checked~label.sk-toggleable__label {background-color: #d4ebff;}#sk-container-id-4 div.sk-label input.sk-toggleable__control:checked~label.sk-toggleable__label {background-color: #d4ebff;}#sk-container-id-4 input.sk-hidden--visually {border: 0;clip: rect(1px 1px 1px 1px);clip: rect(1px, 1px, 1px, 1px);height: 1px;margin: -1px;overflow: hidden;padding: 0;position: absolute;width: 1px;}#sk-container-id-4 div.sk-estimator {font-family: monospace;background-color: #f0f8ff;border: 1px dotted black;border-radius: 0.25em;box-sizing: border-box;margin-bottom: 0.5em;}#sk-container-id-4 div.sk-estimator:hover {background-color: #d4ebff;}#sk-container-id-4 div.sk-parallel-item::after {content: \"\";width: 100%;border-bottom: 1px solid gray;flex-grow: 1;}#sk-container-id-4 div.sk-label:hover label.sk-toggleable__label {background-color: #d4ebff;}#sk-container-id-4 div.sk-serial::before {content: \"\";position: absolute;border-left: 1px solid gray;box-sizing: border-box;top: 0;bottom: 0;left: 50%;z-index: 0;}#sk-container-id-4 div.sk-serial {display: flex;flex-direction: column;align-items: center;background-color: white;padding-right: 0.2em;padding-left: 0.2em;position: relative;}#sk-container-id-4 div.sk-item {position: relative;z-index: 1;}#sk-container-id-4 div.sk-parallel {display: flex;align-items: stretch;justify-content: center;background-color: white;position: relative;}#sk-container-id-4 div.sk-item::before, #sk-container-id-4 div.sk-parallel-item::before {content: \"\";position: absolute;border-left: 1px solid gray;box-sizing: border-box;top: 0;bottom: 0;left: 50%;z-index: -1;}#sk-container-id-4 div.sk-parallel-item {display: flex;flex-direction: column;z-index: 1;position: relative;background-color: white;}#sk-container-id-4 div.sk-parallel-item:first-child::after {align-self: flex-end;width: 50%;}#sk-container-id-4 div.sk-parallel-item:last-child::after {align-self: flex-start;width: 50%;}#sk-container-id-4 div.sk-parallel-item:only-child::after {width: 0;}#sk-container-id-4 div.sk-dashed-wrapped {border: 1px dashed gray;margin: 0 0.4em 0.5em 0.4em;box-sizing: border-box;padding-bottom: 0.4em;background-color: white;}#sk-container-id-4 div.sk-label label {font-family: monospace;font-weight: bold;display: inline-block;line-height: 1.2em;}#sk-container-id-4 div.sk-label-container {text-align: center;}#sk-container-id-4 div.sk-container {/* jupyter's `normalize.less` sets `[hidden] { display: none; }` but bootstrap.min.css set `[hidden] { display: none !important; }` so we also need the `!important` here to be able to override the default hidden behavior on the sphinx rendered scikit-learn.org. See: https://github.com/scikit-learn/scikit-learn/issues/21755 */display: inline-block !important;position: relative;}#sk-container-id-4 div.sk-text-repr-fallback {display: none;}</style><div id=\"sk-container-id-4\" class=\"sk-top-container\"><div class=\"sk-text-repr-fallback\"><pre>DecisionTreeRegressor(max_leaf_nodes=4)</pre><b>In a Jupyter environment, please rerun this cell to show the HTML representation or trust the notebook. <br />On GitHub, the HTML representation is unable to render, please try loading this page with nbviewer.org.</b></div><div class=\"sk-container\" hidden><div class=\"sk-item\"><div class=\"sk-estimator sk-toggleable\"><input class=\"sk-toggleable__control sk-hidden--visually\" id=\"sk-estimator-id-4\" type=\"checkbox\" checked><label for=\"sk-estimator-id-4\" class=\"sk-toggleable__label sk-toggleable__label-arrow\">DecisionTreeRegressor</label><div class=\"sk-toggleable__content\"><pre>DecisionTreeRegressor(max_leaf_nodes=4)</pre></div></div></div></div></div>"
      ],
      "text/plain": [
       "DecisionTreeRegressor(max_leaf_nodes=4)"
      ]
     },
     "execution_count": 39,
     "metadata": {},
     "output_type": "execute_result"
    }
   ],
   "source": [
    "m = DecisionTreeRegressor(max_leaf_nodes=4)\n",
    "m.fit(xs,y)"
   ]
  },
  {
   "cell_type": "code",
   "execution_count": 40,
   "id": "931e7df1-cdd7-4621-abaf-a376ab582f18",
   "metadata": {
    "tags": []
   },
   "outputs": [],
   "source": [
    "def r_rmse(pred,actual): return round(math.sqrt(((actual-pred)**2).mean()),6)\n",
    "def m_rmse(m,xs,y) : return r_rmse(m.predict(xs),y)"
   ]
  },
  {
   "cell_type": "code",
   "execution_count": 41,
   "id": "7697068c-f48a-4f67-9d1f-226847fee1cd",
   "metadata": {
    "tags": []
   },
   "outputs": [
    {
     "data": {
      "text/plain": [
       "(0.55325, 0.55646)"
      ]
     },
     "execution_count": 41,
     "metadata": {},
     "output_type": "execute_result"
    }
   ],
   "source": [
    "m_rmse(m,xs,y),m_rmse(m,valid_xs,valid_y)"
   ]
  },
  {
   "cell_type": "code",
   "execution_count": 42,
   "id": "dde1c6ad-6f5d-4528-8a69-3857d33fb7dc",
   "metadata": {
    "tags": []
   },
   "outputs": [
    {
     "data": {
      "text/html": [
       "<style>#sk-container-id-5 {color: black;}#sk-container-id-5 pre{padding: 0;}#sk-container-id-5 div.sk-toggleable {background-color: white;}#sk-container-id-5 label.sk-toggleable__label {cursor: pointer;display: block;width: 100%;margin-bottom: 0;padding: 0.3em;box-sizing: border-box;text-align: center;}#sk-container-id-5 label.sk-toggleable__label-arrow:before {content: \"▸\";float: left;margin-right: 0.25em;color: #696969;}#sk-container-id-5 label.sk-toggleable__label-arrow:hover:before {color: black;}#sk-container-id-5 div.sk-estimator:hover label.sk-toggleable__label-arrow:before {color: black;}#sk-container-id-5 div.sk-toggleable__content {max-height: 0;max-width: 0;overflow: hidden;text-align: left;background-color: #f0f8ff;}#sk-container-id-5 div.sk-toggleable__content pre {margin: 0.2em;color: black;border-radius: 0.25em;background-color: #f0f8ff;}#sk-container-id-5 input.sk-toggleable__control:checked~div.sk-toggleable__content {max-height: 200px;max-width: 100%;overflow: auto;}#sk-container-id-5 input.sk-toggleable__control:checked~label.sk-toggleable__label-arrow:before {content: \"▾\";}#sk-container-id-5 div.sk-estimator input.sk-toggleable__control:checked~label.sk-toggleable__label {background-color: #d4ebff;}#sk-container-id-5 div.sk-label input.sk-toggleable__control:checked~label.sk-toggleable__label {background-color: #d4ebff;}#sk-container-id-5 input.sk-hidden--visually {border: 0;clip: rect(1px 1px 1px 1px);clip: rect(1px, 1px, 1px, 1px);height: 1px;margin: -1px;overflow: hidden;padding: 0;position: absolute;width: 1px;}#sk-container-id-5 div.sk-estimator {font-family: monospace;background-color: #f0f8ff;border: 1px dotted black;border-radius: 0.25em;box-sizing: border-box;margin-bottom: 0.5em;}#sk-container-id-5 div.sk-estimator:hover {background-color: #d4ebff;}#sk-container-id-5 div.sk-parallel-item::after {content: \"\";width: 100%;border-bottom: 1px solid gray;flex-grow: 1;}#sk-container-id-5 div.sk-label:hover label.sk-toggleable__label {background-color: #d4ebff;}#sk-container-id-5 div.sk-serial::before {content: \"\";position: absolute;border-left: 1px solid gray;box-sizing: border-box;top: 0;bottom: 0;left: 50%;z-index: 0;}#sk-container-id-5 div.sk-serial {display: flex;flex-direction: column;align-items: center;background-color: white;padding-right: 0.2em;padding-left: 0.2em;position: relative;}#sk-container-id-5 div.sk-item {position: relative;z-index: 1;}#sk-container-id-5 div.sk-parallel {display: flex;align-items: stretch;justify-content: center;background-color: white;position: relative;}#sk-container-id-5 div.sk-item::before, #sk-container-id-5 div.sk-parallel-item::before {content: \"\";position: absolute;border-left: 1px solid gray;box-sizing: border-box;top: 0;bottom: 0;left: 50%;z-index: -1;}#sk-container-id-5 div.sk-parallel-item {display: flex;flex-direction: column;z-index: 1;position: relative;background-color: white;}#sk-container-id-5 div.sk-parallel-item:first-child::after {align-self: flex-end;width: 50%;}#sk-container-id-5 div.sk-parallel-item:last-child::after {align-self: flex-start;width: 50%;}#sk-container-id-5 div.sk-parallel-item:only-child::after {width: 0;}#sk-container-id-5 div.sk-dashed-wrapped {border: 1px dashed gray;margin: 0 0.4em 0.5em 0.4em;box-sizing: border-box;padding-bottom: 0.4em;background-color: white;}#sk-container-id-5 div.sk-label label {font-family: monospace;font-weight: bold;display: inline-block;line-height: 1.2em;}#sk-container-id-5 div.sk-label-container {text-align: center;}#sk-container-id-5 div.sk-container {/* jupyter's `normalize.less` sets `[hidden] { display: none; }` but bootstrap.min.css set `[hidden] { display: none !important; }` so we also need the `!important` here to be able to override the default hidden behavior on the sphinx rendered scikit-learn.org. See: https://github.com/scikit-learn/scikit-learn/issues/21755 */display: inline-block !important;position: relative;}#sk-container-id-5 div.sk-text-repr-fallback {display: none;}</style><div id=\"sk-container-id-5\" class=\"sk-top-container\"><div class=\"sk-text-repr-fallback\"><pre>DecisionTreeRegressor()</pre><b>In a Jupyter environment, please rerun this cell to show the HTML representation or trust the notebook. <br />On GitHub, the HTML representation is unable to render, please try loading this page with nbviewer.org.</b></div><div class=\"sk-container\" hidden><div class=\"sk-item\"><div class=\"sk-estimator sk-toggleable\"><input class=\"sk-toggleable__control sk-hidden--visually\" id=\"sk-estimator-id-5\" type=\"checkbox\" checked><label for=\"sk-estimator-id-5\" class=\"sk-toggleable__label sk-toggleable__label-arrow\">DecisionTreeRegressor</label><div class=\"sk-toggleable__content\"><pre>DecisionTreeRegressor()</pre></div></div></div></div></div>"
      ],
      "text/plain": [
       "DecisionTreeRegressor()"
      ]
     },
     "execution_count": 42,
     "metadata": {},
     "output_type": "execute_result"
    }
   ],
   "source": [
    "m = DecisionTreeRegressor()\n",
    "m.fit(xs,y)"
   ]
  },
  {
   "cell_type": "code",
   "execution_count": 43,
   "id": "f935262c-c7f2-44b9-91db-acc31c96e8de",
   "metadata": {
    "tags": []
   },
   "outputs": [
    {
     "data": {
      "text/plain": [
       "(0.0, 0.327695)"
      ]
     },
     "execution_count": 43,
     "metadata": {},
     "output_type": "execute_result"
    }
   ],
   "source": [
    "m_rmse(m,xs,y),m_rmse(m,valid_xs,valid_y)"
   ]
  },
  {
   "cell_type": "code",
   "execution_count": 44,
   "id": "9d6ad772-7a58-4ce9-911f-0ebf19b02f2e",
   "metadata": {
    "tags": []
   },
   "outputs": [
    {
     "data": {
      "text/plain": [
       "(0.211677, 0.268034)"
      ]
     },
     "execution_count": 44,
     "metadata": {},
     "output_type": "execute_result"
    }
   ],
   "source": [
    "m = DecisionTreeRegressor(min_samples_leaf=25)\n",
    "m.fit(xs,y)\n",
    "m_rmse(m,xs,y),m_rmse(m,valid_xs,valid_y)"
   ]
  },
  {
   "cell_type": "code",
   "execution_count": 47,
   "id": "c84a6fe5-6ab7-4895-9a38-8d7ef39f6d4f",
   "metadata": {
    "tags": []
   },
   "outputs": [
    {
     "data": {
      "text/plain": [
       "12397"
      ]
     },
     "execution_count": 47,
     "metadata": {},
     "output_type": "execute_result"
    }
   ],
   "source": [
    "m.get_n_leaves()"
   ]
  },
  {
   "cell_type": "markdown",
   "id": "82bd02c2-e9dc-49c2-9574-59531b682b8f",
   "metadata": {
    "jp-MarkdownHeadingCollapsed": true,
    "tags": []
   },
   "source": [
    "# Random Forest"
   ]
  },
  {
   "cell_type": "code",
   "execution_count": 114,
   "id": "2a762e2d-23d8-4332-a2b6-2d7bfa540fbd",
   "metadata": {
    "tags": []
   },
   "outputs": [],
   "source": [
    "def rf_model(x,y):\n",
    "    rf = RandomForestRegressor(max_features=0.5,n_estimators = 10,oob_score=True,max_samples=200_000,min_samples_leaf=5,n_jobs=-1).fit(x,y)\n",
    "    return rf"
   ]
  },
  {
   "cell_type": "code",
   "execution_count": 65,
   "id": "34f29452-f598-4b5b-bedf-c8ebb2400d38",
   "metadata": {
    "tags": []
   },
   "outputs": [
    {
     "data": {
      "text/plain": [
       "(0.177393, 0.237765)"
      ]
     },
     "execution_count": 65,
     "metadata": {},
     "output_type": "execute_result"
    }
   ],
   "source": [
    "m_rmse(rf,xs,y),m_rmse(rf,valid_xs,valid_y)"
   ]
  },
  {
   "cell_type": "code",
   "execution_count": 66,
   "id": "19d16a7a-d058-4306-b6d7-b42fe3c88d91",
   "metadata": {
    "tags": []
   },
   "outputs": [
    {
     "name": "stderr",
     "output_type": "stream",
     "text": [
      "/home/nehaiitr/mambaforge/envs/jlabenv/lib/python3.11/site-packages/sklearn/base.py:457: UserWarning: X has feature names, but DecisionTreeRegressor was fitted without feature names\n"
     ]
    },
    {
     "data": {
      "text/plain": [
       "array([ 9.86219387, 10.13624583,  9.48950161, ...,  9.40862348,  9.4099206 ,  9.4099206 ])"
      ]
     },
     "execution_count": 66,
     "metadata": {},
     "output_type": "execute_result"
    }
   ],
   "source": [
    "rf.estimators_[0].predict(valid_xs)"
   ]
  },
  {
   "cell_type": "code",
   "execution_count": 67,
   "id": "fc2bf76a-e48a-4b77-99a0-a903268411a5",
   "metadata": {
    "tags": []
   },
   "outputs": [
    {
     "data": {
      "text/plain": [
       "0.241706"
      ]
     },
     "execution_count": 67,
     "metadata": {},
     "output_type": "execute_result"
    }
   ],
   "source": [
    "r_rmse(rf.oob_prediction_,y)"
   ]
  },
  {
   "cell_type": "markdown",
   "id": "52c3e157-a322-487b-90ed-c4e95c27b837",
   "metadata": {
    "jp-MarkdownHeadingCollapsed": true,
    "tags": []
   },
   "source": [
    "## selecting number of trees using oob score"
   ]
  },
  {
   "cell_type": "code",
   "execution_count": 63,
   "id": "b9447892-ed38-4c13-b95e-e386304b77f1",
   "metadata": {
    "collapsed": true,
    "jupyter": {
     "outputs_hidden": true
    },
    "tags": []
   },
   "outputs": [
    {
     "name": "stderr",
     "output_type": "stream",
     "text": [
      "/home/nehaiitr/mambaforge/envs/jlabenv/lib/python3.11/site-packages/sklearn/ensemble/_forest.py:578: UserWarning: Some inputs do not have OOB scores. This probably means too few trees were used to compute any reliable OOB estimates.\n"
     ]
    },
    {
     "name": "stdout",
     "output_type": "stream",
     "text": [
      "0.089485 0.243976 1.032541\n"
     ]
    },
    {
     "name": "stderr",
     "output_type": "stream",
     "text": [
      "/home/nehaiitr/mambaforge/envs/jlabenv/lib/python3.11/site-packages/sklearn/ensemble/_forest.py:578: UserWarning: Some inputs do not have OOB scores. This probably means too few trees were used to compute any reliable OOB estimates.\n"
     ]
    },
    {
     "name": "stdout",
     "output_type": "stream",
     "text": [
      "0.089304 0.242782 1.050338\n"
     ]
    },
    {
     "name": "stderr",
     "output_type": "stream",
     "text": [
      "/home/nehaiitr/mambaforge/envs/jlabenv/lib/python3.11/site-packages/sklearn/ensemble/_forest.py:578: UserWarning: Some inputs do not have OOB scores. This probably means too few trees were used to compute any reliable OOB estimates.\n"
     ]
    },
    {
     "name": "stdout",
     "output_type": "stream",
     "text": [
      "0.08949 0.244393 1.035473\n"
     ]
    },
    {
     "name": "stderr",
     "output_type": "stream",
     "text": [
      "/home/nehaiitr/mambaforge/envs/jlabenv/lib/python3.11/site-packages/sklearn/ensemble/_forest.py:578: UserWarning: Some inputs do not have OOB scores. This probably means too few trees were used to compute any reliable OOB estimates.\n"
     ]
    },
    {
     "name": "stdout",
     "output_type": "stream",
     "text": [
      "0.089434 0.243192 1.048704\n"
     ]
    },
    {
     "name": "stderr",
     "output_type": "stream",
     "text": [
      "/home/nehaiitr/mambaforge/envs/jlabenv/lib/python3.11/site-packages/sklearn/ensemble/_forest.py:578: UserWarning: Some inputs do not have OOB scores. This probably means too few trees were used to compute any reliable OOB estimates.\n"
     ]
    },
    {
     "name": "stdout",
     "output_type": "stream",
     "text": [
      "0.089172 0.239658 1.057237\n"
     ]
    }
   ],
   "source": [
    "for trees in range(5,30,5):\n",
    "    rf = RandomForestRegressor(max_features=0.5,n_estimators = 10,oob_score=True).fit(xs,y)\n",
    "    print(m_rmse(rf,xs,y),m_rmse(rf,valid_xs,valid_y),r_rmse(rf.oob_prediction_,y))"
   ]
  },
  {
   "cell_type": "code",
   "execution_count": 77,
   "id": "9f368d7c-2bae-4dab-b2bf-d8f361f6be1e",
   "metadata": {
    "tags": []
   },
   "outputs": [],
   "source": [
    "def rf_feat_importance(m,df): return pd.DataFrame({'cols':df.columns,'imp':m.feature_importances_}).sort_values('imp',ascending =False)"
   ]
  },
  {
   "cell_type": "code",
   "execution_count": 80,
   "id": "3d0226c1-e6ac-4592-b22f-a003fc9342d3",
   "metadata": {
    "collapsed": true,
    "jupyter": {
     "outputs_hidden": true
    },
    "tags": []
   },
   "outputs": [
    {
     "data": {
      "text/plain": [
       "<Axes: ylabel='cols'>"
      ]
     },
     "execution_count": 80,
     "metadata": {},
     "output_type": "execute_result"
    },
    {
     "data": {
      "image/png": "[encoded data removed]",
      "text/plain": [
       "<Figure size 1000x1900 with 1 Axes>"
      ]
     },
     "metadata": {},
     "output_type": "display_data"
    }
   ],
   "source": [
    "rf_feat_importance(rf,xs).plot('cols','imp','barh',figsize=(10,19))"
   ]
  },
  {
   "cell_type": "code",
   "execution_count": 84,
   "id": "b7c5ee83-a40b-4736-8c87-e679d8392974",
   "metadata": {
    "tags": []
   },
   "outputs": [],
   "source": [
    "fi  = rf_feat_importance(rf,xs)\n",
    "var_keep = fi[fi.imp>=0.005].cols\n",
    "xs_keep = xs[var_keep]\n",
    "valid_keep = valid_xs[var_keep]"
   ]
  },
  {
   "cell_type": "code",
   "execution_count": 86,
   "id": "e5285a51-acb9-479e-8370-d6b8493de615",
   "metadata": {
    "tags": []
   },
   "outputs": [
    {
     "name": "stderr",
     "output_type": "stream",
     "text": [
      "/home/nehaiitr/mambaforge/envs/jlabenv/lib/python3.11/site-packages/sklearn/ensemble/_forest.py:578: UserWarning: Some inputs do not have OOB scores. This probably means too few trees were used to compute any reliable OOB estimates.\n"
     ]
    },
    {
     "data": {
      "text/plain": [
       "(0.186587, 0.235442)"
      ]
     },
     "execution_count": 86,
     "metadata": {},
     "output_type": "execute_result"
    }
   ],
   "source": [
    "rf = RandomForestRegressor(max_features=0.5,n_estimators = 10,oob_score=True,max_samples=200_000,min_samples_leaf=5,n_jobs=-1).fit(xs_keep,y)\n",
    "m_rmse(rf,xs_keep,y),m_rmse(rf,valid_keep,valid_y)"
   ]
  },
  {
   "cell_type": "markdown",
   "id": "2ca3e6e9-769a-4c36-81a6-c43339e0c295",
   "metadata": {
    "jp-MarkdownHeadingCollapsed": true,
    "tags": []
   },
   "source": [
    "## variable reduction process"
   ]
  },
  {
   "cell_type": "markdown",
   "id": "9e997895-7e6b-453f-b180-3f4fc6619f3e",
   "metadata": {},
   "source": [
    "### similar columns"
   ]
  },
  {
   "cell_type": "code",
   "execution_count": 87,
   "id": "e5fde4a0-2eec-49f6-ad8f-d7fede76c7af",
   "metadata": {
    "tags": []
   },
   "outputs": [
    {
     "data": {
      "image/png": "[encoded data removed]",
      "text/plain": [
       "<Figure size 1000x600 with 1 Axes>"
      ]
     },
     "metadata": {},
     "output_type": "display_data"
    }
   ],
   "source": [
    "cluster_columns(xs_keep)"
   ]
  },
  {
   "cell_type": "code",
   "execution_count": 97,
   "id": "ff818944-6c12-4e59-89a9-b7000966425f",
   "metadata": {
    "tags": []
   },
   "outputs": [
    {
     "name": "stderr",
     "output_type": "stream",
     "text": [
      "/home/nehaiitr/mambaforge/envs/jlabenv/lib/python3.11/site-packages/sklearn/ensemble/_forest.py:578: UserWarning: Some inputs do not have OOB scores. This probably means too few trees were used to compute any reliable OOB estimates.\n"
     ]
    },
    {
     "data": {
      "text/plain": [
       "(0.18808, 0.238067)"
      ]
     },
     "execution_count": 97,
     "metadata": {},
     "output_type": "execute_result"
    }
   ],
   "source": [
    "to_drop = ['saleYear', 'fiBaseModel', 'Grouser_Tracks']\n",
    "xs_cluster = xs_keep.drop(columns=to_drop)\n",
    "valid_cluster = valid_keep.drop(columns=to_drop)\n",
    "rf = RandomForestRegressor(max_features=0.5,n_estimators = 10,oob_score=True,max_samples=200_000,min_samples_leaf=5,n_jobs=-1).fit(xs_cluster,y)\n",
    "m_rmse(rf,xs_cluster,y),m_rmse(rf,valid_cluster,valid_y)"
   ]
  },
  {
   "cell_type": "markdown",
   "id": "97e44114-903b-42ca-bdbb-afdbb355030f",
   "metadata": {},
   "source": [
    "### column values creating issue (data leakage)"
   ]
  },
  {
   "cell_type": "code",
   "execution_count": 95,
   "id": "b2d516a8-8ec4-486f-8acb-95965051be8f",
   "metadata": {
    "tags": []
   },
   "outputs": [
    {
     "ename": "ImportError",
     "evalue": "cannot import name 'plot_partial_dependence' from 'sklearn.inspection' (/home/nehaiitr/mambaforge/envs/jlabenv/lib/python3.11/site-packages/sklearn/inspection/__init__.py)",
     "output_type": "error",
     "traceback": [
      "\u001b[0;31m---------------------------------------------------------------------------\u001b[0m",
      "\u001b[0;31mImportError\u001b[0m                               Traceback (most recent call last)",
      "Cell \u001b[0;32mIn[95], line 2\u001b[0m\n\u001b[1;32m      1\u001b[0m \u001b[38;5;28;01mimport\u001b[39;00m \u001b[38;5;21;01msklearn\u001b[39;00m\n\u001b[0;32m----> 2\u001b[0m \u001b[38;5;28;01mfrom\u001b[39;00m \u001b[38;5;21;01msklearn\u001b[39;00m\u001b[38;5;21;01m.\u001b[39;00m\u001b[38;5;21;01minspection\u001b[39;00m \u001b[38;5;28;01mimport\u001b[39;00m plot_partial_dependence\n\u001b[1;32m      4\u001b[0m plot_partial_dependence(rf, valid_keep, [\u001b[38;5;124m'\u001b[39m\u001b[38;5;124mYearMade\u001b[39m\u001b[38;5;124m'\u001b[39m,\u001b[38;5;124m'\u001b[39m\u001b[38;5;124mProductSize\u001b[39m\u001b[38;5;124m'\u001b[39m],\n\u001b[1;32m      5\u001b[0m                         grid_resolution\u001b[38;5;241m=\u001b[39m\u001b[38;5;241m20\u001b[39m, ax\u001b[38;5;241m=\u001b[39max);\n",
      "\u001b[0;31mImportError\u001b[0m: cannot import name 'plot_partial_dependence' from 'sklearn.inspection' (/home/nehaiitr/mambaforge/envs/jlabenv/lib/python3.11/site-packages/sklearn/inspection/__init__.py)"
     ]
    }
   ],
   "source": [
    "import sklearn\n",
    "from sklearn.inspection import plot_partial_dependence\n",
    "\n",
    "plot_partial_dependence(rf, valid_keep, ['YearMade','ProductSize'],\n",
    "                        grid_resolution=20, ax=ax);"
   ]
  },
  {
   "cell_type": "markdown",
   "id": "d8d65f01-e959-4ed4-a4bf-73312880ee7f",
   "metadata": {
    "jp-MarkdownHeadingCollapsed": true,
    "tags": []
   },
   "source": [
    "## interpreting the predictions on validation set"
   ]
  },
  {
   "cell_type": "code",
   "execution_count": 98,
   "id": "3a929e9a-1be9-4d6e-b4fc-1191ba608830",
   "metadata": {
    "tags": []
   },
   "outputs": [
    {
     "name": "stdout",
     "output_type": "stream",
     "text": [
      "Collecting treeinterpreter\n",
      "  Downloading treeinterpreter-0.2.3-py2.py3-none-any.whl (6.0 kB)\n",
      "Installing collected packages: treeinterpreter\n",
      "Successfully installed treeinterpreter-0.2.3\n"
     ]
    }
   ],
   "source": [
    "!pip install treeinterpreter"
   ]
  },
  {
   "cell_type": "code",
   "execution_count": 99,
   "id": "382d0be4-445d-470c-a3db-c77e5189cc4c",
   "metadata": {
    "tags": []
   },
   "outputs": [
    {
     "name": "stdout",
     "output_type": "stream",
     "text": [
      "Collecting waterfallcharts\n",
      "  Downloading waterfallcharts-3.8.tar.gz (3.9 kB)\n",
      "  Preparing metadata (setup.py) ... \u001b[?25ldone\n",
      "\u001b[?25hBuilding wheels for collected packages: waterfallcharts\n",
      "  Building wheel for waterfallcharts (setup.py) ... \u001b[?25ldone\n",
      "\u001b[?25h  Created wheel for waterfallcharts: filename=waterfallcharts-3.8-py3-none-any.whl size=3389 sha256=1fa70190ebb3e3c7749acaa6222d0c0e09908ef897f4c5d45de8f7893a4c9289\n",
      "  Stored in directory: /home/nehaiitr/.cache/pip/wheels/49/9a/ff/ec03fce8e52feb9578e6d919014384cd15a7f1a2d90f56fce9\n",
      "Successfully built waterfallcharts\n",
      "Installing collected packages: waterfallcharts\n",
      "Successfully installed waterfallcharts-3.8\n"
     ]
    }
   ],
   "source": [
    "!pip install waterfallcharts"
   ]
  },
  {
   "cell_type": "code",
   "execution_count": 100,
   "id": "94a65860-f2e9-4c48-a917-cc6a437aec55",
   "metadata": {
    "tags": []
   },
   "outputs": [],
   "source": [
    "\n",
    "\n",
    "#hide\n",
    "import warnings\n",
    "warnings.simplefilter('ignore', FutureWarning)\n",
    "\n",
    "from treeinterpreter import treeinterpreter\n",
    "from waterfall_chart import plot as waterfall\n",
    "     \n"
   ]
  },
  {
   "cell_type": "code",
   "execution_count": 104,
   "id": "3e704a38-4b83-4347-af2b-e6b30387d829",
   "metadata": {
    "tags": []
   },
   "outputs": [],
   "source": [
    "row = valid_cluster.iloc[:5]\n",
    "prediction,bias,contribution = treeinterpreter.predict(rf,row.values)"
   ]
  },
  {
   "cell_type": "code",
   "execution_count": 108,
   "id": "03c092f4-d866-406e-81f3-b4306b573e22",
   "metadata": {
    "tags": []
   },
   "outputs": [
    {
     "data": {
      "text/plain": [
       "((5, 1), (5,), (5, 16))"
      ]
     },
     "execution_count": 108,
     "metadata": {},
     "output_type": "execute_result"
    }
   ],
   "source": [
    "prediction.shape,bias.shape,contribution.shape"
   ]
  },
  {
   "cell_type": "code",
   "execution_count": 111,
   "id": "6310335e-2cf9-4a5f-a2d7-afd986c9e132",
   "metadata": {
    "tags": []
   },
   "outputs": [
    {
     "data": {
      "text/plain": [
       "<module 'matplotlib.pyplot' from '/home/nehaiitr/mambaforge/envs/jlabenv/lib/python3.11/site-packages/matplotlib/pyplot.py'>"
      ]
     },
     "execution_count": 111,
     "metadata": {},
     "output_type": "execute_result"
    },
    {
     "data": {
      "image/png": "[encoded data removed]",
      "text/plain": [
       "<Figure size 640x480 with 1 Axes>"
      ]
     },
     "metadata": {},
     "output_type": "display_data"
    }
   ],
   "source": [
    "waterfall(valid_cluster.columns,contribution[0],threshold=0.08,formatting='{:,.3f}')"
   ]
  },
  {
   "cell_type": "markdown",
   "id": "72072c91-af00-4f55-aec8-731bebfe8afb",
   "metadata": {
    "jp-MarkdownHeadingCollapsed": true,
    "tags": []
   },
   "source": [
    "## out of domain data"
   ]
  },
  {
   "cell_type": "code",
   "execution_count": 115,
   "id": "31e3b3ec-680b-4883-a390-16e7a759b3c9",
   "metadata": {
    "tags": []
   },
   "outputs": [
    {
     "name": "stderr",
     "output_type": "stream",
     "text": [
      "/home/nehaiitr/mambaforge/envs/jlabenv/lib/python3.11/site-packages/sklearn/ensemble/_forest.py:578: UserWarning: Some inputs do not have OOB scores. This probably means too few trees were used to compute any reliable OOB estimates.\n"
     ]
    }
   ],
   "source": [
    "df_dom = pd.concat([xs_cluster,valid_cluster])\n",
    "is_valid = [0]*len(xs_cluster) + [1]*len(valid_cluster)\n",
    "\n",
    "rf_dom = rf_model(df_dom,is_valid)"
   ]
  },
  {
   "cell_type": "code",
   "execution_count": 120,
   "id": "d8c9b163-1619-4045-9303-2df18b17c9e9",
   "metadata": {
    "tags": []
   },
   "outputs": [
    {
     "data": {
      "text/plain": [
       "5     saleElapsed\n",
       "8         SalesID\n",
       "4         ModelID\n",
       "13      MachineID\n",
       "0        YearMade\n",
       "Name: cols, dtype: object"
      ]
     },
     "execution_count": 120,
     "metadata": {},
     "output_type": "execute_result"
    }
   ],
   "source": [
    "rf_feat_importance(rf_dom,df_dom).head(5)"
   ]
  },
  {
   "cell_type": "code",
   "execution_count": 121,
   "id": "01dace91-c5ce-4685-b554-bcb84d3cda1e",
   "metadata": {
    "tags": []
   },
   "outputs": [
    {
     "name": "stderr",
     "output_type": "stream",
     "text": [
      "/home/nehaiitr/mambaforge/envs/jlabenv/lib/python3.11/site-packages/sklearn/ensemble/_forest.py:578: UserWarning: Some inputs do not have OOB scores. This probably means too few trees were used to compute any reliable OOB estimates.\n"
     ]
    },
    {
     "name": "stdout",
     "output_type": "stream",
     "text": [
      "original : 0.238731\n"
     ]
    },
    {
     "name": "stderr",
     "output_type": "stream",
     "text": [
      "/home/nehaiitr/mambaforge/envs/jlabenv/lib/python3.11/site-packages/sklearn/ensemble/_forest.py:578: UserWarning: Some inputs do not have OOB scores. This probably means too few trees were used to compute any reliable OOB estimates.\n"
     ]
    },
    {
     "name": "stdout",
     "output_type": "stream",
     "text": [
      "saleElapsed : 0.240905\n"
     ]
    },
    {
     "name": "stderr",
     "output_type": "stream",
     "text": [
      "/home/nehaiitr/mambaforge/envs/jlabenv/lib/python3.11/site-packages/sklearn/ensemble/_forest.py:578: UserWarning: Some inputs do not have OOB scores. This probably means too few trees were used to compute any reliable OOB estimates.\n"
     ]
    },
    {
     "name": "stdout",
     "output_type": "stream",
     "text": [
      "SalesID : 0.237365\n"
     ]
    },
    {
     "name": "stderr",
     "output_type": "stream",
     "text": [
      "/home/nehaiitr/mambaforge/envs/jlabenv/lib/python3.11/site-packages/sklearn/ensemble/_forest.py:578: UserWarning: Some inputs do not have OOB scores. This probably means too few trees were used to compute any reliable OOB estimates.\n"
     ]
    },
    {
     "name": "stdout",
     "output_type": "stream",
     "text": [
      "ModelID : 0.241477\n"
     ]
    },
    {
     "name": "stderr",
     "output_type": "stream",
     "text": [
      "/home/nehaiitr/mambaforge/envs/jlabenv/lib/python3.11/site-packages/sklearn/ensemble/_forest.py:578: UserWarning: Some inputs do not have OOB scores. This probably means too few trees were used to compute any reliable OOB estimates.\n"
     ]
    },
    {
     "name": "stdout",
     "output_type": "stream",
     "text": [
      "MachineID : 0.236126\n",
      "YearMade : 0.270269\n"
     ]
    },
    {
     "name": "stderr",
     "output_type": "stream",
     "text": [
      "/home/nehaiitr/mambaforge/envs/jlabenv/lib/python3.11/site-packages/sklearn/ensemble/_forest.py:578: UserWarning: Some inputs do not have OOB scores. This probably means too few trees were used to compute any reliable OOB estimates.\n"
     ]
    }
   ],
   "source": [
    "m = rf_model(xs_cluster,y)\n",
    "print(f\"original : {m_rmse(m,valid_cluster,valid_y)}\")\n",
    "\n",
    "to_rm = list(rf_feat_importance(rf_dom,df_dom).head(5).cols)\n",
    "\n",
    "for col in to_rm:\n",
    "    m = rf_model(xs_cluster.drop(columns=[col]),y)\n",
    "    print(f\"{col} : {m_rmse(m,valid_cluster.drop(columns=[col]),valid_y)}\")"
   ]
  },
  {
   "cell_type": "code",
   "execution_count": 123,
   "id": "63b054de-3df9-46f1-b605-974fb4d09019",
   "metadata": {
    "tags": []
   },
   "outputs": [
    {
     "name": "stderr",
     "output_type": "stream",
     "text": [
      "/home/nehaiitr/mambaforge/envs/jlabenv/lib/python3.11/site-packages/sklearn/ensemble/_forest.py:578: UserWarning: Some inputs do not have OOB scores. This probably means too few trees were used to compute any reliable OOB estimates.\n"
     ]
    },
    {
     "data": {
      "text/plain": [
       "(0.195094, 0.235476)"
      ]
     },
     "execution_count": 123,
     "metadata": {},
     "output_type": "execute_result"
    }
   ],
   "source": [
    "time_vars = ['SalesID','MachineID']\n",
    "xs_time = xs_cluster.drop(columns=time_vars)\n",
    "valid_time = valid_cluster.drop(columns=time_vars)\n",
    "\n",
    "m = rf_model(xs_time,y)\n",
    "m_rmse(m,xs_time,y),m_rmse(m,valid_time,valid_y)"
   ]
  },
  {
   "cell_type": "markdown",
   "id": "56802d64-766a-45c4-9330-f9fdf51a44b4",
   "metadata": {
    "jp-MarkdownHeadingCollapsed": true,
    "tags": []
   },
   "source": [
    "# Neural Network"
   ]
  },
  {
   "cell_type": "code",
   "execution_count": 126,
   "id": "86d9518e-d2d9-4131-8aa9-81c71d7831c8",
   "metadata": {
    "tags": []
   },
   "outputs": [
    {
     "name": "stderr",
     "output_type": "stream",
     "text": [
      "/home/nehaiitr/mambaforge/envs/jlabenv/lib/python3.11/site-packages/fastai/tabular/core.py:23: UserWarning: The argument 'infer_datetime_format' is deprecated and will be removed in a future version. A strict version of it is now the default, see https://pandas.pydata.org/pdeps/0004-consistent-to-datetime-parsing.html. You can safely remove this argument.\n"
     ]
    }
   ],
   "source": [
    "df_nn = pd.read_csv(path/'TrainAndValid.csv',low_memory=False)\n",
    "sizes = 'Large', 'Large / Medium', 'Medium','Small', 'Mini','Compact'\n",
    "df_nn['ProductSize'] = df_nn['ProductSize'].astype('category')\n",
    "df_nn['ProductSize'] = df_nn['ProductSize'].cat.set_categories(sizes,ordered =True)\n",
    "depVar = 'SalePrice'\n",
    "df_nn[depVar] = np.log(df_nn.SalePrice)\n",
    "df_nn = add_datepart(df_nn,'saledate')"
   ]
  },
  {
   "cell_type": "code",
   "execution_count": 131,
   "id": "10b60630-04e0-4d83-aa9a-d5f781646986",
   "metadata": {
    "tags": []
   },
   "outputs": [],
   "source": [
    "df_nn_final = df_nn[list(xs_time.columns) + [depVar]]\n",
    "cont,cat = cont_cat_split(df_nn_final,max_card=9000,dep_var=depVar)"
   ]
  },
  {
   "cell_type": "code",
   "execution_count": 132,
   "id": "da234b9d-74a6-478c-9690-99872803fadc",
   "metadata": {
    "tags": []
   },
   "outputs": [
    {
     "data": {
      "text/plain": [
       "['saleElapsed']"
      ]
     },
     "execution_count": 132,
     "metadata": {},
     "output_type": "execute_result"
    }
   ],
   "source": [
    "cont"
   ]
  },
  {
   "cell_type": "code",
   "execution_count": 135,
   "id": "d19cd8b9-4284-4d89-b0cf-0f3b835b33ee",
   "metadata": {
    "tags": []
   },
   "outputs": [
    {
     "data": {
      "text/plain": [
       "YearMade                73\n",
       "Coupler_System           2\n",
       "ProductSize              6\n",
       "fiProductClassDesc      74\n",
       "ModelID               5281\n",
       "fiSecondaryDesc        177\n",
       "fiModelDesc           5059\n",
       "Hydraulics_Flow          3\n",
       "fiModelDescriptor      140\n",
       "Enclosure                6\n",
       "ProductGroup             6\n",
       "Hydraulics              12\n",
       "Drive_System             4\n",
       "dtype: int64"
      ]
     },
     "execution_count": 135,
     "metadata": {},
     "output_type": "execute_result"
    }
   ],
   "source": [
    "df_nn_final[cat].nunique()"
   ]
  },
  {
   "cell_type": "code",
   "execution_count": 136,
   "id": "f940286d-ceec-44fd-8965-11da4782257c",
   "metadata": {
    "tags": []
   },
   "outputs": [
    {
     "name": "stderr",
     "output_type": "stream",
     "text": [
      "/home/nehaiitr/mambaforge/envs/jlabenv/lib/python3.11/site-packages/sklearn/ensemble/_forest.py:578: UserWarning: Some inputs do not have OOB scores. This probably means too few trees were used to compute any reliable OOB estimates.\n"
     ]
    },
    {
     "data": {
      "text/plain": [
       "(0.199982, 0.23647)"
      ]
     },
     "execution_count": 136,
     "metadata": {},
     "output_type": "execute_result"
    }
   ],
   "source": [
    "big_col = ['fiModelDesc']\n",
    "m1 = rf_model(xs_time.drop(columns=big_col,axis=1),y)\n",
    "m_rmse(m1,xs_time.drop(columns=big_col,axis=1),y),m_rmse(m1,valid_time.drop(columns=big_col,axis=1),valid_y)"
   ]
  },
  {
   "cell_type": "code",
   "execution_count": 137,
   "id": "006b2769-c3ad-4774-8c6e-696ca32aad8b",
   "metadata": {
    "tags": []
   },
   "outputs": [],
   "source": [
    "cat.remove(big_col[0])"
   ]
  },
  {
   "cell_type": "code",
   "execution_count": 140,
   "id": "170fdc06-7eeb-4ae0-8e7e-ce06bc98f7dd",
   "metadata": {
    "tags": []
   },
   "outputs": [],
   "source": [
    "procs_nn = [Categorify,FillMissing,Normalize]\n",
    "to_nn = TabularPandas(df_nn_final,procs = procs_nn,cat_names=cat,cont_names=cont,y_names=depVar,splits=splits)\n",
    "dls = to_nn.dataloaders(1024)"
   ]
  },
  {
   "cell_type": "code",
   "execution_count": 142,
   "id": "f5309072-af55-4996-9309-7d3c9404313d",
   "metadata": {
    "tags": []
   },
   "outputs": [
    {
     "data": {
      "text/plain": [
       "(11.863582611083984, 8.465899467468262)"
      ]
     },
     "execution_count": 142,
     "metadata": {},
     "output_type": "execute_result"
    }
   ],
   "source": [
    "max(to_nn.train.y),min(to_nn.train.y)"
   ]
  },
  {
   "cell_type": "code",
   "execution_count": 144,
   "id": "d953e676-037c-4bb6-a173-2dc713b1779b",
   "metadata": {
    "tags": []
   },
   "outputs": [],
   "source": [
    "learn = tabular_learner(dls,layers = [500,250],y_range= (8,12),n_out=1,loss_func=F.mse_loss)"
   ]
  },
  {
   "cell_type": "code",
   "execution_count": 145,
   "id": "e664b6c1-aa4e-49e6-b87b-e190add8e539",
   "metadata": {
    "tags": []
   },
   "outputs": [
    {
     "data": {
      "text/html": [
       "\n",
       "<style>\n",
       "    /* Turns off some styling */\n",
       "    progress {\n",
       "        /* gets rid of default border in Firefox and Opera. */\n",
       "        border: none;\n",
       "        /* Needs to be in here for Safari polyfill so background images work as expected. */\n",
       "        background-size: auto;\n",
       "    }\n",
       "    progress:not([value]), progress:not([value])::-webkit-progress-bar {\n",
       "        background: repeating-linear-gradient(45deg, #7e7e7e, #7e7e7e 10px, #5c5c5c 10px, #5c5c5c 20px);\n",
       "    }\n",
       "    .progress-bar-interrupted, .progress-bar-interrupted::-webkit-progress-bar {\n",
       "        background: #F44336;\n",
       "    }\n",
       "</style>\n"
      ],
      "text/plain": [
       "<IPython.core.display.HTML object>"
      ]
     },
     "metadata": {},
     "output_type": "display_data"
    },
    {
     "data": {
      "text/html": [],
      "text/plain": [
       "<IPython.core.display.HTML object>"
      ]
     },
     "metadata": {},
     "output_type": "display_data"
    },
    {
     "data": {
      "text/plain": [
       "SuggestedLRs(valley=0.0002290867705596611)"
      ]
     },
     "execution_count": 145,
     "metadata": {},
     "output_type": "execute_result"
    },
    {
     "data": {
      "image/png": "[encoded data removed]",
      "text/plain": [
       "<Figure size 640x480 with 1 Axes>"
      ]
     },
     "metadata": {},
     "output_type": "display_data"
    }
   ],
   "source": [
    "learn.lr_find()"
   ]
  },
  {
   "cell_type": "code",
   "execution_count": 147,
   "id": "b8d8e503-2b21-4db5-a30a-ad752fa3224a",
   "metadata": {
    "tags": []
   },
   "outputs": [
    {
     "data": {
      "text/html": [
       "\n",
       "<style>\n",
       "    /* Turns off some styling */\n",
       "    progress {\n",
       "        /* gets rid of default border in Firefox and Opera. */\n",
       "        border: none;\n",
       "        /* Needs to be in here for Safari polyfill so background images work as expected. */\n",
       "        background-size: auto;\n",
       "    }\n",
       "    progress:not([value]), progress:not([value])::-webkit-progress-bar {\n",
       "        background: repeating-linear-gradient(45deg, #7e7e7e, #7e7e7e 10px, #5c5c5c 10px, #5c5c5c 20px);\n",
       "    }\n",
       "    .progress-bar-interrupted, .progress-bar-interrupted::-webkit-progress-bar {\n",
       "        background: #F44336;\n",
       "    }\n",
       "</style>\n"
      ],
      "text/plain": [
       "<IPython.core.display.HTML object>"
      ]
     },
     "metadata": {},
     "output_type": "display_data"
    },
    {
     "data": {
      "text/html": [
       "<table border=\"1\" class=\"dataframe\">\n",
       "  <thead>\n",
       "    <tr style=\"text-align: left;\">\n",
       "      <th>epoch</th>\n",
       "      <th>train_loss</th>\n",
       "      <th>valid_loss</th>\n",
       "      <th>time</th>\n",
       "    </tr>\n",
       "  </thead>\n",
       "  <tbody>\n",
       "    <tr>\n",
       "      <td>0</td>\n",
       "      <td>0.062467</td>\n",
       "      <td>0.061261</td>\n",
       "      <td>00:08</td>\n",
       "    </tr>\n",
       "    <tr>\n",
       "      <td>1</td>\n",
       "      <td>0.053708</td>\n",
       "      <td>0.054813</td>\n",
       "      <td>00:08</td>\n",
       "    </tr>\n",
       "    <tr>\n",
       "      <td>2</td>\n",
       "      <td>0.047534</td>\n",
       "      <td>0.055354</td>\n",
       "      <td>00:06</td>\n",
       "    </tr>\n",
       "    <tr>\n",
       "      <td>3</td>\n",
       "      <td>0.043534</td>\n",
       "      <td>0.050626</td>\n",
       "      <td>00:06</td>\n",
       "    </tr>\n",
       "    <tr>\n",
       "      <td>4</td>\n",
       "      <td>0.040521</td>\n",
       "      <td>0.049551</td>\n",
       "      <td>00:06</td>\n",
       "    </tr>\n",
       "  </tbody>\n",
       "</table>"
      ],
      "text/plain": [
       "<IPython.core.display.HTML object>"
      ]
     },
     "metadata": {},
     "output_type": "display_data"
    }
   ],
   "source": [
    "learn.fit_one_cycle(5, 1e-2)"
   ]
  },
  {
   "cell_type": "code",
   "execution_count": 148,
   "id": "e8c5d4d2-143a-4332-81cf-11df8ba99028",
   "metadata": {
    "tags": []
   },
   "outputs": [
    {
     "data": {
      "text/html": [
       "\n",
       "<style>\n",
       "    /* Turns off some styling */\n",
       "    progress {\n",
       "        /* gets rid of default border in Firefox and Opera. */\n",
       "        border: none;\n",
       "        /* Needs to be in here for Safari polyfill so background images work as expected. */\n",
       "        background-size: auto;\n",
       "    }\n",
       "    progress:not([value]), progress:not([value])::-webkit-progress-bar {\n",
       "        background: repeating-linear-gradient(45deg, #7e7e7e, #7e7e7e 10px, #5c5c5c 10px, #5c5c5c 20px);\n",
       "    }\n",
       "    .progress-bar-interrupted, .progress-bar-interrupted::-webkit-progress-bar {\n",
       "        background: #F44336;\n",
       "    }\n",
       "</style>\n"
      ],
      "text/plain": [
       "<IPython.core.display.HTML object>"
      ]
     },
     "metadata": {},
     "output_type": "display_data"
    },
    {
     "data": {
      "text/html": [],
      "text/plain": [
       "<IPython.core.display.HTML object>"
      ]
     },
     "metadata": {},
     "output_type": "display_data"
    },
    {
     "data": {
      "text/plain": [
       "0.222601"
      ]
     },
     "execution_count": 148,
     "metadata": {},
     "output_type": "execute_result"
    }
   ],
   "source": [
    "preds,target = learn.get_preds()\n",
    "r_rmse(preds,target)"
   ]
  },
  {
   "cell_type": "code",
   "execution_count": 149,
   "id": "f5698841-7d1c-43c6-8f9d-f747757d9523",
   "metadata": {
    "tags": []
   },
   "outputs": [
    {
     "data": {
      "text/plain": [
       "torch.Size([7988, 1])"
      ]
     },
     "execution_count": 149,
     "metadata": {},
     "output_type": "execute_result"
    }
   ],
   "source": [
    "preds.shape"
   ]
  },
  {
   "cell_type": "code",
   "execution_count": 151,
   "id": "2ac370d0-9c85-4295-bf24-e5a566f5fc5d",
   "metadata": {
    "tags": []
   },
   "outputs": [
    {
     "data": {
      "text/plain": [
       "Path('models/nn.pth')"
      ]
     },
     "execution_count": 151,
     "metadata": {},
     "output_type": "execute_result"
    }
   ],
   "source": [
    "learn.save(\"nn\")"
   ]
  },
  {
   "cell_type": "markdown",
   "id": "9e9d249a-d0eb-4b0c-bdfe-6a2ce59d45f7",
   "metadata": {
    "jp-MarkdownHeadingCollapsed": true,
    "tags": []
   },
   "source": [
    "# Ensembling"
   ]
  },
  {
   "cell_type": "code",
   "execution_count": 154,
   "id": "908fae1e-f48d-48e2-80a9-9556f4f8d549",
   "metadata": {
    "tags": []
   },
   "outputs": [],
   "source": [
    "rf_preds = m.predict(valid_time)\n",
    "ens_preds = (to_np(preds.squeeze(1))+rf_preds)/2"
   ]
  },
  {
   "cell_type": "code",
   "execution_count": 155,
   "id": "30748b57-259f-495a-b7ee-0840b2759d56",
   "metadata": {
    "tags": []
   },
   "outputs": [
    {
     "data": {
      "text/plain": [
       "0.222462"
      ]
     },
     "execution_count": 155,
     "metadata": {},
     "output_type": "execute_result"
    }
   ],
   "source": [
    "r_rmse(ens_preds,valid_y)"
   ]
  },
  {
   "cell_type": "code",
   "execution_count": null,
   "id": "7c24bbf8-762d-43fa-b23f-5d51da55113d",
   "metadata": {},
   "outputs": [],
   "source": []
  }
 ],
 "metadata": {
  "kernelspec": {
   "display_name": "Python 3 (ipykernel)",
   "language": "python",
   "name": "python3"
  },
  "language_info": {
   "codemirror_mode": {
    "name": "ipython",
    "version": 3
   },
   "file_extension": ".py",
   "mimetype": "text/x-python",
   "name": "python",
   "nbconvert_exporter": "python",
   "pygments_lexer": "ipython3",
   "version": "3.11.4"
  }
 },
 "nbformat": 4,
 "nbformat_minor": 5
}
