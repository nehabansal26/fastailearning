{
 "cells": [
  {
   "cell_type": "markdown",
   "id": "3fa679fe-e899-46c6-be93-5afedfd593a7",
   "metadata": {
    "tags": []
   },
   "source": [
    "## new library\n",
    "- sympy : symbolic math calculation\n",
    "\n",
    "## things to ponder\n",
    "- how normalization impact the weight optimization process\n",
    "- dividing by n_hidden for weights is not clear"
   ]
  },
  {
   "cell_type": "markdown",
   "id": "f67b59e3-6ca5-4c99-b010-b411983660f5",
   "metadata": {},
   "source": [
    "# Titanic Data"
   ]
  },
  {
   "cell_type": "code",
   "execution_count": 36,
   "id": "32178eaa-4cbd-4c98-a8dc-9c62a59aa2d6",
   "metadata": {
    "tags": []
   },
   "outputs": [],
   "source": [
    "import pandas as pd\n",
    "import numpy as np \n",
    "import os\n",
    "import torch \n",
    "from torch import tensor"
   ]
  },
  {
   "cell_type": "code",
   "execution_count": 48,
   "id": "cbd07c63-ecba-4779-8d15-2d5e428f7d2b",
   "metadata": {
    "tags": []
   },
   "outputs": [],
   "source": [
    "df = pd.read_csv(\"train.csv\")"
   ]
  },
  {
   "cell_type": "code",
   "execution_count": 49,
   "id": "c5cdbec9-dc73-4be4-a329-ec313b753946",
   "metadata": {
    "tags": []
   },
   "outputs": [
    {
     "data": {
      "text/html": [
       "<div>\n",
       "<style scoped>\n",
       "    .dataframe tbody tr th:only-of-type {\n",
       "        vertical-align: middle;\n",
       "    }\n",
       "\n",
       "    .dataframe tbody tr th {\n",
       "        vertical-align: top;\n",
       "    }\n",
       "\n",
       "    .dataframe thead th {\n",
       "        text-align: right;\n",
       "    }\n",
       "</style>\n",
       "<table border=\"1\" class=\"dataframe\">\n",
       "  <thead>\n",
       "    <tr style=\"text-align: right;\">\n",
       "      <th></th>\n",
       "      <th>PassengerId</th>\n",
       "      <th>Survived</th>\n",
       "      <th>Pclass</th>\n",
       "      <th>Name</th>\n",
       "      <th>Sex</th>\n",
       "      <th>Age</th>\n",
       "      <th>SibSp</th>\n",
       "      <th>Parch</th>\n",
       "      <th>Ticket</th>\n",
       "      <th>Fare</th>\n",
       "      <th>Cabin</th>\n",
       "      <th>Embarked</th>\n",
       "    </tr>\n",
       "  </thead>\n",
       "  <tbody>\n",
       "    <tr>\n",
       "      <th>0</th>\n",
       "      <td>1</td>\n",
       "      <td>0</td>\n",
       "      <td>3</td>\n",
       "      <td>Braund, Mr. Owen Harris</td>\n",
       "      <td>male</td>\n",
       "      <td>22.0</td>\n",
       "      <td>1</td>\n",
       "      <td>0</td>\n",
       "      <td>A/5 21171</td>\n",
       "      <td>7.2500</td>\n",
       "      <td>NaN</td>\n",
       "      <td>S</td>\n",
       "    </tr>\n",
       "    <tr>\n",
       "      <th>1</th>\n",
       "      <td>2</td>\n",
       "      <td>1</td>\n",
       "      <td>1</td>\n",
       "      <td>Cumings, Mrs. John Bradley (Florence Briggs Th...</td>\n",
       "      <td>female</td>\n",
       "      <td>38.0</td>\n",
       "      <td>1</td>\n",
       "      <td>0</td>\n",
       "      <td>PC 17599</td>\n",
       "      <td>71.2833</td>\n",
       "      <td>C85</td>\n",
       "      <td>C</td>\n",
       "    </tr>\n",
       "    <tr>\n",
       "      <th>2</th>\n",
       "      <td>3</td>\n",
       "      <td>1</td>\n",
       "      <td>3</td>\n",
       "      <td>Heikkinen, Miss. Laina</td>\n",
       "      <td>female</td>\n",
       "      <td>26.0</td>\n",
       "      <td>0</td>\n",
       "      <td>0</td>\n",
       "      <td>STON/O2. 3101282</td>\n",
       "      <td>7.9250</td>\n",
       "      <td>NaN</td>\n",
       "      <td>S</td>\n",
       "    </tr>\n",
       "    <tr>\n",
       "      <th>3</th>\n",
       "      <td>4</td>\n",
       "      <td>1</td>\n",
       "      <td>1</td>\n",
       "      <td>Futrelle, Mrs. Jacques Heath (Lily May Peel)</td>\n",
       "      <td>female</td>\n",
       "      <td>35.0</td>\n",
       "      <td>1</td>\n",
       "      <td>0</td>\n",
       "      <td>113803</td>\n",
       "      <td>53.1000</td>\n",
       "      <td>C123</td>\n",
       "      <td>S</td>\n",
       "    </tr>\n",
       "    <tr>\n",
       "      <th>4</th>\n",
       "      <td>5</td>\n",
       "      <td>0</td>\n",
       "      <td>3</td>\n",
       "      <td>Allen, Mr. William Henry</td>\n",
       "      <td>male</td>\n",
       "      <td>35.0</td>\n",
       "      <td>0</td>\n",
       "      <td>0</td>\n",
       "      <td>373450</td>\n",
       "      <td>8.0500</td>\n",
       "      <td>NaN</td>\n",
       "      <td>S</td>\n",
       "    </tr>\n",
       "  </tbody>\n",
       "</table>\n",
       "</div>"
      ],
      "text/plain": [
       "   PassengerId  Survived  Pclass  \\\n",
       "0            1         0       3   \n",
       "1            2         1       1   \n",
       "2            3         1       3   \n",
       "3            4         1       1   \n",
       "4            5         0       3   \n",
       "\n",
       "                                                Name     Sex   Age  SibSp  \\\n",
       "0                            Braund, Mr. Owen Harris    male  22.0      1   \n",
       "1  Cumings, Mrs. John Bradley (Florence Briggs Th...  female  38.0      1   \n",
       "2                             Heikkinen, Miss. Laina  female  26.0      0   \n",
       "3       Futrelle, Mrs. Jacques Heath (Lily May Peel)  female  35.0      1   \n",
       "4                           Allen, Mr. William Henry    male  35.0      0   \n",
       "\n",
       "   Parch            Ticket     Fare Cabin Embarked  \n",
       "0      0         A/5 21171   7.2500   NaN        S  \n",
       "1      0          PC 17599  71.2833   C85        C  \n",
       "2      0  STON/O2. 3101282   7.9250   NaN        S  \n",
       "3      0            113803  53.1000  C123        S  \n",
       "4      0            373450   8.0500   NaN        S  "
      ]
     },
     "execution_count": 49,
     "metadata": {},
     "output_type": "execute_result"
    }
   ],
   "source": [
    "df.head()"
   ]
  },
  {
   "cell_type": "code",
   "execution_count": 50,
   "id": "2238b3bc-14d4-4c7e-a18c-f10bb4d85053",
   "metadata": {
    "tags": []
   },
   "outputs": [
    {
     "data": {
      "text/plain": [
       "PassengerId      0\n",
       "Survived         0\n",
       "Pclass           0\n",
       "Name             0\n",
       "Sex              0\n",
       "Age            177\n",
       "SibSp            0\n",
       "Parch            0\n",
       "Ticket           0\n",
       "Fare             0\n",
       "Cabin          687\n",
       "Embarked         2\n",
       "dtype: int64"
      ]
     },
     "execution_count": 50,
     "metadata": {},
     "output_type": "execute_result"
    }
   ],
   "source": [
    "df.isna().sum()"
   ]
  },
  {
   "cell_type": "code",
   "execution_count": 51,
   "id": "67c61a2d-01ec-4103-a3f4-d560b11e150d",
   "metadata": {
    "tags": []
   },
   "outputs": [
    {
     "data": {
      "text/plain": [
       "PassengerId                      1\n",
       "Survived                       0.0\n",
       "Pclass                         3.0\n",
       "Name           Abbing, Mr. Anthony\n",
       "Sex                           male\n",
       "Age                           24.0\n",
       "SibSp                          0.0\n",
       "Parch                          0.0\n",
       "Ticket                        1601\n",
       "Fare                          8.05\n",
       "Cabin                      B96 B98\n",
       "Embarked                         S\n",
       "Name: 0, dtype: object"
      ]
     },
     "execution_count": 51,
     "metadata": {},
     "output_type": "execute_result"
    }
   ],
   "source": [
    "# it return multiple values when there is tie\n",
    "modes = df.mode().iloc[0]\n",
    "modes"
   ]
  },
  {
   "cell_type": "code",
   "execution_count": 52,
   "id": "2ce8e3d3-b18a-4066-a2e4-4c7e9dd92fcc",
   "metadata": {
    "tags": []
   },
   "outputs": [],
   "source": [
    "df.fillna(modes,inplace=True)"
   ]
  },
  {
   "cell_type": "code",
   "execution_count": 53,
   "id": "548bf3f9-6a38-4754-a361-ca67933c3d33",
   "metadata": {
    "tags": []
   },
   "outputs": [
    {
     "data": {
      "text/plain": [
       "PassengerId    0\n",
       "Survived       0\n",
       "Pclass         0\n",
       "Name           0\n",
       "Sex            0\n",
       "Age            0\n",
       "SibSp          0\n",
       "Parch          0\n",
       "Ticket         0\n",
       "Fare           0\n",
       "Cabin          0\n",
       "Embarked       0\n",
       "dtype: int64"
      ]
     },
     "execution_count": 53,
     "metadata": {},
     "output_type": "execute_result"
    }
   ],
   "source": [
    "df.isna().sum()"
   ]
  },
  {
   "cell_type": "code",
   "execution_count": 54,
   "id": "1530d562-0c71-4311-b002-7f229d101a56",
   "metadata": {
    "tags": []
   },
   "outputs": [
    {
     "data": {
      "text/html": [
       "<div>\n",
       "<style scoped>\n",
       "    .dataframe tbody tr th:only-of-type {\n",
       "        vertical-align: middle;\n",
       "    }\n",
       "\n",
       "    .dataframe tbody tr th {\n",
       "        vertical-align: top;\n",
       "    }\n",
       "\n",
       "    .dataframe thead th {\n",
       "        text-align: right;\n",
       "    }\n",
       "</style>\n",
       "<table border=\"1\" class=\"dataframe\">\n",
       "  <thead>\n",
       "    <tr style=\"text-align: right;\">\n",
       "      <th></th>\n",
       "      <th>PassengerId</th>\n",
       "      <th>Survived</th>\n",
       "      <th>Pclass</th>\n",
       "      <th>Age</th>\n",
       "      <th>SibSp</th>\n",
       "      <th>Parch</th>\n",
       "      <th>Fare</th>\n",
       "    </tr>\n",
       "  </thead>\n",
       "  <tbody>\n",
       "    <tr>\n",
       "      <th>count</th>\n",
       "      <td>891.000000</td>\n",
       "      <td>891.000000</td>\n",
       "      <td>891.000000</td>\n",
       "      <td>891.000000</td>\n",
       "      <td>891.000000</td>\n",
       "      <td>891.000000</td>\n",
       "      <td>891.000000</td>\n",
       "    </tr>\n",
       "    <tr>\n",
       "      <th>mean</th>\n",
       "      <td>446.000000</td>\n",
       "      <td>0.383838</td>\n",
       "      <td>2.308642</td>\n",
       "      <td>28.566970</td>\n",
       "      <td>0.523008</td>\n",
       "      <td>0.381594</td>\n",
       "      <td>32.204208</td>\n",
       "    </tr>\n",
       "    <tr>\n",
       "      <th>std</th>\n",
       "      <td>257.353842</td>\n",
       "      <td>0.486592</td>\n",
       "      <td>0.836071</td>\n",
       "      <td>13.199572</td>\n",
       "      <td>1.102743</td>\n",
       "      <td>0.806057</td>\n",
       "      <td>49.693429</td>\n",
       "    </tr>\n",
       "    <tr>\n",
       "      <th>min</th>\n",
       "      <td>1.000000</td>\n",
       "      <td>0.000000</td>\n",
       "      <td>1.000000</td>\n",
       "      <td>0.420000</td>\n",
       "      <td>0.000000</td>\n",
       "      <td>0.000000</td>\n",
       "      <td>0.000000</td>\n",
       "    </tr>\n",
       "    <tr>\n",
       "      <th>25%</th>\n",
       "      <td>223.500000</td>\n",
       "      <td>0.000000</td>\n",
       "      <td>2.000000</td>\n",
       "      <td>22.000000</td>\n",
       "      <td>0.000000</td>\n",
       "      <td>0.000000</td>\n",
       "      <td>7.910400</td>\n",
       "    </tr>\n",
       "    <tr>\n",
       "      <th>50%</th>\n",
       "      <td>446.000000</td>\n",
       "      <td>0.000000</td>\n",
       "      <td>3.000000</td>\n",
       "      <td>24.000000</td>\n",
       "      <td>0.000000</td>\n",
       "      <td>0.000000</td>\n",
       "      <td>14.454200</td>\n",
       "    </tr>\n",
       "    <tr>\n",
       "      <th>75%</th>\n",
       "      <td>668.500000</td>\n",
       "      <td>1.000000</td>\n",
       "      <td>3.000000</td>\n",
       "      <td>35.000000</td>\n",
       "      <td>1.000000</td>\n",
       "      <td>0.000000</td>\n",
       "      <td>31.000000</td>\n",
       "    </tr>\n",
       "    <tr>\n",
       "      <th>max</th>\n",
       "      <td>891.000000</td>\n",
       "      <td>1.000000</td>\n",
       "      <td>3.000000</td>\n",
       "      <td>80.000000</td>\n",
       "      <td>8.000000</td>\n",
       "      <td>6.000000</td>\n",
       "      <td>512.329200</td>\n",
       "    </tr>\n",
       "  </tbody>\n",
       "</table>\n",
       "</div>"
      ],
      "text/plain": [
       "       PassengerId    Survived      Pclass         Age       SibSp  \\\n",
       "count   891.000000  891.000000  891.000000  891.000000  891.000000   \n",
       "mean    446.000000    0.383838    2.308642   28.566970    0.523008   \n",
       "std     257.353842    0.486592    0.836071   13.199572    1.102743   \n",
       "min       1.000000    0.000000    1.000000    0.420000    0.000000   \n",
       "25%     223.500000    0.000000    2.000000   22.000000    0.000000   \n",
       "50%     446.000000    0.000000    3.000000   24.000000    0.000000   \n",
       "75%     668.500000    1.000000    3.000000   35.000000    1.000000   \n",
       "max     891.000000    1.000000    3.000000   80.000000    8.000000   \n",
       "\n",
       "            Parch        Fare  \n",
       "count  891.000000  891.000000  \n",
       "mean     0.381594   32.204208  \n",
       "std      0.806057   49.693429  \n",
       "min      0.000000    0.000000  \n",
       "25%      0.000000    7.910400  \n",
       "50%      0.000000   14.454200  \n",
       "75%      0.000000   31.000000  \n",
       "max      6.000000  512.329200  "
      ]
     },
     "execution_count": 54,
     "metadata": {},
     "output_type": "execute_result"
    }
   ],
   "source": [
    "df.describe(include=(np.number))"
   ]
  },
  {
   "cell_type": "code",
   "execution_count": 55,
   "id": "4dc0eec7-2935-4101-bc11-e5939b51fc93",
   "metadata": {
    "tags": []
   },
   "outputs": [
    {
     "data": {
      "text/plain": [
       "<Axes: >"
      ]
     },
     "execution_count": 55,
     "metadata": {},
     "output_type": "execute_result"
    },
    {
     "data": {
      "image/png": "[encoded data removed]",
      "text/plain": [
       "<Figure size 640x480 with 1 Axes>"
      ]
     },
     "metadata": {},
     "output_type": "display_data"
    }
   ],
   "source": [
    "df.Fare.hist()"
   ]
  },
  {
   "cell_type": "code",
   "execution_count": 56,
   "id": "9fe9fddc-1b87-4273-a135-b2eb0b885dbb",
   "metadata": {
    "tags": []
   },
   "outputs": [],
   "source": [
    "df['logfare'] = np.log(df.Fare+1)"
   ]
  },
  {
   "cell_type": "code",
   "execution_count": 57,
   "id": "e7bc97eb-830a-478b-9456-188d46fe1a8f",
   "metadata": {
    "tags": []
   },
   "outputs": [
    {
     "data": {
      "text/plain": [
       "<Axes: >"
      ]
     },
     "execution_count": 57,
     "metadata": {},
     "output_type": "execute_result"
    },
    {
     "data": {
      "image/png": "[encoded data removed]",
      "text/plain": [
       "<Figure size 640x480 with 1 Axes>"
      ]
     },
     "metadata": {},
     "output_type": "display_data"
    }
   ],
   "source": [
    "df.logfare.hist()"
   ]
  },
  {
   "cell_type": "code",
   "execution_count": 58,
   "id": "29d83ceb-e891-45b1-8b79-c8aba6c8500a",
   "metadata": {
    "tags": []
   },
   "outputs": [
    {
     "data": {
      "text/plain": [
       "[1, 2, 3]"
      ]
     },
     "execution_count": 58,
     "metadata": {},
     "output_type": "execute_result"
    }
   ],
   "source": [
    "pclasses = sorted(df.Pclass.unique())\n",
    "pclasses"
   ]
  },
  {
   "cell_type": "code",
   "execution_count": 59,
   "id": "95252aaa-ce89-439a-9d5d-1e650436a8e0",
   "metadata": {
    "tags": []
   },
   "outputs": [
    {
     "data": {
      "text/html": [
       "<div>\n",
       "<style scoped>\n",
       "    .dataframe tbody tr th:only-of-type {\n",
       "        vertical-align: middle;\n",
       "    }\n",
       "\n",
       "    .dataframe tbody tr th {\n",
       "        vertical-align: top;\n",
       "    }\n",
       "\n",
       "    .dataframe thead th {\n",
       "        text-align: right;\n",
       "    }\n",
       "</style>\n",
       "<table border=\"1\" class=\"dataframe\">\n",
       "  <thead>\n",
       "    <tr style=\"text-align: right;\">\n",
       "      <th></th>\n",
       "      <th>Name</th>\n",
       "      <th>Sex</th>\n",
       "      <th>Ticket</th>\n",
       "      <th>Cabin</th>\n",
       "      <th>Embarked</th>\n",
       "    </tr>\n",
       "  </thead>\n",
       "  <tbody>\n",
       "    <tr>\n",
       "      <th>count</th>\n",
       "      <td>891</td>\n",
       "      <td>891</td>\n",
       "      <td>891</td>\n",
       "      <td>891</td>\n",
       "      <td>891</td>\n",
       "    </tr>\n",
       "    <tr>\n",
       "      <th>unique</th>\n",
       "      <td>891</td>\n",
       "      <td>2</td>\n",
       "      <td>681</td>\n",
       "      <td>147</td>\n",
       "      <td>3</td>\n",
       "    </tr>\n",
       "    <tr>\n",
       "      <th>top</th>\n",
       "      <td>Braund, Mr. Owen Harris</td>\n",
       "      <td>male</td>\n",
       "      <td>347082</td>\n",
       "      <td>B96 B98</td>\n",
       "      <td>S</td>\n",
       "    </tr>\n",
       "    <tr>\n",
       "      <th>freq</th>\n",
       "      <td>1</td>\n",
       "      <td>577</td>\n",
       "      <td>7</td>\n",
       "      <td>691</td>\n",
       "      <td>646</td>\n",
       "    </tr>\n",
       "  </tbody>\n",
       "</table>\n",
       "</div>"
      ],
      "text/plain": [
       "                           Name   Sex  Ticket    Cabin Embarked\n",
       "count                       891   891     891      891      891\n",
       "unique                      891     2     681      147        3\n",
       "top     Braund, Mr. Owen Harris  male  347082  B96 B98        S\n",
       "freq                          1   577       7      691      646"
      ]
     },
     "execution_count": 59,
     "metadata": {},
     "output_type": "execute_result"
    }
   ],
   "source": [
    "df.describe(include=object)"
   ]
  },
  {
   "cell_type": "code",
   "execution_count": 60,
   "id": "4f98cef8-d013-41b7-a172-037235d1b9f2",
   "metadata": {
    "tags": []
   },
   "outputs": [],
   "source": [
    "df = pd.get_dummies(df,columns=['Sex','Pclass','Embarked'],dtype=int)"
   ]
  },
  {
   "cell_type": "code",
   "execution_count": 61,
   "id": "237470e2-35f2-4f25-8126-863577720329",
   "metadata": {
    "tags": []
   },
   "outputs": [
    {
     "data": {
      "text/plain": [
       "Index(['PassengerId', 'Survived', 'Name', 'Age', 'SibSp', 'Parch', 'Ticket',\n",
       "       'Fare', 'Cabin', 'logfare', 'Sex_female', 'Sex_male', 'Pclass_1',\n",
       "       'Pclass_2', 'Pclass_3', 'Embarked_C', 'Embarked_Q', 'Embarked_S'],\n",
       "      dtype='object')"
      ]
     },
     "execution_count": 61,
     "metadata": {},
     "output_type": "execute_result"
    }
   ],
   "source": [
    "df.columns"
   ]
  },
  {
   "cell_type": "code",
   "execution_count": 62,
   "id": "5d69384c-f2c2-4fff-95d3-36c56c75db19",
   "metadata": {
    "tags": []
   },
   "outputs": [],
   "source": [
    "added_columns = ['Sex_female', 'Sex_male', 'Pclass_1',\n",
    "       'Pclass_2', 'Pclass_3', 'Embarked_C', 'Embarked_Q', 'Embarked_S']"
   ]
  },
  {
   "cell_type": "code",
   "execution_count": 63,
   "id": "f02e8446-8306-4397-ad32-a295f4a92952",
   "metadata": {
    "tags": []
   },
   "outputs": [
    {
     "data": {
      "text/html": [
       "<div>\n",
       "<style scoped>\n",
       "    .dataframe tbody tr th:only-of-type {\n",
       "        vertical-align: middle;\n",
       "    }\n",
       "\n",
       "    .dataframe tbody tr th {\n",
       "        vertical-align: top;\n",
       "    }\n",
       "\n",
       "    .dataframe thead th {\n",
       "        text-align: right;\n",
       "    }\n",
       "</style>\n",
       "<table border=\"1\" class=\"dataframe\">\n",
       "  <thead>\n",
       "    <tr style=\"text-align: right;\">\n",
       "      <th></th>\n",
       "      <th>Sex_female</th>\n",
       "      <th>Sex_male</th>\n",
       "      <th>Pclass_1</th>\n",
       "      <th>Pclass_2</th>\n",
       "      <th>Pclass_3</th>\n",
       "      <th>Embarked_C</th>\n",
       "      <th>Embarked_Q</th>\n",
       "      <th>Embarked_S</th>\n",
       "    </tr>\n",
       "  </thead>\n",
       "  <tbody>\n",
       "    <tr>\n",
       "      <th>0</th>\n",
       "      <td>0</td>\n",
       "      <td>1</td>\n",
       "      <td>0</td>\n",
       "      <td>0</td>\n",
       "      <td>1</td>\n",
       "      <td>0</td>\n",
       "      <td>0</td>\n",
       "      <td>1</td>\n",
       "    </tr>\n",
       "    <tr>\n",
       "      <th>1</th>\n",
       "      <td>1</td>\n",
       "      <td>0</td>\n",
       "      <td>1</td>\n",
       "      <td>0</td>\n",
       "      <td>0</td>\n",
       "      <td>1</td>\n",
       "      <td>0</td>\n",
       "      <td>0</td>\n",
       "    </tr>\n",
       "    <tr>\n",
       "      <th>2</th>\n",
       "      <td>1</td>\n",
       "      <td>0</td>\n",
       "      <td>0</td>\n",
       "      <td>0</td>\n",
       "      <td>1</td>\n",
       "      <td>0</td>\n",
       "      <td>0</td>\n",
       "      <td>1</td>\n",
       "    </tr>\n",
       "    <tr>\n",
       "      <th>3</th>\n",
       "      <td>1</td>\n",
       "      <td>0</td>\n",
       "      <td>1</td>\n",
       "      <td>0</td>\n",
       "      <td>0</td>\n",
       "      <td>0</td>\n",
       "      <td>0</td>\n",
       "      <td>1</td>\n",
       "    </tr>\n",
       "    <tr>\n",
       "      <th>4</th>\n",
       "      <td>0</td>\n",
       "      <td>1</td>\n",
       "      <td>0</td>\n",
       "      <td>0</td>\n",
       "      <td>1</td>\n",
       "      <td>0</td>\n",
       "      <td>0</td>\n",
       "      <td>1</td>\n",
       "    </tr>\n",
       "  </tbody>\n",
       "</table>\n",
       "</div>"
      ],
      "text/plain": [
       "   Sex_female  Sex_male  Pclass_1  Pclass_2  Pclass_3  Embarked_C  Embarked_Q  \\\n",
       "0           0         1         0         0         1           0           0   \n",
       "1           1         0         1         0         0           1           0   \n",
       "2           1         0         0         0         1           0           0   \n",
       "3           1         0         1         0         0           0           0   \n",
       "4           0         1         0         0         1           0           0   \n",
       "\n",
       "   Embarked_S  \n",
       "0           1  \n",
       "1           0  \n",
       "2           1  \n",
       "3           1  \n",
       "4           1  "
      ]
     },
     "execution_count": 63,
     "metadata": {},
     "output_type": "execute_result"
    }
   ],
   "source": [
    "df[added_columns].head()"
   ]
  },
  {
   "cell_type": "code",
   "execution_count": 64,
   "id": "3998d8ab-6446-4c04-9d34-b09d88feb794",
   "metadata": {
    "tags": []
   },
   "outputs": [],
   "source": [
    "t_dep = tensor(df.Survived)"
   ]
  },
  {
   "cell_type": "code",
   "execution_count": 65,
   "id": "1e975808-ba8a-403e-9aa5-18dee6b9053b",
   "metadata": {
    "tags": []
   },
   "outputs": [],
   "source": [
    "indep_cols = ['Age', 'SibSp', 'Parch', 'logfare'] + added_columns"
   ]
  },
  {
   "cell_type": "code",
   "execution_count": 66,
   "id": "14138f92-11d9-4621-a870-d377c3052ccf",
   "metadata": {
    "tags": []
   },
   "outputs": [],
   "source": [
    "t_indep = tensor(df[indep_cols].values,dtype=torch.float)"
   ]
  },
  {
   "cell_type": "code",
   "execution_count": 67,
   "id": "2a542bab-1e3d-42f3-8e85-76ab1ad3c3ca",
   "metadata": {
    "tags": []
   },
   "outputs": [
    {
     "data": {
      "text/plain": [
       "torch.Size([891, 12])"
      ]
     },
     "execution_count": 67,
     "metadata": {},
     "output_type": "execute_result"
    }
   ],
   "source": [
    "t_indep.shape"
   ]
  },
  {
   "cell_type": "code",
   "execution_count": 69,
   "id": "ff9aa623-9dd6-4749-89f1-5d6c4dd938a8",
   "metadata": {
    "tags": []
   },
   "outputs": [],
   "source": [
    "val,index = t_indep.max(dim=0)\n",
    "t_indep = t_indep/val"
   ]
  },
  {
   "cell_type": "code",
   "execution_count": 72,
   "id": "ffb9f3c9-7ee0-470c-b9eb-d4a273ead154",
   "metadata": {
    "tags": []
   },
   "outputs": [
    {
     "data": {
      "text/plain": [
       "tensor([-0.4629,  0.1386,  0.2409, -0.2262, -0.2632, -0.3147,  0.4876,  0.3136,\n",
       "         0.2799, -0.4392,  0.2103,  0.3625])"
      ]
     },
     "execution_count": 72,
     "metadata": {},
     "output_type": "execute_result"
    }
   ],
   "source": [
    "torch.manual_seed(442)\n",
    "weights = torch.rand(t_indep.shape[1])-0.5\n",
    "weights"
   ]
  },
  {
   "cell_type": "code",
   "execution_count": 73,
   "id": "15501e71-7ddf-4bf0-84b9-efcb30754afc",
   "metadata": {
    "tags": []
   },
   "outputs": [],
   "source": [
    "preds = (t_indep*weights).sum(axis=1)"
   ]
  },
  {
   "cell_type": "code",
   "execution_count": 75,
   "id": "358c4558-977a-488a-ad4b-3944f281e2f3",
   "metadata": {
    "tags": []
   },
   "outputs": [
    {
     "data": {
      "text/plain": [
       "tensor([ 0.1412, -0.5725,  0.1494,  0.2571,  0.0453, -0.0448,  0.0792,  0.2961,\n",
       "         0.2128, -0.5770])"
      ]
     },
     "execution_count": 75,
     "metadata": {},
     "output_type": "execute_result"
    }
   ],
   "source": [
    "preds[:10]"
   ]
  },
  {
   "cell_type": "code",
   "execution_count": 76,
   "id": "390d0a6e-955a-425e-85e9-3689c71c4279",
   "metadata": {
    "tags": []
   },
   "outputs": [
    {
     "data": {
      "text/plain": [
       "tensor(0.5200)"
      ]
     },
     "execution_count": 76,
     "metadata": {},
     "output_type": "execute_result"
    }
   ],
   "source": [
    "loss = torch.abs(preds-t_dep).mean()\n",
    "loss"
   ]
  },
  {
   "cell_type": "code",
   "execution_count": 77,
   "id": "7ebeab89-5710-4848-b8b8-2a4a294c3537",
   "metadata": {
    "tags": []
   },
   "outputs": [],
   "source": [
    "def cal_pred(weights,t_indep): return (t_indep*weights).sum(axis=1)\n",
    "def cal_loss(weights,t_indep,t_dep) : return torch.abs(cal_pred(weights,t_indep)-t_dep).mean()"
   ]
  },
  {
   "cell_type": "code",
   "execution_count": 78,
   "id": "21505136-c234-4753-99ee-15ccf569c745",
   "metadata": {
    "tags": []
   },
   "outputs": [
    {
     "data": {
      "text/plain": [
       "tensor([-0.4629,  0.1386,  0.2409, -0.2262, -0.2632, -0.3147,  0.4876,  0.3136,\n",
       "         0.2799, -0.4392,  0.2103,  0.3625], requires_grad=True)"
      ]
     },
     "execution_count": 78,
     "metadata": {},
     "output_type": "execute_result"
    }
   ],
   "source": [
    "weights.requires_grad_()"
   ]
  },
  {
   "cell_type": "code",
   "execution_count": 79,
   "id": "2730a640-bb7f-4df1-9f95-c129dec2ee40",
   "metadata": {
    "tags": []
   },
   "outputs": [
    {
     "data": {
      "text/plain": [
       "tensor(0.5200, grad_fn=<MeanBackward0>)"
      ]
     },
     "execution_count": 79,
     "metadata": {},
     "output_type": "execute_result"
    }
   ],
   "source": [
    "loss = cal_loss(weights,t_indep,t_dep)\n",
    "loss"
   ]
  },
  {
   "cell_type": "code",
   "execution_count": 82,
   "id": "7443520e-e5b4-4868-b039-ef1446bf0465",
   "metadata": {
    "tags": []
   },
   "outputs": [],
   "source": [
    "loss.backward()"
   ]
  },
  {
   "cell_type": "code",
   "execution_count": 83,
   "id": "41aa4e02-bee8-4b87-a624-26f939e3989c",
   "metadata": {
    "tags": []
   },
   "outputs": [
    {
     "data": {
      "text/plain": [
       "tensor([-0.0483,  0.0118, -0.0041, -0.0804, -0.1975,  0.1111, -0.1235, -0.0426,\n",
       "         0.0797, -0.1886, -0.0617,  0.1639])"
      ]
     },
     "execution_count": 83,
     "metadata": {},
     "output_type": "execute_result"
    }
   ],
   "source": [
    "weights.grad"
   ]
  },
  {
   "cell_type": "code",
   "execution_count": 84,
   "id": "cc76cc96-6306-4e9d-b07a-e1c1dacae2a6",
   "metadata": {
    "tags": []
   },
   "outputs": [
    {
     "name": "stdout",
     "output_type": "stream",
     "text": [
      "tensor(0.5056)\n"
     ]
    }
   ],
   "source": [
    "with torch.no_grad():\n",
    "    weights.sub_(weights.grad*0.1)\n",
    "    print(cal_loss(weights,t_indep,t_dep))"
   ]
  },
  {
   "cell_type": "code",
   "execution_count": 85,
   "id": "c0140b38-6b4f-4109-b317-dc99cc6a3884",
   "metadata": {
    "tags": []
   },
   "outputs": [],
   "source": [
    "from fastai.data.transforms import RandomSplitter\n",
    "trn_split, valid_split  = RandomSplitter(seed=42)(df)"
   ]
  },
  {
   "cell_type": "code",
   "execution_count": 87,
   "id": "aaa9a5ca-cf1e-429b-985b-0b853853f4b2",
   "metadata": {
    "tags": []
   },
   "outputs": [],
   "source": [
    "trn_indep, val_indep = t_indep[trn_split], t_indep[valid_split]\n",
    "trn_dep, val_dep = t_dep[trn_split],t_dep[valid_split]"
   ]
  },
  {
   "cell_type": "code",
   "execution_count": 89,
   "id": "77eb0ac2-aef5-46ec-b1a3-94da2a52328f",
   "metadata": {
    "tags": []
   },
   "outputs": [],
   "source": [
    "def update_coeff(weights,lr): return weights.sub_(weights.grad*0.1)"
   ]
  },
  {
   "cell_type": "code",
   "execution_count": 93,
   "id": "501761c1-12b6-4240-8c06-14da9f1f0314",
   "metadata": {
    "tags": []
   },
   "outputs": [],
   "source": [
    "def one_epoch(weights,lr):\n",
    "    loss = cal_loss(weights,trn_indep,trn_dep)\n",
    "    loss.backward()\n",
    "    with torch.no_grad(): update_coeff(weights,lr)\n",
    "    print(f\"loss:{loss:.3f};\")"
   ]
  },
  {
   "cell_type": "code",
   "execution_count": 98,
   "id": "ecf0d35d-2b1e-460a-aff9-840651fffa33",
   "metadata": {
    "tags": []
   },
   "outputs": [],
   "source": [
    "def init_coeff(n_coeff) : return (torch.rand(n_coeff)-0.5).requires_grad_()"
   ]
  },
  {
   "cell_type": "code",
   "execution_count": 99,
   "id": "b057a459-f597-4a7c-a2db-ce85bec6ed58",
   "metadata": {
    "tags": []
   },
   "outputs": [],
   "source": [
    "def train_model(n_coeff, epoch=30, lr=0.1):\n",
    "    torch.manual_seed(442)\n",
    "    weights = init_coeff(n_coeff)\n",
    "    for i in range(epoch):  one_epoch(weights,lr)\n",
    "    return weights"
   ]
  },
  {
   "cell_type": "code",
   "execution_count": 101,
   "id": "1ebe68c7-b947-4cff-8220-1c9c01c9dcbb",
   "metadata": {
    "tags": []
   },
   "outputs": [
    {
     "name": "stdout",
     "output_type": "stream",
     "text": [
      "loss:0.518;\n",
      "loss:0.504;\n",
      "loss:0.480;\n",
      "loss:0.449;\n",
      "loss:0.399;\n",
      "loss:0.351;\n",
      "loss:0.307;\n",
      "loss:0.293;\n",
      "loss:0.315;\n",
      "loss:0.363;\n"
     ]
    }
   ],
   "source": [
    "weights = train_model(t_indep.shape[1],10,0.1)"
   ]
  },
  {
   "cell_type": "code",
   "execution_count": 102,
   "id": "143d1b7e-25f9-49da-ab93-5e4a5cdf5b1c",
   "metadata": {
    "tags": []
   },
   "outputs": [],
   "source": [
    "def show_coeff() : return dict(zip(indep_cols,weights.requires_grad_(False)))"
   ]
  },
  {
   "cell_type": "code",
   "execution_count": 103,
   "id": "08d70498-34f8-4d37-a850-046ef49aa6b6",
   "metadata": {
    "tags": []
   },
   "outputs": [
    {
     "data": {
      "text/plain": [
       "{'Age': tensor(-0.1332),\n",
       " 'SibSp': tensor(0.0675),\n",
       " 'Parch': tensor(0.2445),\n",
       " 'logfare': tensor(0.2081),\n",
       " 'Sex_female': tensor(0.5610),\n",
       " 'Sex_male': tensor(-0.4620),\n",
       " 'Pclass_1': tensor(0.9443),\n",
       " 'Pclass_2': tensor(0.4502),\n",
       " 'Pclass_3': tensor(0.3636),\n",
       " 'Embarked_C': tensor(0.4254),\n",
       " 'Embarked_Q': tensor(0.3508),\n",
       " 'Embarked_S': tensor(0.0345)}"
      ]
     },
     "execution_count": 103,
     "metadata": {},
     "output_type": "execute_result"
    }
   ],
   "source": [
    "show_coeff()"
   ]
  },
  {
   "cell_type": "code",
   "execution_count": 106,
   "id": "6f9b3aec-fefc-4e2e-bca5-898f8506c4be",
   "metadata": {
    "tags": []
   },
   "outputs": [
    {
     "data": {
      "text/plain": [
       "tensor([True, True, True, True, True, True, True, True, True, True])"
      ]
     },
     "execution_count": 106,
     "metadata": {},
     "output_type": "execute_result"
    }
   ],
   "source": [
    "preds = cal_pred(weights,val_indep)\n",
    "results = val_dep.bool()==(preds>0.5)\n",
    "results[:10]"
   ]
  },
  {
   "cell_type": "code",
   "execution_count": 107,
   "id": "8652a076-a99b-4cfb-b901-85f6859eba45",
   "metadata": {
    "tags": []
   },
   "outputs": [],
   "source": [
    "def cal_acc(weights) : return ( val_dep.bool()==(cal_pred(weights,val_indep)>0.5)).float().mean()"
   ]
  },
  {
   "cell_type": "code",
   "execution_count": 108,
   "id": "390ef246-6b76-49d0-82ce-bad90ab3e4d5",
   "metadata": {
    "tags": []
   },
   "outputs": [
    {
     "data": {
      "text/plain": [
       "tensor(0.7640)"
      ]
     },
     "execution_count": 108,
     "metadata": {},
     "output_type": "execute_result"
    }
   ],
   "source": [
    "cal_acc(weights) "
   ]
  },
  {
   "cell_type": "code",
   "execution_count": 109,
   "id": "846a3477-cf15-4767-818f-9a03c3808f2b",
   "metadata": {
    "tags": []
   },
   "outputs": [
    {
     "data": {
      "text/plain": [
       "tensor([ 1.4085,  0.2848,  0.3573,  0.1364,  0.0690,  0.0776,  1.4731,  1.0870,\n",
       "         0.1872,  1.4643, -0.0442,  0.4292,  0.0619,  1.3083, -0.0534,  0.5524,\n",
       "         0.5191,  1.1547,  0.0676,  0.9832])"
      ]
     },
     "execution_count": 109,
     "metadata": {},
     "output_type": "execute_result"
    }
   ],
   "source": [
    "preds[:20]"
   ]
  },
  {
   "cell_type": "code",
   "execution_count": 110,
   "id": "b3b3ede6-47ae-41dd-a4e8-e5894af9aa12",
   "metadata": {
    "tags": []
   },
   "outputs": [
    {
     "data": {
      "image/png": "[encoded data removed]",
      "text/plain": [
       "<Figure size 640x480 with 1 Axes>"
      ]
     },
     "metadata": {},
     "output_type": "display_data"
    },
    {
     "data": {
      "text/plain": [
       "<sympy.plotting.plot.Plot at 0x7fa2ae985bd0>"
      ]
     },
     "execution_count": 110,
     "metadata": {},
     "output_type": "execute_result"
    }
   ],
   "source": [
    "import sympy\n",
    "sympy.plot(\"1/(1+exp(-x))\",xlim=(-5,5))"
   ]
  },
  {
   "cell_type": "code",
   "execution_count": 128,
   "id": "1228bdc6-1351-4454-89b9-4d696da58b4d",
   "metadata": {
    "tags": []
   },
   "outputs": [],
   "source": [
    "def cal_pred(weights,t_indep): return torch.sigmoid((t_indep*weights).sum(axis=1))"
   ]
  },
  {
   "cell_type": "code",
   "execution_count": 129,
   "id": "cf687ae8-e9dc-4c61-94d6-8c6b80ac44bb",
   "metadata": {
    "tags": []
   },
   "outputs": [
    {
     "name": "stdout",
     "output_type": "stream",
     "text": [
      "loss:0.503;\n",
      "loss:0.501;\n",
      "loss:0.497;\n",
      "loss:0.490;\n",
      "loss:0.482;\n",
      "loss:0.471;\n",
      "loss:0.459;\n",
      "loss:0.445;\n",
      "loss:0.430;\n",
      "loss:0.415;\n",
      "loss:0.399;\n",
      "loss:0.384;\n",
      "loss:0.370;\n",
      "loss:0.358;\n",
      "loss:0.346;\n",
      "loss:0.336;\n",
      "loss:0.328;\n",
      "loss:0.321;\n",
      "loss:0.314;\n",
      "loss:0.309;\n"
     ]
    }
   ],
   "source": [
    "weights = train_model(len(indep_cols),20,0.1)"
   ]
  },
  {
   "cell_type": "code",
   "execution_count": 130,
   "id": "68f348fa-567a-437b-a99b-58117302b18d",
   "metadata": {
    "tags": []
   },
   "outputs": [
    {
     "data": {
      "text/plain": [
       "tensor(0.7079)"
      ]
     },
     "execution_count": 130,
     "metadata": {},
     "output_type": "execute_result"
    }
   ],
   "source": [
    "cal_acc(weights)"
   ]
  },
  {
   "cell_type": "code",
   "execution_count": 131,
   "id": "500aee1e-c839-4880-a7e6-f0f77a7f2fa1",
   "metadata": {
    "tags": []
   },
   "outputs": [
    {
     "data": {
      "text/plain": [
       "{'Age': tensor(-0.8473),\n",
       " 'SibSp': tensor(0.0566),\n",
       " 'Parch': tensor(0.2316),\n",
       " 'logfare': tensor(-0.4314),\n",
       " 'Sex_female': tensor(0.5792),\n",
       " 'Sex_male': tensor(-2.0885),\n",
       " 'Pclass_1': tensor(0.7963),\n",
       " 'Pclass_2': tensor(0.2891),\n",
       " 'Pclass_3': tensor(-0.9358),\n",
       " 'Embarked_C': tensor(-0.3155),\n",
       " 'Embarked_Q': tensor(0.1339),\n",
       " 'Embarked_S': tensor(-0.6161)}"
      ]
     },
     "execution_count": 131,
     "metadata": {},
     "output_type": "execute_result"
    }
   ],
   "source": [
    "show_coeff()"
   ]
  },
  {
   "cell_type": "code",
   "execution_count": 124,
   "id": "c51d305a-a87f-4bd1-8c55-b7927e713fb9",
   "metadata": {
    "tags": []
   },
   "outputs": [],
   "source": []
  },
  {
   "cell_type": "code",
   "execution_count": 138,
   "id": "ef16240b-901f-4780-909b-57db04c00d65",
   "metadata": {
    "tags": []
   },
   "outputs": [],
   "source": [
    "tst_df = pd.read_csv(\"test.csv\")\n",
    "tst_df.Fare = tst_df.Fare.fillna(0)\n",
    "tst_df.fillna(modes,inplace=True)\n",
    "tst_df['logfare'] = np.log(tst_df.Fare+1)\n",
    "tst_df = pd.get_dummies(tst_df, columns=['Sex','Pclass','Embarked'],dtype=int)\n",
    "\n",
    "tst_tens = tensor(tst_df[indep_cols].values,dtype=torch.float)\n",
    "tst_tens = tst_tens/val"
   ]
  },
  {
   "cell_type": "code",
   "execution_count": 142,
   "id": "fd8b49f3-0ed7-434a-bfbd-e5141fb2bf8c",
   "metadata": {
    "tags": []
   },
   "outputs": [],
   "source": [
    "tst_df['Survived'] = (cal_pred(weights,tst_tens)>0.5).int()"
   ]
  },
  {
   "cell_type": "code",
   "execution_count": 145,
   "id": "ca537d53-7b38-4fef-9a6d-3b9c99f24b27",
   "metadata": {
    "tags": []
   },
   "outputs": [],
   "source": [
    "sub_df = tst_df[['PassengerId','Survived']]\n",
    "sub_df.to_csv('submission.csv')"
   ]
  },
  {
   "cell_type": "code",
   "execution_count": 146,
   "id": "6d2bfd76-a894-4fad-b77c-53282002cb6d",
   "metadata": {
    "tags": []
   },
   "outputs": [],
   "source": [
    "def cal_pred(weights,t_indep) : return torch.sigmoid(t_indep@weights)"
   ]
  },
  {
   "cell_type": "code",
   "execution_count": 147,
   "id": "a98bcc2b-e192-4618-9e7e-8c0850b52974",
   "metadata": {
    "tags": []
   },
   "outputs": [],
   "source": [
    "def init_coeff(n_coeff): return (torch.rand(n_coeff,1)*0.1).requires_grad_()"
   ]
  },
  {
   "cell_type": "code",
   "execution_count": 148,
   "id": "3c65f6d7-f92e-445b-87fa-c171aaf2a70c",
   "metadata": {
    "collapsed": true,
    "jupyter": {
     "outputs_hidden": true
    },
    "tags": []
   },
   "outputs": [
    {
     "data": {
      "text/plain": [
       "tensor([[0.0672],\n",
       "        [0.0732],\n",
       "        [0.0142],\n",
       "        [0.0499],\n",
       "        [0.0317],\n",
       "        [0.0259],\n",
       "        [0.0549],\n",
       "        [0.0587],\n",
       "        [0.0447],\n",
       "        [0.0813],\n",
       "        [0.0351],\n",
       "        [0.0245]], requires_grad=True)"
      ]
     },
     "execution_count": 148,
     "metadata": {},
     "output_type": "execute_result"
    }
   ],
   "source": [
    "init_coeff(len(indep_cols))"
   ]
  },
  {
   "cell_type": "code",
   "execution_count": 149,
   "id": "ba1921c2-4332-45dd-871f-6b795bd50dad",
   "metadata": {
    "tags": []
   },
   "outputs": [],
   "source": [
    "trn_dep = trn_dep[:,None]\n",
    "val_dep = val_dep[:,None]"
   ]
  },
  {
   "cell_type": "code",
   "execution_count": 152,
   "id": "12e2d0c5-e094-488e-b60b-3a3ece9cb796",
   "metadata": {
    "collapsed": true,
    "jupyter": {
     "outputs_hidden": true
    },
    "tags": []
   },
   "outputs": [
    {
     "name": "stdout",
     "output_type": "stream",
     "text": [
      "loss:0.512;\n",
      "loss:0.510;\n",
      "loss:0.505;\n",
      "loss:0.499;\n",
      "loss:0.490;\n",
      "loss:0.479;\n",
      "loss:0.467;\n",
      "loss:0.452;\n",
      "loss:0.436;\n",
      "loss:0.419;\n",
      "loss:0.402;\n",
      "loss:0.385;\n",
      "loss:0.369;\n",
      "loss:0.355;\n",
      "loss:0.342;\n",
      "loss:0.331;\n",
      "loss:0.322;\n",
      "loss:0.314;\n",
      "loss:0.308;\n",
      "loss:0.302;\n",
      "loss:0.297;\n",
      "loss:0.292;\n",
      "loss:0.288;\n",
      "loss:0.284;\n",
      "loss:0.280;\n",
      "loss:0.276;\n",
      "loss:0.272;\n",
      "loss:0.268;\n",
      "loss:0.264;\n",
      "loss:0.260;\n"
     ]
    }
   ],
   "source": [
    "weights = train_model(len(indep_cols),lr=2)"
   ]
  },
  {
   "cell_type": "code",
   "execution_count": 153,
   "id": "eed6076e-ce3b-4a63-8242-7d1552a5e37b",
   "metadata": {
    "tags": []
   },
   "outputs": [
    {
     "data": {
      "text/plain": [
       "tensor(0.7921)"
      ]
     },
     "execution_count": 153,
     "metadata": {},
     "output_type": "execute_result"
    }
   ],
   "source": [
    "cal_acc(weights)"
   ]
  },
  {
   "cell_type": "code",
   "execution_count": 190,
   "id": "02490a2e-2b90-4295-86d3-8938a3eb5d85",
   "metadata": {
    "tags": []
   },
   "outputs": [],
   "source": [
    "def init_coeff(n_coeff,n_hidden=20):\n",
    "    layer1 = (torch.rand(n_coeff,n_hidden)-0.5)/n_hidden\n",
    "    layer2 = torch.rand(n_hidden,1)-0.3\n",
    "    const = torch.rand(1)[0]\n",
    "    return layer1.requires_grad_(),layer2.requires_grad_(),const.requires_grad_()"
   ]
  },
  {
   "cell_type": "code",
   "execution_count": 191,
   "id": "a7a1f45f-a01d-4d15-b3c0-98e5b8657331",
   "metadata": {
    "tags": []
   },
   "outputs": [],
   "source": [
    "import torch.nn.functional as F"
   ]
  },
  {
   "cell_type": "code",
   "execution_count": 192,
   "id": "d6da1376-235f-459b-a4b8-e9135a5f77ba",
   "metadata": {
    "tags": []
   },
   "outputs": [],
   "source": [
    "def cal_pred(weights,indpen):\n",
    "    l1,l2,c = weights\n",
    "    res = F.relu(indpen@l1)\n",
    "    res = res@l2+c\n",
    "    return F.sigmoid(res)"
   ]
  },
  {
   "cell_type": "code",
   "execution_count": 193,
   "id": "4a22226e-c96d-46da-bb3e-83e9e9617e7a",
   "metadata": {
    "tags": []
   },
   "outputs": [],
   "source": [
    "def update_coeff(weights,lr):\n",
    "    for layer in weights: layer.sub_(layer.grad*lr)"
   ]
  },
  {
   "cell_type": "code",
   "execution_count": 194,
   "id": "fdb79b58-53eb-4533-b4c8-554ed0192139",
   "metadata": {
    "collapsed": true,
    "jupyter": {
     "outputs_hidden": true
    },
    "tags": []
   },
   "outputs": [
    {
     "name": "stdout",
     "output_type": "stream",
     "text": [
      "loss:0.544;\n",
      "loss:0.533;\n",
      "loss:0.511;\n",
      "loss:0.467;\n",
      "loss:0.392;\n",
      "loss:0.302;\n",
      "loss:0.252;\n",
      "loss:0.225;\n",
      "loss:0.209;\n",
      "loss:0.203;\n",
      "loss:0.201;\n",
      "loss:0.200;\n",
      "loss:0.196;\n",
      "loss:0.193;\n",
      "loss:0.192;\n",
      "loss:0.192;\n",
      "loss:0.192;\n",
      "loss:0.192;\n",
      "loss:0.192;\n",
      "loss:0.192;\n",
      "loss:0.192;\n",
      "loss:0.192;\n",
      "loss:0.192;\n",
      "loss:0.192;\n",
      "loss:0.192;\n",
      "loss:0.192;\n",
      "loss:0.192;\n",
      "loss:0.192;\n",
      "loss:0.192;\n",
      "loss:0.192;\n"
     ]
    }
   ],
   "source": [
    "weights = train_model(len(indep_cols),lr =1.4)"
   ]
  },
  {
   "cell_type": "code",
   "execution_count": 195,
   "id": "53b7e320-234d-4cf2-a70d-afeb00722068",
   "metadata": {
    "tags": []
   },
   "outputs": [
    {
     "data": {
      "text/plain": [
       "tensor(0.8258)"
      ]
     },
     "execution_count": 195,
     "metadata": {},
     "output_type": "execute_result"
    }
   ],
   "source": [
    "cal_acc(weights)"
   ]
  },
  {
   "cell_type": "markdown",
   "id": "437f3c80-7945-45bf-8c03-e0150fd6aec1",
   "metadata": {},
   "source": [
    "## Deep learning :::P"
   ]
  },
  {
   "cell_type": "code",
   "execution_count": 204,
   "id": "e802ca8f-93b1-4426-ac54-144ea7826484",
   "metadata": {
    "tags": []
   },
   "outputs": [],
   "source": [
    "def init_coeff(n_coeff):\n",
    "    hidden_layers = [10,10]\n",
    "    size = [n_coeff] + hidden_layers + [1]\n",
    "    n = len(size)\n",
    "    layers = [(torch.rand(size[i],size[i+1])-0.3)/size[i+1]*4  for i in range(n-1)]\n",
    "    constants = [torch.rand(1)[0]-0.5 for i in range(n-1)]\n",
    "    for coeff in layers+constants : coeff.requires_grad_()\n",
    "    return layers, constants"
   ]
  },
  {
   "cell_type": "code",
   "execution_count": 208,
   "id": "5dd28a49-f4e8-4e16-8b0e-014dba66b64f",
   "metadata": {
    "tags": []
   },
   "outputs": [],
   "source": [
    "def cal_pred(coeffs,indep):\n",
    "    layers, constants = coeffs\n",
    "    n = len(layers)\n",
    "    res = indep\n",
    "    for i in range(n):\n",
    "        res = res@layers[i] + constants[i]\n",
    "        if i!=n-1: res = F.relu(res)\n",
    "    return torch.sigmoid(res)"
   ]
  },
  {
   "cell_type": "code",
   "execution_count": 209,
   "id": "b656d364-84a0-4ced-85b1-699ccc56118a",
   "metadata": {
    "tags": []
   },
   "outputs": [],
   "source": [
    "def update_coeff(coeffs,lr):\n",
    "    layers, constants = coeffs\n",
    "    for coeff in layers+constants : coeff.sub_(coeff.grad*lr)"
   ]
  },
  {
   "cell_type": "code",
   "execution_count": 210,
   "id": "0704a330-86e0-49e6-ab08-1ce3b1d9bc0c",
   "metadata": {
    "tags": []
   },
   "outputs": [
    {
     "name": "stdout",
     "output_type": "stream",
     "text": [
      "loss:0.536;\n",
      "loss:0.400;\n",
      "loss:0.368;\n",
      "loss:0.357;\n",
      "loss:0.329;\n",
      "loss:0.315;\n",
      "loss:0.300;\n",
      "loss:0.264;\n",
      "loss:0.212;\n",
      "loss:0.196;\n",
      "loss:0.196;\n",
      "loss:0.196;\n",
      "loss:0.193;\n",
      "loss:0.192;\n",
      "loss:0.192;\n",
      "loss:0.192;\n",
      "loss:0.192;\n",
      "loss:0.192;\n",
      "loss:0.192;\n",
      "loss:0.192;\n",
      "loss:0.192;\n",
      "loss:0.192;\n",
      "loss:0.192;\n",
      "loss:0.192;\n",
      "loss:0.192;\n",
      "loss:0.190;\n",
      "loss:0.206;\n",
      "loss:0.191;\n",
      "loss:0.192;\n",
      "loss:0.192;\n"
     ]
    }
   ],
   "source": [
    "coeffs = train_model(len(indep_cols),lr=1)"
   ]
  },
  {
   "cell_type": "code",
   "execution_count": 212,
   "id": "dbd8c5fa-1a7d-43e2-b0f8-75fc993ef5a9",
   "metadata": {
    "tags": []
   },
   "outputs": [
    {
     "data": {
      "text/plain": [
       "tensor(0.8258)"
      ]
     },
     "execution_count": 212,
     "metadata": {},
     "output_type": "execute_result"
    }
   ],
   "source": [
    "cal_acc(coeffs)"
   ]
  },
  {
   "cell_type": "code",
   "execution_count": null,
   "id": "5cab455e-4d47-4acb-b795-e188c35df5c7",
   "metadata": {},
   "outputs": [],
   "source": []
  },
  {
   "cell_type": "code",
   "execution_count": null,
   "id": "a0c04be6-5864-429d-9555-1578d132a53f",
   "metadata": {},
   "outputs": [],
   "source": []
  }
 ],
 "metadata": {
  "kernelspec": {
   "display_name": "Python 3 (ipykernel)",
   "language": "python",
   "name": "python3"
  },
  "language_info": {
   "codemirror_mode": {
    "name": "ipython",
    "version": 3
   },
   "file_extension": ".py",
   "mimetype": "text/x-python",
   "name": "python",
   "nbconvert_exporter": "python",
   "pygments_lexer": "ipython3",
   "version": "3.11.4"
  }
 },
 "nbformat": 4,
 "nbformat_minor": 5
}
