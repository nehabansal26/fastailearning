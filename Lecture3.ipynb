{
 "cells": [
  {
   "cell_type": "markdown",
   "id": "a79b83e8-c19f-4068-ac5e-2bb1d5fac93c",
   "metadata": {},
   "source": [
    "# Video Lecture \n",
    "\n",
    "## Steps for learning - \n",
    "1. watch lecture\n",
    "2. read chapter\n",
    "3. replicate the chapter notebook\n",
    "4. try it on new dataset-\n",
    "\n",
    "** can connect git to VS code, jupyter (everything!)\n",
    "\n",
    "## some ideas popped up\n",
    "1. stages of rotten banana classification - don't eat, can eat, wait to eat \n",
    "2. dal classifier - I suck at identifying the type (kind of bad for me according to Indian mom)\n",
    "3. marvel vs dc movie poster classifier\n",
    "4. face shape classifier and recommend hair styles \n",
    "\n",
    "## coding tips\n",
    "1. we can use latex typset by enclosing in $ for plot titles and printing\n",
    "2. functools-> partial, to fix the parameter values for your function\n",
    "\n",
    "## modelling tips\n",
    "1. start with basic archeitecture and experiment with data related things for faster results, last thing would be to change the archeitecture\n",
    "2. try to think of trade off between speed and accuracy\n",
    "\n",
    "## cool sites\n",
    "1. matrixmultiplication.xyz\n",
    "\n",
    "- sum of relus is like splines in linear regression\n",
    "- \n",
    "\n"
   ]
  },
  {
   "cell_type": "code",
   "execution_count": null,
   "id": "c2b9bff9-6aa6-492a-8229-4cc1f13df89e",
   "metadata": {},
   "outputs": [],
   "source": []
  }
 ],
 "metadata": {
  "kernelspec": {
   "display_name": "Python 3 (ipykernel)",
   "language": "python",
   "name": "python3"
  },
  "language_info": {
   "codemirror_mode": {
    "name": "ipython",
    "version": 3
   },
   "file_extension": ".py",
   "mimetype": "text/x-python",
   "name": "python",
   "nbconvert_exporter": "python",
   "pygments_lexer": "ipython3",
   "version": "3.11.4"
  }
 },
 "nbformat": 4,
 "nbformat_minor": 5
}
