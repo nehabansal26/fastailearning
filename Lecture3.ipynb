{
 "cells": [
  {
   "cell_type": "markdown",
   "id": "a79b83e8-c19f-4068-ac5e-2bb1d5fac93c",
   "metadata": {},
   "source": [
    "# Video Lecture \n",
    "\n",
    "## Steps for learning - \n",
    "1. watch lecture\n",
    "2. read chapter\n",
    "3. replicate the chapter notebook\n",
    "4. try it on new dataset-\n",
    "\n",
    "** can connect git to VS code, jupyter (everything!)\n",
    "\n",
    "## some ideas popped up\n",
    "1. stages of rotten banana classification - don't eat, can eat, wait to eat \n",
    "2. dal classifier - I suck at identifying the type (kind of bad for me according to Indian mom)\n",
    "3. marvel vs dc movie poster classifier\n",
    "4. face shape classifier and recommend hair styles \n",
    "\n",
    "## coding tips\n",
    "1. we can use latex typset by enclosing in $ for plot titles and printing\n",
    "2. functools-> partial, to fix the parameter values for your function\n",
    "\n",
    "## modelling tips\n",
    "1. start with basic archeitecture and experiment with data related things for faster results, last thing would be to change the archeitecture\n",
    "2. try to think of trade off between speed and accuracy\n",
    "\n",
    "## cool sites\n",
    "1. matrixmultiplication.xyz\n",
    "\n",
    "\n",
    "# Book Notes\n",
    "## gyan ki bat\n",
    "There is a lesson here for all of us! On your deep learning journey you will face many obstacles, both technical, and (even more difficult) posed by people around you who don't believe you'll be successful. There's one guaranteed way to fail, and that's to stop trying. We've seen that the only consistent trait amongst every fast.ai student that's gone on to be a world-class practitioner is that they are all very tenacious.\n",
    "\n",
    "## coding\n",
    "1. numpy stores data in form of compact C data structures\n",
    "\n",
    "## DL\n",
    "1. We already know that a single nonlinearity with two linear layers is enough to approximate any function. So why would we use deeper models? The reason is performance. With a deeper model (that is, one with more layers) we do not need to use as many parameters; it turns out that we can use smaller matrices with more layers, and get better results than we would get with larger matrices, and few layers.\n",
    "\n",
    "## question to address in blog\n",
    "1. why it is called stochastic? the gradient descent method\n",
    "2. instantiate a class\n",
    "3. object of a class\n",
    "\n",
    "# TODO\n",
    "    Create your own implementation of Learner from scratch, based on the training loop shown in this chapter.\n",
    "    Complete all the steps in this chapter using the full MNIST datasets (that is, for all digits, not just 3s and 7s). This is a significant project and will take you quite a bit of time to complete! You'll need to do some of your own research to figure out how to overcome some obstacles you'll meet on the way.\n",
    "\n"
   ]
  },
  {
   "cell_type": "code",
   "execution_count": 3,
   "id": "c2b9bff9-6aa6-492a-8229-4cc1f13df89e",
   "metadata": {},
   "outputs": [],
   "source": [
    "import fastbook\n",
    "fastbook.setup_book()"
   ]
  },
  {
   "cell_type": "code",
   "execution_count": 4,
   "id": "4c20f479-8f90-4cfe-84ce-feab6c4619fe",
   "metadata": {
    "tags": []
   },
   "outputs": [],
   "source": [
    "from fastai.vision.all import *\n",
    "from fastbook import *\n",
    "matplotlib.rc('image',cmap='gray')"
   ]
  },
  {
   "cell_type": "markdown",
   "id": "e80b0dac-160d-4c75-a58e-889bf8d2020c",
   "metadata": {},
   "source": [
    "# Data Load"
   ]
  },
  {
   "cell_type": "code",
   "execution_count": 5,
   "id": "95a6ef64-d22c-42d8-aba0-b4c3bbc15681",
   "metadata": {
    "tags": []
   },
   "outputs": [
    {
     "data": {
      "text/html": [
       "\n",
       "<style>\n",
       "    /* Turns off some styling */\n",
       "    progress {\n",
       "        /* gets rid of default border in Firefox and Opera. */\n",
       "        border: none;\n",
       "        /* Needs to be in here for Safari polyfill so background images work as expected. */\n",
       "        background-size: auto;\n",
       "    }\n",
       "    progress:not([value]), progress:not([value])::-webkit-progress-bar {\n",
       "        background: repeating-linear-gradient(45deg, #7e7e7e, #7e7e7e 10px, #5c5c5c 10px, #5c5c5c 20px);\n",
       "    }\n",
       "    .progress-bar-interrupted, .progress-bar-interrupted::-webkit-progress-bar {\n",
       "        background: #F44336;\n",
       "    }\n",
       "</style>\n"
      ],
      "text/plain": [
       "<IPython.core.display.HTML object>"
      ]
     },
     "metadata": {},
     "output_type": "display_data"
    },
    {
     "data": {
      "text/html": [
       "\n",
       "    <div>\n",
       "      <progress value='3219456' class='' max='3214948' style='width:300px; height:20px; vertical-align: middle;'></progress>\n",
       "      100.14% [3219456/3214948 00:00&lt;00:00]\n",
       "    </div>\n",
       "    "
      ],
      "text/plain": [
       "<IPython.core.display.HTML object>"
      ]
     },
     "metadata": {},
     "output_type": "display_data"
    }
   ],
   "source": [
    "path = untar_data(URLs.MNIST_SAMPLE)\n",
    "Path.BASE_PATH = path"
   ]
  },
  {
   "cell_type": "code",
   "execution_count": 6,
   "id": "9869dd79-b7f6-40e2-860a-6d1f1501fb7f",
   "metadata": {
    "tags": []
   },
   "outputs": [
    {
     "data": {
      "text/plain": [
       "(#3) [Path('train'),Path('valid'),Path('labels.csv')]"
      ]
     },
     "execution_count": 6,
     "metadata": {},
     "output_type": "execute_result"
    }
   ],
   "source": [
    "path.ls()"
   ]
  },
  {
   "cell_type": "code",
   "execution_count": 7,
   "id": "c23e5811-86c2-4225-8d89-1f0083377500",
   "metadata": {
    "tags": []
   },
   "outputs": [
    {
     "data": {
      "text/plain": [
       "(#2) [Path('train/7'),Path('train/3')]"
      ]
     },
     "execution_count": 7,
     "metadata": {},
     "output_type": "execute_result"
    }
   ],
   "source": [
    "(path/'train').ls()"
   ]
  },
  {
   "cell_type": "code",
   "execution_count": 9,
   "id": "37e396e3-0ce7-4aea-8433-3bb62b51aa23",
   "metadata": {
    "tags": []
   },
   "outputs": [],
   "source": [
    "threes = (path/'train/3').ls().sorted()\n",
    "sevens = (path/'train/7').ls().sorted()"
   ]
  },
  {
   "cell_type": "code",
   "execution_count": 10,
   "id": "a736b4f4-15a1-4675-9e94-f9e3083b1245",
   "metadata": {
    "tags": []
   },
   "outputs": [
    {
     "data": {
      "image/jpeg": "[encoded data removed]",
      "image/png": "[encoded data removed]",
      "text/plain": [
       "<PIL.PngImagePlugin.PngImageFile image mode=L size=28x28>"
      ]
     },
     "execution_count": 10,
     "metadata": {},
     "output_type": "execute_result"
    }
   ],
   "source": [
    "im3path = threes[1]\n",
    "im = Image.open(im3path)\n",
    "im"
   ]
  },
  {
   "cell_type": "code",
   "execution_count": 13,
   "id": "c9fc7805-52db-46fe-885e-d281cd2dd2ae",
   "metadata": {
    "tags": []
   },
   "outputs": [
    {
     "data": {
      "text/html": [
       "<style type=\"text/css\">\n",
       "#T_60de4_row0_col0, #T_60de4_row0_col1, #T_60de4_row0_col2, #T_60de4_row0_col3, #T_60de4_row0_col4, #T_60de4_row0_col5, #T_60de4_row0_col6, #T_60de4_row0_col7, #T_60de4_row0_col8, #T_60de4_row0_col9, #T_60de4_row0_col10, #T_60de4_row0_col11, #T_60de4_row0_col12, #T_60de4_row0_col13, #T_60de4_row0_col14, #T_60de4_row0_col15, #T_60de4_row0_col16, #T_60de4_row0_col17, #T_60de4_row1_col0, #T_60de4_row1_col1, #T_60de4_row1_col2, #T_60de4_row1_col3, #T_60de4_row1_col4, #T_60de4_row1_col15, #T_60de4_row1_col16, #T_60de4_row1_col17, #T_60de4_row2_col0, #T_60de4_row2_col1, #T_60de4_row2_col2, #T_60de4_row2_col15, #T_60de4_row2_col16, #T_60de4_row2_col17, #T_60de4_row3_col0, #T_60de4_row3_col15, #T_60de4_row3_col16, #T_60de4_row3_col17, #T_60de4_row4_col0, #T_60de4_row4_col6, #T_60de4_row4_col7, #T_60de4_row4_col8, #T_60de4_row4_col9, #T_60de4_row4_col10, #T_60de4_row4_col15, #T_60de4_row4_col16, #T_60de4_row4_col17, #T_60de4_row5_col0, #T_60de4_row5_col5, #T_60de4_row5_col6, #T_60de4_row5_col7, #T_60de4_row5_col8, #T_60de4_row5_col9, #T_60de4_row5_col15, #T_60de4_row5_col16, #T_60de4_row5_col17, #T_60de4_row6_col0, #T_60de4_row6_col1, #T_60de4_row6_col2, #T_60de4_row6_col3, #T_60de4_row6_col4, #T_60de4_row6_col5, #T_60de4_row6_col6, #T_60de4_row6_col7, #T_60de4_row6_col8, #T_60de4_row6_col9, #T_60de4_row6_col14, #T_60de4_row6_col15, #T_60de4_row6_col16, #T_60de4_row6_col17, #T_60de4_row7_col0, #T_60de4_row7_col1, #T_60de4_row7_col2, #T_60de4_row7_col3, #T_60de4_row7_col4, #T_60de4_row7_col5, #T_60de4_row7_col6, #T_60de4_row7_col13, #T_60de4_row7_col14, #T_60de4_row7_col15, #T_60de4_row7_col16, #T_60de4_row7_col17, #T_60de4_row8_col0, #T_60de4_row8_col1, #T_60de4_row8_col2, #T_60de4_row8_col3, #T_60de4_row8_col4, #T_60de4_row8_col13, #T_60de4_row8_col14, #T_60de4_row8_col15, #T_60de4_row8_col16, #T_60de4_row8_col17, #T_60de4_row9_col0, #T_60de4_row9_col1, #T_60de4_row9_col2, #T_60de4_row9_col3, #T_60de4_row9_col4, #T_60de4_row9_col16, #T_60de4_row9_col17, #T_60de4_row10_col0, #T_60de4_row10_col1, #T_60de4_row10_col2, #T_60de4_row10_col3, #T_60de4_row10_col4, #T_60de4_row10_col5, #T_60de4_row10_col6, #T_60de4_row10_col17 {\n",
       "  font-size: 6pt;\n",
       "  background-color: #ffffff;\n",
       "  color: #000000;\n",
       "}\n",
       "#T_60de4_row1_col5 {\n",
       "  font-size: 6pt;\n",
       "  background-color: #efefef;\n",
       "  color: #000000;\n",
       "}\n",
       "#T_60de4_row1_col6, #T_60de4_row1_col13 {\n",
       "  font-size: 6pt;\n",
       "  background-color: #7c7c7c;\n",
       "  color: #f1f1f1;\n",
       "}\n",
       "#T_60de4_row1_col7 {\n",
       "  font-size: 6pt;\n",
       "  background-color: #4a4a4a;\n",
       "  color: #f1f1f1;\n",
       "}\n",
       "#T_60de4_row1_col8, #T_60de4_row1_col9, #T_60de4_row1_col10, #T_60de4_row2_col5, #T_60de4_row2_col6, #T_60de4_row2_col7, #T_60de4_row2_col11, #T_60de4_row2_col12, #T_60de4_row2_col13, #T_60de4_row3_col4, #T_60de4_row3_col12, #T_60de4_row3_col13, #T_60de4_row4_col1, #T_60de4_row4_col2, #T_60de4_row4_col3, #T_60de4_row4_col12, #T_60de4_row4_col13, #T_60de4_row5_col12, #T_60de4_row6_col11, #T_60de4_row9_col11, #T_60de4_row10_col11, #T_60de4_row10_col12, #T_60de4_row10_col13, #T_60de4_row10_col14, #T_60de4_row10_col15, #T_60de4_row10_col16 {\n",
       "  font-size: 6pt;\n",
       "  background-color: #000000;\n",
       "  color: #f1f1f1;\n",
       "}\n",
       "#T_60de4_row1_col11 {\n",
       "  font-size: 6pt;\n",
       "  background-color: #606060;\n",
       "  color: #f1f1f1;\n",
       "}\n",
       "#T_60de4_row1_col12 {\n",
       "  font-size: 6pt;\n",
       "  background-color: #4d4d4d;\n",
       "  color: #f1f1f1;\n",
       "}\n",
       "#T_60de4_row1_col14 {\n",
       "  font-size: 6pt;\n",
       "  background-color: #bbbbbb;\n",
       "  color: #000000;\n",
       "}\n",
       "#T_60de4_row2_col3 {\n",
       "  font-size: 6pt;\n",
       "  background-color: #e4e4e4;\n",
       "  color: #000000;\n",
       "}\n",
       "#T_60de4_row2_col4, #T_60de4_row8_col6 {\n",
       "  font-size: 6pt;\n",
       "  background-color: #6b6b6b;\n",
       "  color: #f1f1f1;\n",
       "}\n",
       "#T_60de4_row2_col8, #T_60de4_row2_col14, #T_60de4_row3_col14 {\n",
       "  font-size: 6pt;\n",
       "  background-color: #171717;\n",
       "  color: #f1f1f1;\n",
       "}\n",
       "#T_60de4_row2_col9, #T_60de4_row3_col11 {\n",
       "  font-size: 6pt;\n",
       "  background-color: #4b4b4b;\n",
       "  color: #f1f1f1;\n",
       "}\n",
       "#T_60de4_row2_col10, #T_60de4_row7_col10, #T_60de4_row8_col8, #T_60de4_row8_col10, #T_60de4_row9_col8, #T_60de4_row9_col10 {\n",
       "  font-size: 6pt;\n",
       "  background-color: #010101;\n",
       "  color: #f1f1f1;\n",
       "}\n",
       "#T_60de4_row3_col1 {\n",
       "  font-size: 6pt;\n",
       "  background-color: #272727;\n",
       "  color: #f1f1f1;\n",
       "}\n",
       "#T_60de4_row3_col2 {\n",
       "  font-size: 6pt;\n",
       "  background-color: #0a0a0a;\n",
       "  color: #f1f1f1;\n",
       "}\n",
       "#T_60de4_row3_col3 {\n",
       "  font-size: 6pt;\n",
       "  background-color: #050505;\n",
       "  color: #f1f1f1;\n",
       "}\n",
       "#T_60de4_row3_col5 {\n",
       "  font-size: 6pt;\n",
       "  background-color: #333333;\n",
       "  color: #f1f1f1;\n",
       "}\n",
       "#T_60de4_row3_col6 {\n",
       "  font-size: 6pt;\n",
       "  background-color: #e6e6e6;\n",
       "  color: #000000;\n",
       "}\n",
       "#T_60de4_row3_col7, #T_60de4_row3_col10 {\n",
       "  font-size: 6pt;\n",
       "  background-color: #fafafa;\n",
       "  color: #000000;\n",
       "}\n",
       "#T_60de4_row3_col8 {\n",
       "  font-size: 6pt;\n",
       "  background-color: #fbfbfb;\n",
       "  color: #000000;\n",
       "}\n",
       "#T_60de4_row3_col9 {\n",
       "  font-size: 6pt;\n",
       "  background-color: #fdfdfd;\n",
       "  color: #000000;\n",
       "}\n",
       "#T_60de4_row4_col4 {\n",
       "  font-size: 6pt;\n",
       "  background-color: #1b1b1b;\n",
       "  color: #f1f1f1;\n",
       "}\n",
       "#T_60de4_row4_col5 {\n",
       "  font-size: 6pt;\n",
       "  background-color: #e0e0e0;\n",
       "  color: #000000;\n",
       "}\n",
       "#T_60de4_row4_col11 {\n",
       "  font-size: 6pt;\n",
       "  background-color: #4e4e4e;\n",
       "  color: #f1f1f1;\n",
       "}\n",
       "#T_60de4_row4_col14 {\n",
       "  font-size: 6pt;\n",
       "  background-color: #767676;\n",
       "  color: #f1f1f1;\n",
       "}\n",
       "#T_60de4_row5_col1 {\n",
       "  font-size: 6pt;\n",
       "  background-color: #fcfcfc;\n",
       "  color: #000000;\n",
       "}\n",
       "#T_60de4_row5_col2, #T_60de4_row5_col3 {\n",
       "  font-size: 6pt;\n",
       "  background-color: #f6f6f6;\n",
       "  color: #000000;\n",
       "}\n",
       "#T_60de4_row5_col4, #T_60de4_row7_col7 {\n",
       "  font-size: 6pt;\n",
       "  background-color: #f8f8f8;\n",
       "  color: #000000;\n",
       "}\n",
       "#T_60de4_row5_col10, #T_60de4_row10_col7 {\n",
       "  font-size: 6pt;\n",
       "  background-color: #e8e8e8;\n",
       "  color: #000000;\n",
       "}\n",
       "#T_60de4_row5_col11 {\n",
       "  font-size: 6pt;\n",
       "  background-color: #222222;\n",
       "  color: #f1f1f1;\n",
       "}\n",
       "#T_60de4_row5_col13, #T_60de4_row6_col12 {\n",
       "  font-size: 6pt;\n",
       "  background-color: #090909;\n",
       "  color: #f1f1f1;\n",
       "}\n",
       "#T_60de4_row5_col14 {\n",
       "  font-size: 6pt;\n",
       "  background-color: #d0d0d0;\n",
       "  color: #000000;\n",
       "}\n",
       "#T_60de4_row6_col10, #T_60de4_row7_col11, #T_60de4_row9_col6 {\n",
       "  font-size: 6pt;\n",
       "  background-color: #060606;\n",
       "  color: #f1f1f1;\n",
       "}\n",
       "#T_60de4_row6_col13 {\n",
       "  font-size: 6pt;\n",
       "  background-color: #979797;\n",
       "  color: #f1f1f1;\n",
       "}\n",
       "#T_60de4_row7_col8 {\n",
       "  font-size: 6pt;\n",
       "  background-color: #b6b6b6;\n",
       "  color: #000000;\n",
       "}\n",
       "#T_60de4_row7_col9 {\n",
       "  font-size: 6pt;\n",
       "  background-color: #252525;\n",
       "  color: #f1f1f1;\n",
       "}\n",
       "#T_60de4_row7_col12 {\n",
       "  font-size: 6pt;\n",
       "  background-color: #999999;\n",
       "  color: #f1f1f1;\n",
       "}\n",
       "#T_60de4_row8_col5 {\n",
       "  font-size: 6pt;\n",
       "  background-color: #f9f9f9;\n",
       "  color: #000000;\n",
       "}\n",
       "#T_60de4_row8_col7 {\n",
       "  font-size: 6pt;\n",
       "  background-color: #101010;\n",
       "  color: #f1f1f1;\n",
       "}\n",
       "#T_60de4_row8_col9, #T_60de4_row9_col9 {\n",
       "  font-size: 6pt;\n",
       "  background-color: #020202;\n",
       "  color: #f1f1f1;\n",
       "}\n",
       "#T_60de4_row8_col11 {\n",
       "  font-size: 6pt;\n",
       "  background-color: #545454;\n",
       "  color: #f1f1f1;\n",
       "}\n",
       "#T_60de4_row8_col12 {\n",
       "  font-size: 6pt;\n",
       "  background-color: #f1f1f1;\n",
       "  color: #000000;\n",
       "}\n",
       "#T_60de4_row9_col5 {\n",
       "  font-size: 6pt;\n",
       "  background-color: #f7f7f7;\n",
       "  color: #000000;\n",
       "}\n",
       "#T_60de4_row9_col7 {\n",
       "  font-size: 6pt;\n",
       "  background-color: #030303;\n",
       "  color: #f1f1f1;\n",
       "}\n",
       "#T_60de4_row9_col12 {\n",
       "  font-size: 6pt;\n",
       "  background-color: #181818;\n",
       "  color: #f1f1f1;\n",
       "}\n",
       "#T_60de4_row9_col13 {\n",
       "  font-size: 6pt;\n",
       "  background-color: #303030;\n",
       "  color: #f1f1f1;\n",
       "}\n",
       "#T_60de4_row9_col14 {\n",
       "  font-size: 6pt;\n",
       "  background-color: #a9a9a9;\n",
       "  color: #f1f1f1;\n",
       "}\n",
       "#T_60de4_row9_col15 {\n",
       "  font-size: 6pt;\n",
       "  background-color: #fefefe;\n",
       "  color: #000000;\n",
       "}\n",
       "#T_60de4_row10_col8, #T_60de4_row10_col9 {\n",
       "  font-size: 6pt;\n",
       "  background-color: #bababa;\n",
       "  color: #000000;\n",
       "}\n",
       "#T_60de4_row10_col10 {\n",
       "  font-size: 6pt;\n",
       "  background-color: #393939;\n",
       "  color: #f1f1f1;\n",
       "}\n",
       "</style>\n",
       "<table id=\"T_60de4\">\n",
       "  <thead>\n",
       "    <tr>\n",
       "      <th class=\"blank level0\" >&nbsp;</th>\n",
       "      <th id=\"T_60de4_level0_col0\" class=\"col_heading level0 col0\" >0</th>\n",
       "      <th id=\"T_60de4_level0_col1\" class=\"col_heading level0 col1\" >1</th>\n",
       "      <th id=\"T_60de4_level0_col2\" class=\"col_heading level0 col2\" >2</th>\n",
       "      <th id=\"T_60de4_level0_col3\" class=\"col_heading level0 col3\" >3</th>\n",
       "      <th id=\"T_60de4_level0_col4\" class=\"col_heading level0 col4\" >4</th>\n",
       "      <th id=\"T_60de4_level0_col5\" class=\"col_heading level0 col5\" >5</th>\n",
       "      <th id=\"T_60de4_level0_col6\" class=\"col_heading level0 col6\" >6</th>\n",
       "      <th id=\"T_60de4_level0_col7\" class=\"col_heading level0 col7\" >7</th>\n",
       "      <th id=\"T_60de4_level0_col8\" class=\"col_heading level0 col8\" >8</th>\n",
       "      <th id=\"T_60de4_level0_col9\" class=\"col_heading level0 col9\" >9</th>\n",
       "      <th id=\"T_60de4_level0_col10\" class=\"col_heading level0 col10\" >10</th>\n",
       "      <th id=\"T_60de4_level0_col11\" class=\"col_heading level0 col11\" >11</th>\n",
       "      <th id=\"T_60de4_level0_col12\" class=\"col_heading level0 col12\" >12</th>\n",
       "      <th id=\"T_60de4_level0_col13\" class=\"col_heading level0 col13\" >13</th>\n",
       "      <th id=\"T_60de4_level0_col14\" class=\"col_heading level0 col14\" >14</th>\n",
       "      <th id=\"T_60de4_level0_col15\" class=\"col_heading level0 col15\" >15</th>\n",
       "      <th id=\"T_60de4_level0_col16\" class=\"col_heading level0 col16\" >16</th>\n",
       "      <th id=\"T_60de4_level0_col17\" class=\"col_heading level0 col17\" >17</th>\n",
       "    </tr>\n",
       "  </thead>\n",
       "  <tbody>\n",
       "    <tr>\n",
       "      <th id=\"T_60de4_level0_row0\" class=\"row_heading level0 row0\" >0</th>\n",
       "      <td id=\"T_60de4_row0_col0\" class=\"data row0 col0\" >0</td>\n",
       "      <td id=\"T_60de4_row0_col1\" class=\"data row0 col1\" >0</td>\n",
       "      <td id=\"T_60de4_row0_col2\" class=\"data row0 col2\" >0</td>\n",
       "      <td id=\"T_60de4_row0_col3\" class=\"data row0 col3\" >0</td>\n",
       "      <td id=\"T_60de4_row0_col4\" class=\"data row0 col4\" >0</td>\n",
       "      <td id=\"T_60de4_row0_col5\" class=\"data row0 col5\" >0</td>\n",
       "      <td id=\"T_60de4_row0_col6\" class=\"data row0 col6\" >0</td>\n",
       "      <td id=\"T_60de4_row0_col7\" class=\"data row0 col7\" >0</td>\n",
       "      <td id=\"T_60de4_row0_col8\" class=\"data row0 col8\" >0</td>\n",
       "      <td id=\"T_60de4_row0_col9\" class=\"data row0 col9\" >0</td>\n",
       "      <td id=\"T_60de4_row0_col10\" class=\"data row0 col10\" >0</td>\n",
       "      <td id=\"T_60de4_row0_col11\" class=\"data row0 col11\" >0</td>\n",
       "      <td id=\"T_60de4_row0_col12\" class=\"data row0 col12\" >0</td>\n",
       "      <td id=\"T_60de4_row0_col13\" class=\"data row0 col13\" >0</td>\n",
       "      <td id=\"T_60de4_row0_col14\" class=\"data row0 col14\" >0</td>\n",
       "      <td id=\"T_60de4_row0_col15\" class=\"data row0 col15\" >0</td>\n",
       "      <td id=\"T_60de4_row0_col16\" class=\"data row0 col16\" >0</td>\n",
       "      <td id=\"T_60de4_row0_col17\" class=\"data row0 col17\" >0</td>\n",
       "    </tr>\n",
       "    <tr>\n",
       "      <th id=\"T_60de4_level0_row1\" class=\"row_heading level0 row1\" >1</th>\n",
       "      <td id=\"T_60de4_row1_col0\" class=\"data row1 col0\" >0</td>\n",
       "      <td id=\"T_60de4_row1_col1\" class=\"data row1 col1\" >0</td>\n",
       "      <td id=\"T_60de4_row1_col2\" class=\"data row1 col2\" >0</td>\n",
       "      <td id=\"T_60de4_row1_col3\" class=\"data row1 col3\" >0</td>\n",
       "      <td id=\"T_60de4_row1_col4\" class=\"data row1 col4\" >0</td>\n",
       "      <td id=\"T_60de4_row1_col5\" class=\"data row1 col5\" >29</td>\n",
       "      <td id=\"T_60de4_row1_col6\" class=\"data row1 col6\" >150</td>\n",
       "      <td id=\"T_60de4_row1_col7\" class=\"data row1 col7\" >195</td>\n",
       "      <td id=\"T_60de4_row1_col8\" class=\"data row1 col8\" >254</td>\n",
       "      <td id=\"T_60de4_row1_col9\" class=\"data row1 col9\" >255</td>\n",
       "      <td id=\"T_60de4_row1_col10\" class=\"data row1 col10\" >254</td>\n",
       "      <td id=\"T_60de4_row1_col11\" class=\"data row1 col11\" >176</td>\n",
       "      <td id=\"T_60de4_row1_col12\" class=\"data row1 col12\" >193</td>\n",
       "      <td id=\"T_60de4_row1_col13\" class=\"data row1 col13\" >150</td>\n",
       "      <td id=\"T_60de4_row1_col14\" class=\"data row1 col14\" >96</td>\n",
       "      <td id=\"T_60de4_row1_col15\" class=\"data row1 col15\" >0</td>\n",
       "      <td id=\"T_60de4_row1_col16\" class=\"data row1 col16\" >0</td>\n",
       "      <td id=\"T_60de4_row1_col17\" class=\"data row1 col17\" >0</td>\n",
       "    </tr>\n",
       "    <tr>\n",
       "      <th id=\"T_60de4_level0_row2\" class=\"row_heading level0 row2\" >2</th>\n",
       "      <td id=\"T_60de4_row2_col0\" class=\"data row2 col0\" >0</td>\n",
       "      <td id=\"T_60de4_row2_col1\" class=\"data row2 col1\" >0</td>\n",
       "      <td id=\"T_60de4_row2_col2\" class=\"data row2 col2\" >0</td>\n",
       "      <td id=\"T_60de4_row2_col3\" class=\"data row2 col3\" >48</td>\n",
       "      <td id=\"T_60de4_row2_col4\" class=\"data row2 col4\" >166</td>\n",
       "      <td id=\"T_60de4_row2_col5\" class=\"data row2 col5\" >224</td>\n",
       "      <td id=\"T_60de4_row2_col6\" class=\"data row2 col6\" >253</td>\n",
       "      <td id=\"T_60de4_row2_col7\" class=\"data row2 col7\" >253</td>\n",
       "      <td id=\"T_60de4_row2_col8\" class=\"data row2 col8\" >234</td>\n",
       "      <td id=\"T_60de4_row2_col9\" class=\"data row2 col9\" >196</td>\n",
       "      <td id=\"T_60de4_row2_col10\" class=\"data row2 col10\" >253</td>\n",
       "      <td id=\"T_60de4_row2_col11\" class=\"data row2 col11\" >253</td>\n",
       "      <td id=\"T_60de4_row2_col12\" class=\"data row2 col12\" >253</td>\n",
       "      <td id=\"T_60de4_row2_col13\" class=\"data row2 col13\" >253</td>\n",
       "      <td id=\"T_60de4_row2_col14\" class=\"data row2 col14\" >233</td>\n",
       "      <td id=\"T_60de4_row2_col15\" class=\"data row2 col15\" >0</td>\n",
       "      <td id=\"T_60de4_row2_col16\" class=\"data row2 col16\" >0</td>\n",
       "      <td id=\"T_60de4_row2_col17\" class=\"data row2 col17\" >0</td>\n",
       "    </tr>\n",
       "    <tr>\n",
       "      <th id=\"T_60de4_level0_row3\" class=\"row_heading level0 row3\" >3</th>\n",
       "      <td id=\"T_60de4_row3_col0\" class=\"data row3 col0\" >0</td>\n",
       "      <td id=\"T_60de4_row3_col1\" class=\"data row3 col1\" >93</td>\n",
       "      <td id=\"T_60de4_row3_col2\" class=\"data row3 col2\" >244</td>\n",
       "      <td id=\"T_60de4_row3_col3\" class=\"data row3 col3\" >249</td>\n",
       "      <td id=\"T_60de4_row3_col4\" class=\"data row3 col4\" >253</td>\n",
       "      <td id=\"T_60de4_row3_col5\" class=\"data row3 col5\" >187</td>\n",
       "      <td id=\"T_60de4_row3_col6\" class=\"data row3 col6\" >46</td>\n",
       "      <td id=\"T_60de4_row3_col7\" class=\"data row3 col7\" >10</td>\n",
       "      <td id=\"T_60de4_row3_col8\" class=\"data row3 col8\" >8</td>\n",
       "      <td id=\"T_60de4_row3_col9\" class=\"data row3 col9\" >4</td>\n",
       "      <td id=\"T_60de4_row3_col10\" class=\"data row3 col10\" >10</td>\n",
       "      <td id=\"T_60de4_row3_col11\" class=\"data row3 col11\" >194</td>\n",
       "      <td id=\"T_60de4_row3_col12\" class=\"data row3 col12\" >253</td>\n",
       "      <td id=\"T_60de4_row3_col13\" class=\"data row3 col13\" >253</td>\n",
       "      <td id=\"T_60de4_row3_col14\" class=\"data row3 col14\" >233</td>\n",
       "      <td id=\"T_60de4_row3_col15\" class=\"data row3 col15\" >0</td>\n",
       "      <td id=\"T_60de4_row3_col16\" class=\"data row3 col16\" >0</td>\n",
       "      <td id=\"T_60de4_row3_col17\" class=\"data row3 col17\" >0</td>\n",
       "    </tr>\n",
       "    <tr>\n",
       "      <th id=\"T_60de4_level0_row4\" class=\"row_heading level0 row4\" >4</th>\n",
       "      <td id=\"T_60de4_row4_col0\" class=\"data row4 col0\" >0</td>\n",
       "      <td id=\"T_60de4_row4_col1\" class=\"data row4 col1\" >107</td>\n",
       "      <td id=\"T_60de4_row4_col2\" class=\"data row4 col2\" >253</td>\n",
       "      <td id=\"T_60de4_row4_col3\" class=\"data row4 col3\" >253</td>\n",
       "      <td id=\"T_60de4_row4_col4\" class=\"data row4 col4\" >230</td>\n",
       "      <td id=\"T_60de4_row4_col5\" class=\"data row4 col5\" >48</td>\n",
       "      <td id=\"T_60de4_row4_col6\" class=\"data row4 col6\" >0</td>\n",
       "      <td id=\"T_60de4_row4_col7\" class=\"data row4 col7\" >0</td>\n",
       "      <td id=\"T_60de4_row4_col8\" class=\"data row4 col8\" >0</td>\n",
       "      <td id=\"T_60de4_row4_col9\" class=\"data row4 col9\" >0</td>\n",
       "      <td id=\"T_60de4_row4_col10\" class=\"data row4 col10\" >0</td>\n",
       "      <td id=\"T_60de4_row4_col11\" class=\"data row4 col11\" >192</td>\n",
       "      <td id=\"T_60de4_row4_col12\" class=\"data row4 col12\" >253</td>\n",
       "      <td id=\"T_60de4_row4_col13\" class=\"data row4 col13\" >253</td>\n",
       "      <td id=\"T_60de4_row4_col14\" class=\"data row4 col14\" >156</td>\n",
       "      <td id=\"T_60de4_row4_col15\" class=\"data row4 col15\" >0</td>\n",
       "      <td id=\"T_60de4_row4_col16\" class=\"data row4 col16\" >0</td>\n",
       "      <td id=\"T_60de4_row4_col17\" class=\"data row4 col17\" >0</td>\n",
       "    </tr>\n",
       "    <tr>\n",
       "      <th id=\"T_60de4_level0_row5\" class=\"row_heading level0 row5\" >5</th>\n",
       "      <td id=\"T_60de4_row5_col0\" class=\"data row5 col0\" >0</td>\n",
       "      <td id=\"T_60de4_row5_col1\" class=\"data row5 col1\" >3</td>\n",
       "      <td id=\"T_60de4_row5_col2\" class=\"data row5 col2\" >20</td>\n",
       "      <td id=\"T_60de4_row5_col3\" class=\"data row5 col3\" >20</td>\n",
       "      <td id=\"T_60de4_row5_col4\" class=\"data row5 col4\" >15</td>\n",
       "      <td id=\"T_60de4_row5_col5\" class=\"data row5 col5\" >0</td>\n",
       "      <td id=\"T_60de4_row5_col6\" class=\"data row5 col6\" >0</td>\n",
       "      <td id=\"T_60de4_row5_col7\" class=\"data row5 col7\" >0</td>\n",
       "      <td id=\"T_60de4_row5_col8\" class=\"data row5 col8\" >0</td>\n",
       "      <td id=\"T_60de4_row5_col9\" class=\"data row5 col9\" >0</td>\n",
       "      <td id=\"T_60de4_row5_col10\" class=\"data row5 col10\" >43</td>\n",
       "      <td id=\"T_60de4_row5_col11\" class=\"data row5 col11\" >224</td>\n",
       "      <td id=\"T_60de4_row5_col12\" class=\"data row5 col12\" >253</td>\n",
       "      <td id=\"T_60de4_row5_col13\" class=\"data row5 col13\" >245</td>\n",
       "      <td id=\"T_60de4_row5_col14\" class=\"data row5 col14\" >74</td>\n",
       "      <td id=\"T_60de4_row5_col15\" class=\"data row5 col15\" >0</td>\n",
       "      <td id=\"T_60de4_row5_col16\" class=\"data row5 col16\" >0</td>\n",
       "      <td id=\"T_60de4_row5_col17\" class=\"data row5 col17\" >0</td>\n",
       "    </tr>\n",
       "    <tr>\n",
       "      <th id=\"T_60de4_level0_row6\" class=\"row_heading level0 row6\" >6</th>\n",
       "      <td id=\"T_60de4_row6_col0\" class=\"data row6 col0\" >0</td>\n",
       "      <td id=\"T_60de4_row6_col1\" class=\"data row6 col1\" >0</td>\n",
       "      <td id=\"T_60de4_row6_col2\" class=\"data row6 col2\" >0</td>\n",
       "      <td id=\"T_60de4_row6_col3\" class=\"data row6 col3\" >0</td>\n",
       "      <td id=\"T_60de4_row6_col4\" class=\"data row6 col4\" >0</td>\n",
       "      <td id=\"T_60de4_row6_col5\" class=\"data row6 col5\" >0</td>\n",
       "      <td id=\"T_60de4_row6_col6\" class=\"data row6 col6\" >0</td>\n",
       "      <td id=\"T_60de4_row6_col7\" class=\"data row6 col7\" >0</td>\n",
       "      <td id=\"T_60de4_row6_col8\" class=\"data row6 col8\" >0</td>\n",
       "      <td id=\"T_60de4_row6_col9\" class=\"data row6 col9\" >0</td>\n",
       "      <td id=\"T_60de4_row6_col10\" class=\"data row6 col10\" >249</td>\n",
       "      <td id=\"T_60de4_row6_col11\" class=\"data row6 col11\" >253</td>\n",
       "      <td id=\"T_60de4_row6_col12\" class=\"data row6 col12\" >245</td>\n",
       "      <td id=\"T_60de4_row6_col13\" class=\"data row6 col13\" >126</td>\n",
       "      <td id=\"T_60de4_row6_col14\" class=\"data row6 col14\" >0</td>\n",
       "      <td id=\"T_60de4_row6_col15\" class=\"data row6 col15\" >0</td>\n",
       "      <td id=\"T_60de4_row6_col16\" class=\"data row6 col16\" >0</td>\n",
       "      <td id=\"T_60de4_row6_col17\" class=\"data row6 col17\" >0</td>\n",
       "    </tr>\n",
       "    <tr>\n",
       "      <th id=\"T_60de4_level0_row7\" class=\"row_heading level0 row7\" >7</th>\n",
       "      <td id=\"T_60de4_row7_col0\" class=\"data row7 col0\" >0</td>\n",
       "      <td id=\"T_60de4_row7_col1\" class=\"data row7 col1\" >0</td>\n",
       "      <td id=\"T_60de4_row7_col2\" class=\"data row7 col2\" >0</td>\n",
       "      <td id=\"T_60de4_row7_col3\" class=\"data row7 col3\" >0</td>\n",
       "      <td id=\"T_60de4_row7_col4\" class=\"data row7 col4\" >0</td>\n",
       "      <td id=\"T_60de4_row7_col5\" class=\"data row7 col5\" >0</td>\n",
       "      <td id=\"T_60de4_row7_col6\" class=\"data row7 col6\" >0</td>\n",
       "      <td id=\"T_60de4_row7_col7\" class=\"data row7 col7\" >14</td>\n",
       "      <td id=\"T_60de4_row7_col8\" class=\"data row7 col8\" >101</td>\n",
       "      <td id=\"T_60de4_row7_col9\" class=\"data row7 col9\" >223</td>\n",
       "      <td id=\"T_60de4_row7_col10\" class=\"data row7 col10\" >253</td>\n",
       "      <td id=\"T_60de4_row7_col11\" class=\"data row7 col11\" >248</td>\n",
       "      <td id=\"T_60de4_row7_col12\" class=\"data row7 col12\" >124</td>\n",
       "      <td id=\"T_60de4_row7_col13\" class=\"data row7 col13\" >0</td>\n",
       "      <td id=\"T_60de4_row7_col14\" class=\"data row7 col14\" >0</td>\n",
       "      <td id=\"T_60de4_row7_col15\" class=\"data row7 col15\" >0</td>\n",
       "      <td id=\"T_60de4_row7_col16\" class=\"data row7 col16\" >0</td>\n",
       "      <td id=\"T_60de4_row7_col17\" class=\"data row7 col17\" >0</td>\n",
       "    </tr>\n",
       "    <tr>\n",
       "      <th id=\"T_60de4_level0_row8\" class=\"row_heading level0 row8\" >8</th>\n",
       "      <td id=\"T_60de4_row8_col0\" class=\"data row8 col0\" >0</td>\n",
       "      <td id=\"T_60de4_row8_col1\" class=\"data row8 col1\" >0</td>\n",
       "      <td id=\"T_60de4_row8_col2\" class=\"data row8 col2\" >0</td>\n",
       "      <td id=\"T_60de4_row8_col3\" class=\"data row8 col3\" >0</td>\n",
       "      <td id=\"T_60de4_row8_col4\" class=\"data row8 col4\" >0</td>\n",
       "      <td id=\"T_60de4_row8_col5\" class=\"data row8 col5\" >11</td>\n",
       "      <td id=\"T_60de4_row8_col6\" class=\"data row8 col6\" >166</td>\n",
       "      <td id=\"T_60de4_row8_col7\" class=\"data row8 col7\" >239</td>\n",
       "      <td id=\"T_60de4_row8_col8\" class=\"data row8 col8\" >253</td>\n",
       "      <td id=\"T_60de4_row8_col9\" class=\"data row8 col9\" >253</td>\n",
       "      <td id=\"T_60de4_row8_col10\" class=\"data row8 col10\" >253</td>\n",
       "      <td id=\"T_60de4_row8_col11\" class=\"data row8 col11\" >187</td>\n",
       "      <td id=\"T_60de4_row8_col12\" class=\"data row8 col12\" >30</td>\n",
       "      <td id=\"T_60de4_row8_col13\" class=\"data row8 col13\" >0</td>\n",
       "      <td id=\"T_60de4_row8_col14\" class=\"data row8 col14\" >0</td>\n",
       "      <td id=\"T_60de4_row8_col15\" class=\"data row8 col15\" >0</td>\n",
       "      <td id=\"T_60de4_row8_col16\" class=\"data row8 col16\" >0</td>\n",
       "      <td id=\"T_60de4_row8_col17\" class=\"data row8 col17\" >0</td>\n",
       "    </tr>\n",
       "    <tr>\n",
       "      <th id=\"T_60de4_level0_row9\" class=\"row_heading level0 row9\" >9</th>\n",
       "      <td id=\"T_60de4_row9_col0\" class=\"data row9 col0\" >0</td>\n",
       "      <td id=\"T_60de4_row9_col1\" class=\"data row9 col1\" >0</td>\n",
       "      <td id=\"T_60de4_row9_col2\" class=\"data row9 col2\" >0</td>\n",
       "      <td id=\"T_60de4_row9_col3\" class=\"data row9 col3\" >0</td>\n",
       "      <td id=\"T_60de4_row9_col4\" class=\"data row9 col4\" >0</td>\n",
       "      <td id=\"T_60de4_row9_col5\" class=\"data row9 col5\" >16</td>\n",
       "      <td id=\"T_60de4_row9_col6\" class=\"data row9 col6\" >248</td>\n",
       "      <td id=\"T_60de4_row9_col7\" class=\"data row9 col7\" >250</td>\n",
       "      <td id=\"T_60de4_row9_col8\" class=\"data row9 col8\" >253</td>\n",
       "      <td id=\"T_60de4_row9_col9\" class=\"data row9 col9\" >253</td>\n",
       "      <td id=\"T_60de4_row9_col10\" class=\"data row9 col10\" >253</td>\n",
       "      <td id=\"T_60de4_row9_col11\" class=\"data row9 col11\" >253</td>\n",
       "      <td id=\"T_60de4_row9_col12\" class=\"data row9 col12\" >232</td>\n",
       "      <td id=\"T_60de4_row9_col13\" class=\"data row9 col13\" >213</td>\n",
       "      <td id=\"T_60de4_row9_col14\" class=\"data row9 col14\" >111</td>\n",
       "      <td id=\"T_60de4_row9_col15\" class=\"data row9 col15\" >2</td>\n",
       "      <td id=\"T_60de4_row9_col16\" class=\"data row9 col16\" >0</td>\n",
       "      <td id=\"T_60de4_row9_col17\" class=\"data row9 col17\" >0</td>\n",
       "    </tr>\n",
       "    <tr>\n",
       "      <th id=\"T_60de4_level0_row10\" class=\"row_heading level0 row10\" >10</th>\n",
       "      <td id=\"T_60de4_row10_col0\" class=\"data row10 col0\" >0</td>\n",
       "      <td id=\"T_60de4_row10_col1\" class=\"data row10 col1\" >0</td>\n",
       "      <td id=\"T_60de4_row10_col2\" class=\"data row10 col2\" >0</td>\n",
       "      <td id=\"T_60de4_row10_col3\" class=\"data row10 col3\" >0</td>\n",
       "      <td id=\"T_60de4_row10_col4\" class=\"data row10 col4\" >0</td>\n",
       "      <td id=\"T_60de4_row10_col5\" class=\"data row10 col5\" >0</td>\n",
       "      <td id=\"T_60de4_row10_col6\" class=\"data row10 col6\" >0</td>\n",
       "      <td id=\"T_60de4_row10_col7\" class=\"data row10 col7\" >43</td>\n",
       "      <td id=\"T_60de4_row10_col8\" class=\"data row10 col8\" >98</td>\n",
       "      <td id=\"T_60de4_row10_col9\" class=\"data row10 col9\" >98</td>\n",
       "      <td id=\"T_60de4_row10_col10\" class=\"data row10 col10\" >208</td>\n",
       "      <td id=\"T_60de4_row10_col11\" class=\"data row10 col11\" >253</td>\n",
       "      <td id=\"T_60de4_row10_col12\" class=\"data row10 col12\" >253</td>\n",
       "      <td id=\"T_60de4_row10_col13\" class=\"data row10 col13\" >253</td>\n",
       "      <td id=\"T_60de4_row10_col14\" class=\"data row10 col14\" >253</td>\n",
       "      <td id=\"T_60de4_row10_col15\" class=\"data row10 col15\" >187</td>\n",
       "      <td id=\"T_60de4_row10_col16\" class=\"data row10 col16\" >22</td>\n",
       "      <td id=\"T_60de4_row10_col17\" class=\"data row10 col17\" >0</td>\n",
       "    </tr>\n",
       "  </tbody>\n",
       "</table>\n"
      ],
      "text/plain": [
       "<pandas.io.formats.style.Styler at 0x7ff6f4e5bc90>"
      ]
     },
     "execution_count": 13,
     "metadata": {},
     "output_type": "execute_result"
    }
   ],
   "source": [
    "im3_t = tensor(im)\n",
    "df = pd.DataFrame(im3_t[4:15,4:22])\n",
    "df.style.set_properties(**{'font-size':'6pt'}).background_gradient('Greys')"
   ]
  },
  {
   "cell_type": "markdown",
   "id": "a4a7948a-4c9a-4c5f-a2b1-1d13aee13ac1",
   "metadata": {},
   "source": [
    "# Data Preparation"
   ]
  },
  {
   "cell_type": "code",
   "execution_count": 15,
   "id": "61ea93a9-53e1-48ba-9a82-2a633351bdcf",
   "metadata": {
    "tags": []
   },
   "outputs": [
    {
     "data": {
      "text/plain": [
       "(6131, 6265)"
      ]
     },
     "execution_count": 15,
     "metadata": {},
     "output_type": "execute_result"
    }
   ],
   "source": [
    "threes_ls = [tensor(Image.open(i)) for i in threes]\n",
    "sevens_ls = [tensor(Image.open(i)) for i in sevens]\n",
    "len(threes_ls),len(sevens_ls)"
   ]
  },
  {
   "cell_type": "code",
   "execution_count": 18,
   "id": "4d8b5e5c-4c0a-4798-96d9-311a6aa2e041",
   "metadata": {
    "tags": []
   },
   "outputs": [
    {
     "data": {
      "image/png": "[encoded data removed]",
      "text/plain": [
       "<Figure size 100x100 with 1 Axes>"
      ]
     },
     "metadata": {},
     "output_type": "display_data"
    }
   ],
   "source": [
    "show_image(threes_ls[1]);"
   ]
  },
  {
   "cell_type": "code",
   "execution_count": 20,
   "id": "eccd8a03-3533-490b-b134-c309ea3d05e5",
   "metadata": {
    "tags": []
   },
   "outputs": [
    {
     "data": {
      "text/plain": [
       "torch.Size([6265, 28, 28])"
      ]
     },
     "execution_count": 20,
     "metadata": {},
     "output_type": "execute_result"
    }
   ],
   "source": [
    "stacked_threes = torch.stack(threes_ls).float()/255\n",
    "stacked_sevens = torch.stack(sevens_ls).float()/255\n",
    "stacked_sevens.shape"
   ]
  },
  {
   "cell_type": "code",
   "execution_count": 22,
   "id": "bbbcf27a-c1f5-4f2a-9cbd-a1e804ff70df",
   "metadata": {
    "tags": []
   },
   "outputs": [
    {
     "data": {
      "text/plain": [
       "3"
      ]
     },
     "execution_count": 22,
     "metadata": {},
     "output_type": "execute_result"
    }
   ],
   "source": [
    "# rank of the tensor - number of dimenesions\n",
    "stacked_sevens.ndim"
   ]
  },
  {
   "cell_type": "code",
   "execution_count": 23,
   "id": "37c53f63-d3fc-473f-a142-4384c524e9d1",
   "metadata": {
    "tags": []
   },
   "outputs": [],
   "source": [
    "mean_3 = stacked_threes.mean(0)\n",
    "mean_7 = stacked_sevens.mean(0)"
   ]
  },
  {
   "cell_type": "code",
   "execution_count": 24,
   "id": "b332ae4b-3784-4996-9b53-a121251a8703",
   "metadata": {
    "tags": []
   },
   "outputs": [
    {
     "data": {
      "text/plain": [
       "<Axes: >"
      ]
     },
     "execution_count": 24,
     "metadata": {},
     "output_type": "execute_result"
    },
    {
     "data": {
      "image/png": "[encoded data removed]",
      "text/plain": [
       "<Figure size 100x100 with 1 Axes>"
      ]
     },
     "metadata": {},
     "output_type": "display_data"
    }
   ],
   "source": [
    "show_image(mean_3)"
   ]
  },
  {
   "cell_type": "code",
   "execution_count": 25,
   "id": "e6024fcc-e3d9-418e-8eff-6cc2334a276a",
   "metadata": {
    "tags": []
   },
   "outputs": [
    {
     "data": {
      "text/plain": [
       "<Axes: >"
      ]
     },
     "execution_count": 25,
     "metadata": {},
     "output_type": "execute_result"
    },
    {
     "data": {
      "image/png": "[encoded data removed]",
      "text/plain": [
       "<Figure size 100x100 with 1 Axes>"
      ]
     },
     "metadata": {},
     "output_type": "display_data"
    }
   ],
   "source": [
    "show_image(mean_7)"
   ]
  },
  {
   "cell_type": "code",
   "execution_count": 28,
   "id": "1c66d54a-aaba-481d-b94e-f8acc7b7dd5d",
   "metadata": {
    "tags": []
   },
   "outputs": [
    {
     "data": {
      "image/png": "[encoded data removed]",
      "text/plain": [
       "<Figure size 100x100 with 1 Axes>"
      ]
     },
     "metadata": {},
     "output_type": "display_data"
    }
   ],
   "source": [
    "a_3 = stacked_threes[4]\n",
    "show_image(a_3);"
   ]
  },
  {
   "cell_type": "markdown",
   "id": "ed16b78a-194d-42e5-96a6-f870de504af2",
   "metadata": {},
   "source": [
    "# Baseline Model"
   ]
  },
  {
   "cell_type": "code",
   "execution_count": 29,
   "id": "06486601-3094-4a8d-9ee6-c46330168f0c",
   "metadata": {
    "tags": []
   },
   "outputs": [
    {
     "data": {
      "text/plain": [
       "(tensor(0.1300), tensor(0.2369), tensor(0.1680), tensor(0.3125))"
      ]
     },
     "execution_count": 29,
     "metadata": {},
     "output_type": "execute_result"
    }
   ],
   "source": [
    "dist_3_abs = (a_3-mean_3).abs().mean()\n",
    "dist_3_sqr = ((a_3-mean_3)**2).mean().sqrt()\n",
    "dist_7_abs = (a_3-mean_7).abs().mean()\n",
    "dist_7_sqr = ((a_3-mean_7)**2).mean().sqrt()\n",
    "dist_3_abs,dist_3_sqr,dist_7_abs,dist_7_sqr"
   ]
  },
  {
   "cell_type": "code",
   "execution_count": 32,
   "id": "824710c2-f086-4c03-a16b-1f1ee9150dca",
   "metadata": {
    "tags": []
   },
   "outputs": [
    {
     "data": {
      "text/plain": [
       "(tensor(0.1300), tensor(0.2369))"
      ]
     },
     "execution_count": 32,
     "metadata": {},
     "output_type": "execute_result"
    }
   ],
   "source": [
    "F.l1_loss(a_3,mean_3), F.mse_loss(a_3,mean_3).sqrt()"
   ]
  },
  {
   "cell_type": "code",
   "execution_count": 37,
   "id": "d26e77b7-c2ca-4560-ba9b-876a99d59930",
   "metadata": {
    "tags": []
   },
   "outputs": [],
   "source": [
    "avg_l1_loss_33 = tensor([F.l1_loss(stacked_threes[i],mean_3) for i in range(len(stacked_threes))]).mean(0)\n",
    "avg_mse_loss_33 = tensor([F.mse_loss(stacked_threes[i],mean_3) for i in range(len(stacked_threes))]).mean(0)\n",
    "\n",
    "avg_l1_loss_37 = tensor([F.l1_loss(stacked_threes[i],mean_7) for i in range(len(stacked_threes))]).mean(0)\n",
    "avg_mse_loss_37 = tensor([F.mse_loss(stacked_threes[i],mean_7) for i in range(len(stacked_threes))]).mean(0)"
   ]
  },
  {
   "cell_type": "code",
   "execution_count": 38,
   "id": "d0fbc4eb-232a-4ad7-b003-56fd2ccfcfc4",
   "metadata": {
    "tags": []
   },
   "outputs": [
    {
     "data": {
      "text/plain": [
       "(tensor(0.1313), tensor(0.0573), tensor(0.1598), tensor(0.0922))"
      ]
     },
     "execution_count": 38,
     "metadata": {},
     "output_type": "execute_result"
    }
   ],
   "source": [
    "avg_l1_loss_33,avg_mse_loss_33,avg_l1_loss_37,avg_mse_loss_37"
   ]
  },
  {
   "cell_type": "code",
   "execution_count": 40,
   "id": "bf4dbdb0-2b41-47dd-adfb-dc83cda6c3e7",
   "metadata": {
    "tags": []
   },
   "outputs": [],
   "source": [
    "valid_3_ten = torch.stack([tensor(Image.open(i)) for i in (path/'valid/3').ls()]).float()/255\n",
    "valid_7_ten = torch.stack([tensor(Image.open(i)) for i in (path/'valid/7').ls()]).float()/255"
   ]
  },
  {
   "cell_type": "code",
   "execution_count": 41,
   "id": "9a1f7934-5598-49a7-9705-9b016af59ba9",
   "metadata": {
    "tags": []
   },
   "outputs": [
    {
     "data": {
      "text/plain": [
       "(torch.Size([1010, 28, 28]), torch.Size([1028, 28, 28]))"
      ]
     },
     "execution_count": 41,
     "metadata": {},
     "output_type": "execute_result"
    }
   ],
   "source": [
    "valid_3_ten.shape,valid_7_ten.shape"
   ]
  },
  {
   "cell_type": "code",
   "execution_count": 57,
   "id": "a3cb3797-2c61-46b8-b440-c7e25d1d0055",
   "metadata": {
    "tags": []
   },
   "outputs": [],
   "source": [
    "def mnist_dist(a,b,dist='l1'):\n",
    "    if dist == 'l1': return (a-b).abs().mean((1,2))\n",
    "    else : return ((a-b)**2).mean((-1,-2))"
   ]
  },
  {
   "cell_type": "code",
   "execution_count": 58,
   "id": "248132bd-1c33-44f8-9f86-40b413290f20",
   "metadata": {
    "tags": []
   },
   "outputs": [
    {
     "data": {
      "text/plain": [
       "torch.Size([1010])"
      ]
     },
     "execution_count": 58,
     "metadata": {},
     "output_type": "execute_result"
    }
   ],
   "source": [
    "mnist_dist(valid_3_ten,mean_3).shape"
   ]
  },
  {
   "cell_type": "code",
   "execution_count": 59,
   "id": "c8efc138-7833-4399-bea2-042359f6d50a",
   "metadata": {
    "tags": []
   },
   "outputs": [],
   "source": [
    "def is_3(x) :return mnist_dist(x,mean_3) < mnist_dist(x,mean_7)"
   ]
  },
  {
   "cell_type": "code",
   "execution_count": 64,
   "id": "62bb5762-c2cc-404a-8fca-2fee3cf620a4",
   "metadata": {
    "tags": []
   },
   "outputs": [
    {
     "data": {
      "text/plain": [
       "tensor(0.9168)"
      ]
     },
     "execution_count": 64,
     "metadata": {},
     "output_type": "execute_result"
    }
   ],
   "source": [
    "is_3(valid_3_ten).float().mean()"
   ]
  },
  {
   "cell_type": "code",
   "execution_count": 65,
   "id": "8ad881b4-9eb1-40f3-9f75-5e1397268131",
   "metadata": {
    "tags": []
   },
   "outputs": [
    {
     "data": {
      "text/plain": [
       "(tensor(0.9168), tensor(0.9854))"
      ]
     },
     "execution_count": 65,
     "metadata": {},
     "output_type": "execute_result"
    }
   ],
   "source": [
    "accuracy_3 = is_3(valid_3_ten).float().mean()\n",
    "accuracy_7 = 1- is_3(valid_7_ten).float().mean()\n",
    "accuracy_3,accuracy_7"
   ]
  },
  {
   "cell_type": "markdown",
   "id": "01c7ed2d-7955-42ae-b8dd-9224668155bb",
   "metadata": {},
   "source": [
    "# Example of SGD working"
   ]
  },
  {
   "cell_type": "code",
   "execution_count": 138,
   "id": "1cf64ede-1d13-400d-bba0-0d7ae141fc2f",
   "metadata": {
    "tags": []
   },
   "outputs": [],
   "source": [
    "def f(x) : return 3*x**2+2*x+1"
   ]
  },
  {
   "cell_type": "code",
   "execution_count": 139,
   "id": "d6767eea-b2a6-46cd-ba2e-643cadb73bf6",
   "metadata": {
    "tags": []
   },
   "outputs": [
    {
     "data": {
      "image/png": "[encoded data removed]",
      "text/plain": [
       "<Figure size 600x400 with 1 Axes>"
      ]
     },
     "metadata": {},
     "output_type": "display_data"
    }
   ],
   "source": [
    "plot_function(f,title = '$3x^2+2x+1$')"
   ]
  },
  {
   "cell_type": "code",
   "execution_count": 156,
   "id": "d8952ead-e2d5-425c-993a-171f913942d8",
   "metadata": {
    "tags": []
   },
   "outputs": [
    {
     "data": {
      "image/png": "[encoded data removed]",
      "text/plain": [
       "<Figure size 640x480 with 1 Axes>"
      ]
     },
     "metadata": {},
     "output_type": "display_data"
    }
   ],
   "source": [
    "\n",
    "time = torch.arange(0,20).float()\n",
    "speed = torch.randn(20)*3 + 0.75*(time-9.5)**2 + 1\n",
    "plt.scatter(time,speed);"
   ]
  },
  {
   "cell_type": "code",
   "execution_count": 157,
   "id": "a7ec4162-0d92-42f1-a2ef-74222cfb6c7b",
   "metadata": {
    "tags": []
   },
   "outputs": [],
   "source": [
    "def f(x,params) : \n",
    "    a,b,c = params\n",
    "    return a*x**2+b*x+c"
   ]
  },
  {
   "cell_type": "code",
   "execution_count": 159,
   "id": "2a7c8e4d-e124-4771-ae81-d4e6306dc41d",
   "metadata": {
    "tags": []
   },
   "outputs": [],
   "source": [
    "def mse(preds,actual) : return ((preds-actual)**2).mean()"
   ]
  },
  {
   "cell_type": "code",
   "execution_count": 161,
   "id": "40fc2462-567f-4ceb-a948-058f2a682aaa",
   "metadata": {
    "tags": []
   },
   "outputs": [],
   "source": [
    "preds = f(time,params)"
   ]
  },
  {
   "cell_type": "code",
   "execution_count": 174,
   "id": "86f6f897-41e3-4602-b6a1-14ae2ebd77f9",
   "metadata": {
    "tags": []
   },
   "outputs": [],
   "source": [
    "def show_preds(preds):\n",
    "    plt.scatter(time,speed)\n",
    "    plt.scatter(time,to_np(preds),color='red')"
   ]
  },
  {
   "cell_type": "code",
   "execution_count": 178,
   "id": "ea63c05a-2047-44e4-bca2-31a5667bbbd0",
   "metadata": {
    "tags": []
   },
   "outputs": [],
   "source": [
    "def optimi_steps(params , prnt = True):\n",
    "    lr = 1e-5\n",
    "    preds = f(time,params)\n",
    "    loss = mse(preds,speed)\n",
    "    loss.backward()\n",
    "    params.data -= lr*params.grad.data\n",
    "    params.grad=None\n",
    "    if prnt : print(loss.item())\n",
    "    return preds"
   ]
  },
  {
   "cell_type": "code",
   "execution_count": 181,
   "id": "7450ed30-ccd0-4355-a94f-9980ecee2ca6",
   "metadata": {
    "tags": []
   },
   "outputs": [
    {
     "name": "stdout",
     "output_type": "stream",
     "text": [
      "12121.3232421875\n",
      "2858.13037109375\n",
      "1105.2470703125\n",
      "773.5438232421875\n",
      "710.7711181640625\n",
      "698.8882446289062\n",
      "696.6353149414062\n",
      "696.2047729492188\n",
      "696.1189575195312\n",
      "696.0983276367188\n"
     ]
    }
   ],
   "source": [
    "params = torch.rand(3).float().requires_grad_()\n",
    "origi_params = params.clone()\n",
    "for i in range(10):\n",
    "    optimi_steps(params)"
   ]
  },
  {
   "cell_type": "code",
   "execution_count": 183,
   "id": "6403ac99-1367-409d-a566-a7bb48f12306",
   "metadata": {
    "tags": []
   },
   "outputs": [
    {
     "data": {
      "image/png": "[encoded data removed]",
      "text/plain": [
       "<Figure size 640x480 with 1 Axes>"
      ]
     },
     "metadata": {},
     "output_type": "display_data"
    }
   ],
   "source": [
    "params = origi_params.detach().requires_grad_()\n",
    "for i in range(10):\n",
    "    show_preds(optimi_steps(params,False))"
   ]
  },
  {
   "cell_type": "markdown",
   "id": "3e2e30d1-dbbf-454a-a9ad-57cb6af762e4",
   "metadata": {},
   "source": [
    "# MNIST Data"
   ]
  },
  {
   "cell_type": "code",
   "execution_count": 189,
   "id": "01cb4d7f-dafe-4132-aab2-8aac07f287da",
   "metadata": {
    "tags": []
   },
   "outputs": [],
   "source": [
    "train_x = torch.cat([stacked_threes,stacked_sevens]).view(-1,28*28)"
   ]
  },
  {
   "cell_type": "code",
   "execution_count": 190,
   "id": "601783ca-84ea-4a0d-8b86-fe159a5a2956",
   "metadata": {
    "tags": []
   },
   "outputs": [
    {
     "data": {
      "text/plain": [
       "torch.Size([12396, 784])"
      ]
     },
     "execution_count": 190,
     "metadata": {},
     "output_type": "execute_result"
    }
   ],
   "source": [
    "train_x.shape"
   ]
  },
  {
   "cell_type": "code",
   "execution_count": 191,
   "id": "a9f24d2c-8ca4-4ccc-af84-035cca8926f2",
   "metadata": {
    "tags": []
   },
   "outputs": [
    {
     "data": {
      "text/plain": [
       "torch.Size([12396, 1])"
      ]
     },
     "execution_count": 191,
     "metadata": {},
     "output_type": "execute_result"
    }
   ],
   "source": [
    "train_y = (tensor([1]*len(threes_ls) + [0]*len(sevens_ls))).unsqueeze(1)\n",
    "train_y.shape"
   ]
  },
  {
   "cell_type": "code",
   "execution_count": 192,
   "id": "ffbe63cf-1b7b-4e76-9c44-284782c3f406",
   "metadata": {
    "tags": []
   },
   "outputs": [],
   "source": [
    "dset = list(zip(train_x,train_y))"
   ]
  },
  {
   "cell_type": "code",
   "execution_count": 194,
   "id": "702f3836-f338-4ee9-9f8d-3130c0bb4527",
   "metadata": {
    "collapsed": true,
    "jupyter": {
     "outputs_hidden": true
    },
    "tags": []
   },
   "outputs": [
    {
     "data": {
      "text/plain": [
       "(tensor([0.0000, 0.0000, 0.0000, 0.0000, 0.0000, 0.0000, 0.0000, 0.0000, 0.0000, 0.0000, 0.0000, 0.0000, 0.0000, 0.0000, 0.0000, 0.0000, 0.0000, 0.0000, 0.0000, 0.0000, 0.0000, 0.0000, 0.0000, 0.0000,\n",
       "         0.0000, 0.0000, 0.0000, 0.0000, 0.0000, 0.0000, 0.0000, 0.0000, 0.0000, 0.0000, 0.0000, 0.0000, 0.0000, 0.0000, 0.0000, 0.0000, 0.0000, 0.0000, 0.0000, 0.0000, 0.0000, 0.0000, 0.0000, 0.0000,\n",
       "         0.0000, 0.0000, 0.0000, 0.0000, 0.0000, 0.0000, 0.0000, 0.0000, 0.0000, 0.0000, 0.0000, 0.0000, 0.0000, 0.0000, 0.0000, 0.0000, 0.0000, 0.0000, 0.0000, 0.0000, 0.0000, 0.0000, 0.0000, 0.0000,\n",
       "         0.0000, 0.0000, 0.0000, 0.0000, 0.0000, 0.0000, 0.0000, 0.0000, 0.0000, 0.0000, 0.0000, 0.0000, 0.0000, 0.0000, 0.0000, 0.0000, 0.0000, 0.0000, 0.0000, 0.0000, 0.0000, 0.0000, 0.0000, 0.0000,\n",
       "         0.0000, 0.0000, 0.0000, 0.0000, 0.0000, 0.0000, 0.0000, 0.0000, 0.0000, 0.0000, 0.0000, 0.0000, 0.0000, 0.0000, 0.0000, 0.0000, 0.0000, 0.0000, 0.0000, 0.0000, 0.0000, 0.0000, 0.0000, 0.0000,\n",
       "         0.0000, 0.0000, 0.0000, 0.1647, 0.4627, 0.8588, 0.6510, 0.4627, 0.4627, 0.0235, 0.0000, 0.0000, 0.0000, 0.0000, 0.0000, 0.0000, 0.0000, 0.0000, 0.0000, 0.0000, 0.0000, 0.0000, 0.0000, 0.0000,\n",
       "         0.0000, 0.0000, 0.0000, 0.0000, 0.0000, 0.0000, 0.4039, 0.9490, 0.9961, 0.9961, 0.9961, 0.9961, 0.9961, 0.2588, 0.0000, 0.0000, 0.0000, 0.0000, 0.0000, 0.0000, 0.0000, 0.0000, 0.0000, 0.0000,\n",
       "         0.0000, 0.0000, 0.0000, 0.0000, 0.0000, 0.0000, 0.0000, 0.0000, 0.0000, 0.0000, 0.0706, 0.9098, 0.9961, 0.9961, 0.9961, 0.9961, 0.9961, 0.9333, 0.2745, 0.0000, 0.0000, 0.0000, 0.0000, 0.0000,\n",
       "         0.0000, 0.0000, 0.0000, 0.0000, 0.0000, 0.0000, 0.0000, 0.0000, 0.0000, 0.0000, 0.0000, 0.0000, 0.0000, 0.0000, 0.0000, 0.4078, 0.9569, 0.9961, 0.8784, 0.9961, 0.9961, 0.9961, 0.5529, 0.0000,\n",
       "         0.0000, 0.0000, 0.0000, 0.0000, 0.0000, 0.0000, 0.0000, 0.0000, 0.0000, 0.0000, 0.0000, 0.0000, 0.0000, 0.0000, 0.0000, 0.0000, 0.0000, 0.0000, 0.0000, 0.0000, 0.8118, 0.9961, 0.8235, 0.9961,\n",
       "         0.9961, 0.9961, 0.1333, 0.0000, 0.0000, 0.0000, 0.0000, 0.0000, 0.0000, 0.0000, 0.0000, 0.0000, 0.0000, 0.0000, 0.0000, 0.0000, 0.0000, 0.0000, 0.0000, 0.0000, 0.0000, 0.0000, 0.0000, 0.0000,\n",
       "         0.3294, 0.8078, 0.9961, 0.9961, 0.9961, 0.9961, 0.1608, 0.0000, 0.0000, 0.0000, 0.0000, 0.0000, 0.0000, 0.0000, 0.0000, 0.0000, 0.0000, 0.0000, 0.0000, 0.0000, 0.0000, 0.0000, 0.0000, 0.0000,\n",
       "         0.0000, 0.0000, 0.0000, 0.0000, 0.0000, 0.0941, 0.8196, 0.9961, 0.9961, 0.9961, 0.6706, 0.0000, 0.0000, 0.0000, 0.0000, 0.0000, 0.0000, 0.0000, 0.0000, 0.0000, 0.0000, 0.0000, 0.0000, 0.0000,\n",
       "         0.0000, 0.0000, 0.0000, 0.0000, 0.0000, 0.0000, 0.0000, 0.0000, 0.3569, 0.5373, 0.9922, 0.9961, 0.9961, 0.9961, 0.4392, 0.0000, 0.0000, 0.0000, 0.0000, 0.0000, 0.0000, 0.0000, 0.0000, 0.0000,\n",
       "         0.0000, 0.0000, 0.0000, 0.0000, 0.0000, 0.0000, 0.0000, 0.0000, 0.0000, 0.0000, 0.1569, 0.8392, 0.9804, 0.9961, 0.9961, 0.9961, 0.9961, 0.9961, 0.1333, 0.0000, 0.0000, 0.0000, 0.0000, 0.0000,\n",
       "         0.0000, 0.0000, 0.0000, 0.0000, 0.0000, 0.0000, 0.0000, 0.0000, 0.0000, 0.0000, 0.0000, 0.0000, 0.0000, 0.0000, 0.3176, 0.9686, 0.9961, 0.9961, 0.9961, 0.9961, 0.9961, 0.9961, 0.5725, 0.0000,\n",
       "         0.0000, 0.0000, 0.0000, 0.0000, 0.0000, 0.0000, 0.0000, 0.0000, 0.0000, 0.0000, 0.0000, 0.0000, 0.0000, 0.0000, 0.0000, 0.0000, 0.0000, 0.0000, 0.0000, 0.4314, 0.9647, 0.9961, 0.9961, 0.9961,\n",
       "         0.9961, 0.9961, 0.6706, 0.0000, 0.0000, 0.0000, 0.0000, 0.0000, 0.0000, 0.0000, 0.0000, 0.0000, 0.0000, 0.0000, 0.0000, 0.0000, 0.0000, 0.0000, 0.0000, 0.0000, 0.0000, 0.0000, 0.0000, 0.0000,\n",
       "         0.2863, 0.3490, 0.3490, 0.3647, 0.9412, 0.9961, 0.6706, 0.0000, 0.0000, 0.0000, 0.0000, 0.0000, 0.0000, 0.0000, 0.0000, 0.0000, 0.0000, 0.0000, 0.0000, 0.0000, 0.0000, 0.0000, 0.0000, 0.0000,\n",
       "         0.0000, 0.0000, 0.0000, 0.0000, 0.0000, 0.0000, 0.0000, 0.0039, 0.5020, 0.9961, 0.8588, 0.1216, 0.0000, 0.0000, 0.0000, 0.0000, 0.0000, 0.0000, 0.0000, 0.0000, 0.0000, 0.0000, 0.0000, 0.0000,\n",
       "         0.0000, 0.0000, 0.0000, 0.0000, 0.0000, 0.0000, 0.0000, 0.0000, 0.0000, 0.0000, 0.0000, 0.0275, 0.9961, 0.9961, 0.8392, 0.1098, 0.0000, 0.0000, 0.0000, 0.0000, 0.0000, 0.0000, 0.0000, 0.0000,\n",
       "         0.0000, 0.0000, 0.0000, 0.0000, 0.0000, 0.0000, 0.0000, 0.0000, 0.0000, 0.0000, 0.0000, 0.0000, 0.0000, 0.0000, 0.0000, 0.5412, 0.9961, 0.9961, 0.4549, 0.0000, 0.0000, 0.0000, 0.0000, 0.0000,\n",
       "         0.0000, 0.0000, 0.0000, 0.0000, 0.0000, 0.0000, 0.0000, 0.0000, 0.0000, 0.0000, 0.0745, 0.6941, 0.3529, 0.0000, 0.0000, 0.0000, 0.0000, 0.0000, 0.0980, 0.9412, 0.9961, 0.9961, 0.1333, 0.0000,\n",
       "         0.0000, 0.0000, 0.0000, 0.0000, 0.0000, 0.0000, 0.0000, 0.0000, 0.0000, 0.0000, 0.0000, 0.0000, 0.0000, 0.0000, 0.6431, 0.9961, 0.8431, 0.2471, 0.1412, 0.0000, 0.2000, 0.3490, 0.8078, 0.9961,\n",
       "         0.9961, 0.5451, 0.0314, 0.0000, 0.0000, 0.0000, 0.0000, 0.0000, 0.0000, 0.0000, 0.0000, 0.0000, 0.0000, 0.0000, 0.0000, 0.0000, 0.0000, 0.0000, 0.2235, 0.7725, 0.9961, 0.9961, 0.8706, 0.7059,\n",
       "         0.9451, 0.9961, 0.9961, 0.9922, 0.8353, 0.0431, 0.0000, 0.0000, 0.0000, 0.0000, 0.0000, 0.0000, 0.0000, 0.0000, 0.0000, 0.0000, 0.0000, 0.0000, 0.0000, 0.0000, 0.0000, 0.0000, 0.0000, 0.5490,\n",
       "         0.4118, 0.9961, 0.9961, 0.9961, 0.9961, 0.9961, 0.9961, 0.9255, 0.0000, 0.0000, 0.0000, 0.0000, 0.0000, 0.0000, 0.0000, 0.0000, 0.0000, 0.0000, 0.0000, 0.0000, 0.0000, 0.0000, 0.0000, 0.0000,\n",
       "         0.0000, 0.0000, 0.0000, 0.0000, 0.0275, 0.4588, 0.4588, 0.6471, 0.9961, 0.9961, 0.9373, 0.1961, 0.0000, 0.0000, 0.0000, 0.0000, 0.0000, 0.0000, 0.0000, 0.0000, 0.0000, 0.0000, 0.0000, 0.0000,\n",
       "         0.0000, 0.0000, 0.0000, 0.0000, 0.0000, 0.0000, 0.0000, 0.0000, 0.0000, 0.0000, 0.0000, 0.0000, 0.0000, 0.0000, 0.0000, 0.0000, 0.0000, 0.0000, 0.0000, 0.0000, 0.0000, 0.0000, 0.0000, 0.0000,\n",
       "         0.0000, 0.0000, 0.0000, 0.0000, 0.0000, 0.0000, 0.0000, 0.0000, 0.0000, 0.0000, 0.0000, 0.0000, 0.0000, 0.0000, 0.0000, 0.0000, 0.0000, 0.0000, 0.0000, 0.0000, 0.0000, 0.0000, 0.0000, 0.0000,\n",
       "         0.0000, 0.0000, 0.0000, 0.0000, 0.0000, 0.0000, 0.0000, 0.0000, 0.0000, 0.0000, 0.0000, 0.0000, 0.0000, 0.0000, 0.0000, 0.0000, 0.0000, 0.0000, 0.0000, 0.0000, 0.0000, 0.0000, 0.0000, 0.0000,\n",
       "         0.0000, 0.0000, 0.0000, 0.0000, 0.0000, 0.0000, 0.0000, 0.0000, 0.0000, 0.0000, 0.0000, 0.0000, 0.0000, 0.0000, 0.0000, 0.0000, 0.0000, 0.0000, 0.0000, 0.0000, 0.0000, 0.0000, 0.0000, 0.0000,\n",
       "         0.0000, 0.0000, 0.0000, 0.0000, 0.0000, 0.0000, 0.0000, 0.0000, 0.0000, 0.0000, 0.0000, 0.0000, 0.0000, 0.0000, 0.0000, 0.0000]),\n",
       " tensor([1]))"
      ]
     },
     "execution_count": 194,
     "metadata": {},
     "output_type": "execute_result"
    }
   ],
   "source": [
    "x,y = dset[0]\n",
    "x,y"
   ]
  },
  {
   "cell_type": "code",
   "execution_count": 195,
   "id": "b2522c9c-a38d-42a7-adb7-40a1e8b1816b",
   "metadata": {
    "tags": []
   },
   "outputs": [
    {
     "data": {
      "text/plain": [
       "torch.Size([2038, 784])"
      ]
     },
     "execution_count": 195,
     "metadata": {},
     "output_type": "execute_result"
    }
   ],
   "source": [
    "valid_x = torch.cat([valid_3_ten,valid_7_ten]).view(-1,28*28)\n",
    "valid_x.shape"
   ]
  },
  {
   "cell_type": "code",
   "execution_count": 198,
   "id": "9fb8cfb5-8b8a-4bb9-bdc4-bb404c25058e",
   "metadata": {
    "tags": []
   },
   "outputs": [
    {
     "data": {
      "text/plain": [
       "torch.Size([2038, 1])"
      ]
     },
     "execution_count": 198,
     "metadata": {},
     "output_type": "execute_result"
    }
   ],
   "source": [
    "valid_y = (tensor([1]*len(valid_3_ten) + [0]*len(valid_7_ten))).unsqueeze(1)\n",
    "valid_y.shape"
   ]
  },
  {
   "cell_type": "code",
   "execution_count": 199,
   "id": "abdda00a-0d00-4ee0-b26f-3c728871bd18",
   "metadata": {
    "tags": []
   },
   "outputs": [],
   "source": [
    "valid_dset = list(zip(valid_x,valid_y))"
   ]
  },
  {
   "cell_type": "code",
   "execution_count": 279,
   "id": "b0446887-3772-4447-9149-4dec8aab0e80",
   "metadata": {
    "tags": []
   },
   "outputs": [],
   "source": [
    "def initi_params(size,std=0.1): return (torch.rand(size)*std).requires_grad_()"
   ]
  },
  {
   "cell_type": "code",
   "execution_count": 280,
   "id": "80c9a3d8-ec7d-4866-b198-7b615ceb2ecc",
   "metadata": {
    "tags": []
   },
   "outputs": [
    {
     "data": {
      "text/plain": [
       "torch.Size([784, 1])"
      ]
     },
     "execution_count": 280,
     "metadata": {},
     "output_type": "execute_result"
    }
   ],
   "source": [
    "weights = initi_params((28*28,1))\n",
    "weights.shape"
   ]
  },
  {
   "cell_type": "code",
   "execution_count": 281,
   "id": "ec92abd8-bfcf-4d93-94f8-92da0d7fa2cc",
   "metadata": {
    "tags": []
   },
   "outputs": [
    {
     "data": {
      "text/plain": [
       "tensor([0.0480], requires_grad=True)"
      ]
     },
     "execution_count": 281,
     "metadata": {},
     "output_type": "execute_result"
    }
   ],
   "source": [
    "bias = initi_params(1)\n",
    "bias"
   ]
  },
  {
   "cell_type": "code",
   "execution_count": 282,
   "id": "3645388c-1fe8-4401-b786-35e1d0ac0fe1",
   "metadata": {
    "tags": []
   },
   "outputs": [
    {
     "data": {
      "text/plain": [
       "tensor([5.5911], grad_fn=<AddBackward0>)"
      ]
     },
     "execution_count": 282,
     "metadata": {},
     "output_type": "execute_result"
    }
   ],
   "source": [
    "(train_x[0]*weights.T).sum() + bias"
   ]
  },
  {
   "cell_type": "code",
   "execution_count": 283,
   "id": "1c25707c-c635-4d56-b3a1-8d3b9ce2932c",
   "metadata": {
    "tags": []
   },
   "outputs": [
    {
     "data": {
      "text/plain": [
       "tensor([[5.5911],\n",
       "        [5.5242],\n",
       "        [5.7328],\n",
       "        ...,\n",
       "        [4.6920],\n",
       "        [4.7256],\n",
       "        [3.8727]], grad_fn=<AddBackward0>)"
      ]
     },
     "execution_count": 283,
     "metadata": {},
     "output_type": "execute_result"
    }
   ],
   "source": [
    "def linear1(xb) : return xb@weights+bias\n",
    "preds = linear1(train_x)\n",
    "preds"
   ]
  },
  {
   "cell_type": "code",
   "execution_count": 284,
   "id": "3f9efd51-430a-4824-ace2-7ec94688ab08",
   "metadata": {
    "tags": []
   },
   "outputs": [
    {
     "data": {
      "image/png": "[encoded data removed]",
      "text/plain": [
       "<Figure size 600x400 with 1 Axes>"
      ]
     },
     "metadata": {},
     "output_type": "display_data"
    }
   ],
   "source": [
    "def sigmoid(x): return (1/(1+torch.exp(-x)))\n",
    "plot_function(torch.sigmoid,min=-4,max=4)"
   ]
  },
  {
   "cell_type": "code",
   "execution_count": 285,
   "id": "82157fba-417b-4ed8-9d0d-7dd21bfbee02",
   "metadata": {
    "tags": []
   },
   "outputs": [],
   "source": [
    "def mnist(preds, targets):\n",
    "    preds = preds.sigmoid()\n",
    "    return torch.where(targets==1,1-preds,preds).mean()"
   ]
  },
  {
   "cell_type": "code",
   "execution_count": 286,
   "id": "a0d9c3f9-44c0-4996-ac8d-036a764a1b9e",
   "metadata": {
    "tags": []
   },
   "outputs": [],
   "source": [
    "def calc_grad(xb,yb,model):\n",
    "    preds = model(xb)\n",
    "    loss = mnist(preds,yb)\n",
    "    loss.backward()"
   ]
  },
  {
   "cell_type": "code",
   "execution_count": 287,
   "id": "01716ff5-accc-4831-9183-e9197e3b741b",
   "metadata": {
    "tags": []
   },
   "outputs": [],
   "source": [
    "def train_epoch(model,lr,params):\n",
    "    for xb,yb in dl:\n",
    "        calc_grad(xb,yb,model)\n",
    "        for p in params :\n",
    "            p.data -=lr*p.grad\n",
    "            p.grad.zero_()"
   ]
  },
  {
   "cell_type": "code",
   "execution_count": 288,
   "id": "9dcaea5c-3bac-43f1-a57c-b04495d9acb4",
   "metadata": {
    "tags": []
   },
   "outputs": [],
   "source": [
    "def batch_accuracy(xb,yb):\n",
    "    pred = xb.sigmoid()\n",
    "    correct = (pred>=0.5) == yb\n",
    "    return correct.float().mean()"
   ]
  },
  {
   "cell_type": "code",
   "execution_count": 289,
   "id": "78c39045-2630-4725-b5bc-5a5ac28c4e37",
   "metadata": {
    "tags": []
   },
   "outputs": [],
   "source": [
    "def validate_model(model):\n",
    "    correct_ls = [batch_accuracy(model(xb),yb) for xb,yb in valid_dl]\n",
    "    return round(torch.stack(correct_ls).mean().item(),4)"
   ]
  },
  {
   "cell_type": "code",
   "execution_count": 332,
   "id": "c3411a8c-84da-4135-8564-5cffdae6f650",
   "metadata": {
    "tags": []
   },
   "outputs": [],
   "source": [
    "dl = DataLoader(dset,batch_size=256,shuffle=True)\n",
    "valid_dl = DataLoader(valid_dset,batch_size = 256)\n",
    "lr = 0.1\n",
    "wieghts = initi_params(28*28)\n",
    "bias = initi_params(1)\n",
    "params = weights,bias"
   ]
  },
  {
   "cell_type": "code",
   "execution_count": 333,
   "id": "38e6076a-9415-48cd-b69c-7bdeba3ff8d9",
   "metadata": {
    "tags": []
   },
   "outputs": [
    {
     "name": "stdout",
     "output_type": "stream",
     "text": [
      "0.9814 \n",
      "0.9814 \n",
      "0.9819 \n",
      "0.9819 \n",
      "0.9819 \n",
      "0.9819 \n",
      "0.9819 \n",
      "0.9819 \n",
      "0.9814 \n",
      "0.9819 \n"
     ]
    }
   ],
   "source": [
    "for i in range(10):\n",
    "    train_epoch(linear1,lr,params)\n",
    "    print(validate_model(linear1),end=\" \\n\")"
   ]
  },
  {
   "cell_type": "markdown",
   "id": "bd4a3df8-556a-48bb-b257-442f23ec8239",
   "metadata": {},
   "source": [
    "# optimizer class"
   ]
  },
  {
   "cell_type": "code",
   "execution_count": 301,
   "id": "08376dc8-c2e4-4181-b787-467d3b3489a0",
   "metadata": {
    "tags": []
   },
   "outputs": [],
   "source": [
    "class basic_optim:\n",
    "    def __init__(self,lr,params) : \n",
    "        self.lr = lr \n",
    "        self.params = list(params)\n",
    "    def step(self, *args,**kwargs):\n",
    "        for p in self.params: p.data -= p.grad.data*self.lr\n",
    "    def zero_grad(self,*args,**kwargs):\n",
    "        for p in self.params : p.grad=None"
   ]
  },
  {
   "cell_type": "code",
   "execution_count": 302,
   "id": "88fb6c14-836b-4e37-9964-d6e852f04daa",
   "metadata": {
    "tags": []
   },
   "outputs": [],
   "source": [
    "\n",
    "def train_epoch_opti(model):\n",
    "    for xb,yb in dl:\n",
    "        calc_grad(xb,yb,model)\n",
    "        opt.step()\n",
    "        opt.zero_grad()"
   ]
  },
  {
   "cell_type": "code",
   "execution_count": 303,
   "id": "e2bfc712-ffa5-4145-9978-26271b86955e",
   "metadata": {
    "tags": []
   },
   "outputs": [],
   "source": [
    "def train_model(model,epochs):\n",
    "    for i in range(epochs):\n",
    "        train_epoch_opti(model)\n",
    "        print(validate_model(model))"
   ]
  },
  {
   "cell_type": "code",
   "execution_count": 304,
   "id": "3aaf528b-171e-47e9-877a-86483b0c3e1e",
   "metadata": {
    "tags": []
   },
   "outputs": [
    {
     "name": "stdout",
     "output_type": "stream",
     "text": [
      "0.4932\n",
      "0.6978\n",
      "0.8598\n",
      "0.9184\n",
      "0.936\n",
      "0.9492\n",
      "0.9575\n",
      "0.9633\n",
      "0.9658\n",
      "0.9687\n"
     ]
    }
   ],
   "source": [
    "linear_model = nn.Linear(28*28,1)\n",
    "w,b = linear_model.parameters()\n",
    "opt = basic_optim(lr,linear_model.parameters())\n",
    "train_model(linear_model,10)"
   ]
  },
  {
   "cell_type": "code",
   "execution_count": 306,
   "id": "75c6d273-7cb8-4722-a82d-d95db6d3643e",
   "metadata": {
    "tags": []
   },
   "outputs": [],
   "source": [
    "dls = DataLoaders(dl,valid_dl)\n",
    "learner = Learner(dls,nn.Linear(28*28,1),opt_func=SGD,loss_func=mnist,metrics=batch_accuracy)"
   ]
  },
  {
   "cell_type": "code",
   "execution_count": 309,
   "id": "f0ec2d8d-99b2-4f0a-a673-dac4a51a8956",
   "metadata": {
    "tags": []
   },
   "outputs": [
    {
     "data": {
      "text/html": [
       "\n",
       "<style>\n",
       "    /* Turns off some styling */\n",
       "    progress {\n",
       "        /* gets rid of default border in Firefox and Opera. */\n",
       "        border: none;\n",
       "        /* Needs to be in here for Safari polyfill so background images work as expected. */\n",
       "        background-size: auto;\n",
       "    }\n",
       "    progress:not([value]), progress:not([value])::-webkit-progress-bar {\n",
       "        background: repeating-linear-gradient(45deg, #7e7e7e, #7e7e7e 10px, #5c5c5c 10px, #5c5c5c 20px);\n",
       "    }\n",
       "    .progress-bar-interrupted, .progress-bar-interrupted::-webkit-progress-bar {\n",
       "        background: #F44336;\n",
       "    }\n",
       "</style>\n"
      ],
      "text/plain": [
       "<IPython.core.display.HTML object>"
      ]
     },
     "metadata": {},
     "output_type": "display_data"
    },
    {
     "data": {
      "text/html": [
       "<table border=\"1\" class=\"dataframe\">\n",
       "  <thead>\n",
       "    <tr style=\"text-align: left;\">\n",
       "      <th>epoch</th>\n",
       "      <th>train_loss</th>\n",
       "      <th>valid_loss</th>\n",
       "      <th>batch_accuracy</th>\n",
       "      <th>time</th>\n",
       "    </tr>\n",
       "  </thead>\n",
       "  <tbody>\n",
       "    <tr>\n",
       "      <td>0</td>\n",
       "      <td>0.636921</td>\n",
       "      <td>0.503387</td>\n",
       "      <td>0.495584</td>\n",
       "      <td>00:00</td>\n",
       "    </tr>\n",
       "    <tr>\n",
       "      <td>1</td>\n",
       "      <td>0.493393</td>\n",
       "      <td>0.195430</td>\n",
       "      <td>0.834642</td>\n",
       "      <td>00:00</td>\n",
       "    </tr>\n",
       "    <tr>\n",
       "      <td>2</td>\n",
       "      <td>0.182177</td>\n",
       "      <td>0.176798</td>\n",
       "      <td>0.842983</td>\n",
       "      <td>00:00</td>\n",
       "    </tr>\n",
       "    <tr>\n",
       "      <td>3</td>\n",
       "      <td>0.080584</td>\n",
       "      <td>0.105720</td>\n",
       "      <td>0.912169</td>\n",
       "      <td>00:00</td>\n",
       "    </tr>\n",
       "    <tr>\n",
       "      <td>4</td>\n",
       "      <td>0.043094</td>\n",
       "      <td>0.077482</td>\n",
       "      <td>0.933759</td>\n",
       "      <td>00:00</td>\n",
       "    </tr>\n",
       "    <tr>\n",
       "      <td>5</td>\n",
       "      <td>0.028419</td>\n",
       "      <td>0.062191</td>\n",
       "      <td>0.947498</td>\n",
       "      <td>00:00</td>\n",
       "    </tr>\n",
       "    <tr>\n",
       "      <td>6</td>\n",
       "      <td>0.022367</td>\n",
       "      <td>0.052632</td>\n",
       "      <td>0.955348</td>\n",
       "      <td>00:00</td>\n",
       "    </tr>\n",
       "    <tr>\n",
       "      <td>7</td>\n",
       "      <td>0.019655</td>\n",
       "      <td>0.046259</td>\n",
       "      <td>0.962218</td>\n",
       "      <td>00:00</td>\n",
       "    </tr>\n",
       "    <tr>\n",
       "      <td>8</td>\n",
       "      <td>0.018261</td>\n",
       "      <td>0.041778</td>\n",
       "      <td>0.965162</td>\n",
       "      <td>00:00</td>\n",
       "    </tr>\n",
       "    <tr>\n",
       "      <td>9</td>\n",
       "      <td>0.017412</td>\n",
       "      <td>0.038475</td>\n",
       "      <td>0.967615</td>\n",
       "      <td>00:00</td>\n",
       "    </tr>\n",
       "  </tbody>\n",
       "</table>"
      ],
      "text/plain": [
       "<IPython.core.display.HTML object>"
      ]
     },
     "metadata": {},
     "output_type": "display_data"
    }
   ],
   "source": [
    "learner.fit(10,lr=lr)"
   ]
  },
  {
   "cell_type": "code",
   "execution_count": 324,
   "id": "fff100d8-6f40-4c82-8603-0c53ee3367b9",
   "metadata": {
    "tags": []
   },
   "outputs": [],
   "source": [
    "simple_net = nn.Sequential(nn.Linear(28*28,30),\n",
    "                           nn.ReLU(),\n",
    "                           nn.Linear(30,1)\n",
    "                          )\n",
    "learner = Learner(dls,simple_net, opt_func=SGD,loss_func=mnist,metrics=batch_accuracy)"
   ]
  },
  {
   "cell_type": "code",
   "execution_count": 325,
   "id": "e2e97476-0962-4b07-a0d4-cf8ec7d386ee",
   "metadata": {
    "collapsed": true,
    "jupyter": {
     "outputs_hidden": true
    },
    "tags": []
   },
   "outputs": [
    {
     "data": {
      "text/html": [
       "\n",
       "<style>\n",
       "    /* Turns off some styling */\n",
       "    progress {\n",
       "        /* gets rid of default border in Firefox and Opera. */\n",
       "        border: none;\n",
       "        /* Needs to be in here for Safari polyfill so background images work as expected. */\n",
       "        background-size: auto;\n",
       "    }\n",
       "    progress:not([value]), progress:not([value])::-webkit-progress-bar {\n",
       "        background: repeating-linear-gradient(45deg, #7e7e7e, #7e7e7e 10px, #5c5c5c 10px, #5c5c5c 20px);\n",
       "    }\n",
       "    .progress-bar-interrupted, .progress-bar-interrupted::-webkit-progress-bar {\n",
       "        background: #F44336;\n",
       "    }\n",
       "</style>\n"
      ],
      "text/plain": [
       "<IPython.core.display.HTML object>"
      ]
     },
     "metadata": {},
     "output_type": "display_data"
    },
    {
     "data": {
      "text/html": [
       "<table border=\"1\" class=\"dataframe\">\n",
       "  <thead>\n",
       "    <tr style=\"text-align: left;\">\n",
       "      <th>epoch</th>\n",
       "      <th>train_loss</th>\n",
       "      <th>valid_loss</th>\n",
       "      <th>batch_accuracy</th>\n",
       "      <th>time</th>\n",
       "    </tr>\n",
       "  </thead>\n",
       "  <tbody>\n",
       "    <tr>\n",
       "      <td>0</td>\n",
       "      <td>0.389341</td>\n",
       "      <td>0.381120</td>\n",
       "      <td>0.559863</td>\n",
       "      <td>00:00</td>\n",
       "    </tr>\n",
       "    <tr>\n",
       "      <td>1</td>\n",
       "      <td>0.173680</td>\n",
       "      <td>0.262787</td>\n",
       "      <td>0.766928</td>\n",
       "      <td>00:00</td>\n",
       "    </tr>\n",
       "    <tr>\n",
       "      <td>2</td>\n",
       "      <td>0.092629</td>\n",
       "      <td>0.127617</td>\n",
       "      <td>0.905299</td>\n",
       "      <td>00:00</td>\n",
       "    </tr>\n",
       "    <tr>\n",
       "      <td>3</td>\n",
       "      <td>0.058327</td>\n",
       "      <td>0.083545</td>\n",
       "      <td>0.936703</td>\n",
       "      <td>00:00</td>\n",
       "    </tr>\n",
       "    <tr>\n",
       "      <td>4</td>\n",
       "      <td>0.042790</td>\n",
       "      <td>0.064208</td>\n",
       "      <td>0.950932</td>\n",
       "      <td>00:00</td>\n",
       "    </tr>\n",
       "    <tr>\n",
       "      <td>5</td>\n",
       "      <td>0.035098</td>\n",
       "      <td>0.053505</td>\n",
       "      <td>0.962709</td>\n",
       "      <td>00:00</td>\n",
       "    </tr>\n",
       "    <tr>\n",
       "      <td>6</td>\n",
       "      <td>0.030823</td>\n",
       "      <td>0.046803</td>\n",
       "      <td>0.965653</td>\n",
       "      <td>00:00</td>\n",
       "    </tr>\n",
       "    <tr>\n",
       "      <td>7</td>\n",
       "      <td>0.028121</td>\n",
       "      <td>0.042253</td>\n",
       "      <td>0.966634</td>\n",
       "      <td>00:00</td>\n",
       "    </tr>\n",
       "    <tr>\n",
       "      <td>8</td>\n",
       "      <td>0.026208</td>\n",
       "      <td>0.038968</td>\n",
       "      <td>0.968597</td>\n",
       "      <td>00:00</td>\n",
       "    </tr>\n",
       "    <tr>\n",
       "      <td>9</td>\n",
       "      <td>0.024741</td>\n",
       "      <td>0.036475</td>\n",
       "      <td>0.969578</td>\n",
       "      <td>00:00</td>\n",
       "    </tr>\n",
       "    <tr>\n",
       "      <td>10</td>\n",
       "      <td>0.023559</td>\n",
       "      <td>0.034510</td>\n",
       "      <td>0.971541</td>\n",
       "      <td>00:00</td>\n",
       "    </tr>\n",
       "    <tr>\n",
       "      <td>11</td>\n",
       "      <td>0.022575</td>\n",
       "      <td>0.032915</td>\n",
       "      <td>0.973013</td>\n",
       "      <td>00:00</td>\n",
       "    </tr>\n",
       "    <tr>\n",
       "      <td>12</td>\n",
       "      <td>0.021739</td>\n",
       "      <td>0.031585</td>\n",
       "      <td>0.974485</td>\n",
       "      <td>00:00</td>\n",
       "    </tr>\n",
       "    <tr>\n",
       "      <td>13</td>\n",
       "      <td>0.021018</td>\n",
       "      <td>0.030451</td>\n",
       "      <td>0.975466</td>\n",
       "      <td>00:00</td>\n",
       "    </tr>\n",
       "    <tr>\n",
       "      <td>14</td>\n",
       "      <td>0.020388</td>\n",
       "      <td>0.029467</td>\n",
       "      <td>0.975466</td>\n",
       "      <td>00:00</td>\n",
       "    </tr>\n",
       "    <tr>\n",
       "      <td>15</td>\n",
       "      <td>0.019832</td>\n",
       "      <td>0.028602</td>\n",
       "      <td>0.975466</td>\n",
       "      <td>00:00</td>\n",
       "    </tr>\n",
       "    <tr>\n",
       "      <td>16</td>\n",
       "      <td>0.019337</td>\n",
       "      <td>0.027834</td>\n",
       "      <td>0.976938</td>\n",
       "      <td>00:00</td>\n",
       "    </tr>\n",
       "    <tr>\n",
       "      <td>17</td>\n",
       "      <td>0.018892</td>\n",
       "      <td>0.027146</td>\n",
       "      <td>0.977920</td>\n",
       "      <td>00:00</td>\n",
       "    </tr>\n",
       "    <tr>\n",
       "      <td>18</td>\n",
       "      <td>0.018489</td>\n",
       "      <td>0.026526</td>\n",
       "      <td>0.978410</td>\n",
       "      <td>00:00</td>\n",
       "    </tr>\n",
       "    <tr>\n",
       "      <td>19</td>\n",
       "      <td>0.018121</td>\n",
       "      <td>0.025964</td>\n",
       "      <td>0.978410</td>\n",
       "      <td>00:00</td>\n",
       "    </tr>\n",
       "    <tr>\n",
       "      <td>20</td>\n",
       "      <td>0.017785</td>\n",
       "      <td>0.025453</td>\n",
       "      <td>0.978410</td>\n",
       "      <td>00:00</td>\n",
       "    </tr>\n",
       "    <tr>\n",
       "      <td>21</td>\n",
       "      <td>0.017474</td>\n",
       "      <td>0.024986</td>\n",
       "      <td>0.978410</td>\n",
       "      <td>00:00</td>\n",
       "    </tr>\n",
       "    <tr>\n",
       "      <td>22</td>\n",
       "      <td>0.017186</td>\n",
       "      <td>0.024558</td>\n",
       "      <td>0.979392</td>\n",
       "      <td>00:00</td>\n",
       "    </tr>\n",
       "    <tr>\n",
       "      <td>23</td>\n",
       "      <td>0.016918</td>\n",
       "      <td>0.024165</td>\n",
       "      <td>0.980864</td>\n",
       "      <td>00:00</td>\n",
       "    </tr>\n",
       "    <tr>\n",
       "      <td>24</td>\n",
       "      <td>0.016668</td>\n",
       "      <td>0.023801</td>\n",
       "      <td>0.981354</td>\n",
       "      <td>00:00</td>\n",
       "    </tr>\n",
       "    <tr>\n",
       "      <td>25</td>\n",
       "      <td>0.016433</td>\n",
       "      <td>0.023466</td>\n",
       "      <td>0.981354</td>\n",
       "      <td>00:00</td>\n",
       "    </tr>\n",
       "    <tr>\n",
       "      <td>26</td>\n",
       "      <td>0.016212</td>\n",
       "      <td>0.023154</td>\n",
       "      <td>0.981354</td>\n",
       "      <td>00:00</td>\n",
       "    </tr>\n",
       "    <tr>\n",
       "      <td>27</td>\n",
       "      <td>0.016004</td>\n",
       "      <td>0.022865</td>\n",
       "      <td>0.981354</td>\n",
       "      <td>00:00</td>\n",
       "    </tr>\n",
       "    <tr>\n",
       "      <td>28</td>\n",
       "      <td>0.015806</td>\n",
       "      <td>0.022596</td>\n",
       "      <td>0.981845</td>\n",
       "      <td>00:00</td>\n",
       "    </tr>\n",
       "    <tr>\n",
       "      <td>29</td>\n",
       "      <td>0.015619</td>\n",
       "      <td>0.022345</td>\n",
       "      <td>0.981845</td>\n",
       "      <td>00:00</td>\n",
       "    </tr>\n",
       "    <tr>\n",
       "      <td>30</td>\n",
       "      <td>0.015441</td>\n",
       "      <td>0.022110</td>\n",
       "      <td>0.981845</td>\n",
       "      <td>00:00</td>\n",
       "    </tr>\n",
       "    <tr>\n",
       "      <td>31</td>\n",
       "      <td>0.015271</td>\n",
       "      <td>0.021891</td>\n",
       "      <td>0.981845</td>\n",
       "      <td>00:00</td>\n",
       "    </tr>\n",
       "    <tr>\n",
       "      <td>32</td>\n",
       "      <td>0.015110</td>\n",
       "      <td>0.021686</td>\n",
       "      <td>0.981845</td>\n",
       "      <td>00:00</td>\n",
       "    </tr>\n",
       "    <tr>\n",
       "      <td>33</td>\n",
       "      <td>0.014955</td>\n",
       "      <td>0.021493</td>\n",
       "      <td>0.982336</td>\n",
       "      <td>00:00</td>\n",
       "    </tr>\n",
       "    <tr>\n",
       "      <td>34</td>\n",
       "      <td>0.014807</td>\n",
       "      <td>0.021311</td>\n",
       "      <td>0.982336</td>\n",
       "      <td>00:00</td>\n",
       "    </tr>\n",
       "    <tr>\n",
       "      <td>35</td>\n",
       "      <td>0.014665</td>\n",
       "      <td>0.021140</td>\n",
       "      <td>0.982336</td>\n",
       "      <td>00:00</td>\n",
       "    </tr>\n",
       "    <tr>\n",
       "      <td>36</td>\n",
       "      <td>0.014529</td>\n",
       "      <td>0.020979</td>\n",
       "      <td>0.982336</td>\n",
       "      <td>00:00</td>\n",
       "    </tr>\n",
       "    <tr>\n",
       "      <td>37</td>\n",
       "      <td>0.014398</td>\n",
       "      <td>0.020826</td>\n",
       "      <td>0.982826</td>\n",
       "      <td>00:00</td>\n",
       "    </tr>\n",
       "    <tr>\n",
       "      <td>38</td>\n",
       "      <td>0.014271</td>\n",
       "      <td>0.020682</td>\n",
       "      <td>0.982826</td>\n",
       "      <td>00:00</td>\n",
       "    </tr>\n",
       "    <tr>\n",
       "      <td>39</td>\n",
       "      <td>0.014149</td>\n",
       "      <td>0.020544</td>\n",
       "      <td>0.982826</td>\n",
       "      <td>00:00</td>\n",
       "    </tr>\n",
       "  </tbody>\n",
       "</table>"
      ],
      "text/plain": [
       "<IPython.core.display.HTML object>"
      ]
     },
     "metadata": {},
     "output_type": "display_data"
    }
   ],
   "source": [
    "learner.fit(40,lr=0.1)"
   ]
  },
  {
   "cell_type": "code",
   "execution_count": 326,
   "id": "833e9907-38e4-4ef7-8b48-66cdb06f5f2a",
   "metadata": {
    "tags": []
   },
   "outputs": [
    {
     "data": {
      "text/plain": [
       "[<matplotlib.lines.Line2D at 0x7ff6e2e4fa50>]"
      ]
     },
     "execution_count": 326,
     "metadata": {},
     "output_type": "execute_result"
    },
    {
     "data": {
      "image/png": "[encoded data removed]",
      "text/plain": [
       "<Figure size 640x480 with 1 Axes>"
      ]
     },
     "metadata": {},
     "output_type": "display_data"
    }
   ],
   "source": [
    "plt.plot(L(learner.recorder.values).itemgot(2))"
   ]
  },
  {
   "cell_type": "code",
   "execution_count": 327,
   "id": "434e5a16-b9dc-4dcf-83bb-bd29ec1aa851",
   "metadata": {
    "tags": []
   },
   "outputs": [
    {
     "data": {
      "text/plain": [
       "0.982826292514801"
      ]
     },
     "execution_count": 327,
     "metadata": {},
     "output_type": "execute_result"
    }
   ],
   "source": [
    "learner.recorder.values[-1][2]"
   ]
  },
  {
   "cell_type": "markdown",
   "id": "90e11e17-8951-4916-8fdc-1c2fcbc33180",
   "metadata": {},
   "source": [
    "## Questionnaire"
   ]
  },
  {
   "cell_type": "code",
   "execution_count": 335,
   "id": "74cfc5d6-f078-4809-b6f4-2125f379be88",
   "metadata": {
    "tags": []
   },
   "outputs": [
    {
     "data": {
      "text/plain": [
       "[2, 6, 10, 14, 18, 22, 26, 30, 34, 38]"
      ]
     },
     "execution_count": 335,
     "metadata": {},
     "output_type": "execute_result"
    }
   ],
   "source": [
    "ls_comp = [2*i for i in range(20) if i%2!=0]\n",
    "ls_comp"
   ]
  },
  {
   "cell_type": "code",
   "execution_count": 345,
   "id": "c870f672-4ef3-4917-8e5f-0f40764046ce",
   "metadata": {
    "tags": []
   },
   "outputs": [
    {
     "data": {
      "text/plain": [
       "tensor([[ 2,  8, 12],\n",
       "        [ 4, 14, 12],\n",
       "        [ 8,  2, 10]])"
      ]
     },
     "execution_count": 345,
     "metadata": {},
     "output_type": "execute_result"
    }
   ],
   "source": [
    "tens_33 = torch.randint(1,9,(3,3))\n",
    "tens_33*2"
   ]
  },
  {
   "cell_type": "code",
   "execution_count": 347,
   "id": "6cf39c9a-7ede-4a12-ae88-46007a8702ce",
   "metadata": {
    "tags": []
   },
   "outputs": [
    {
     "data": {
      "image/png": "[encoded data removed]",
      "text/plain": [
       "<Figure size 600x400 with 1 Axes>"
      ]
     },
     "metadata": {},
     "output_type": "display_data"
    }
   ],
   "source": [
    "plot_function(F.sigmoid,min=-4,max=4)"
   ]
  },
  {
   "cell_type": "markdown",
   "id": "ae80392e-18c0-423a-b465-17e2451c3fae",
   "metadata": {},
   "source": [
    "### one epoch of SGD\n",
    "1. start with random initialization of weights\n",
    "2. make prediction using weights\n",
    "3. calculate loss\n",
    "4. calculate gradient\n",
    "5. update weigths using learning rate multiplier\n",
    "6. calculate metric on validation set\n",
    "7. go to step 2 and repeat \n"
   ]
  },
  {
   "cell_type": "code",
   "execution_count": 348,
   "id": "c584d550-d3bc-4f4b-bcf5-c37deb937b17",
   "metadata": {
    "tags": []
   },
   "outputs": [
    {
     "data": {
      "text/plain": [
       "[(1, 'a'), (2, 'b'), (3, 'c'), (4, 'd')]"
      ]
     },
     "execution_count": 348,
     "metadata": {},
     "output_type": "execute_result"
    }
   ],
   "source": [
    "inp1 = [1,2,3,4]\n",
    "inp2 = 'abcd'\n",
    "list(zip(inp1,inp2))"
   ]
  },
  {
   "cell_type": "code",
   "execution_count": 349,
   "id": "12320ba4-fc81-42b6-ab44-377c1ac26ab6",
   "metadata": {
    "tags": []
   },
   "outputs": [
    {
     "data": {
      "image/png": "[encoded data removed]",
      "text/plain": [
       "<Figure size 600x400 with 1 Axes>"
      ]
     },
     "metadata": {},
     "output_type": "display_data"
    }
   ],
   "source": [
    "plot_function(F.relu,-2,2)"
   ]
  },
  {
   "cell_type": "markdown",
   "id": "3af36c6f-1708-4fee-abe3-5c3b3f3b6984",
   "metadata": {},
   "source": []
  }
 ],
 "metadata": {
  "kernelspec": {
   "display_name": "Python 3 (ipykernel)",
   "language": "python",
   "name": "python3"
  },
  "language_info": {
   "codemirror_mode": {
    "name": "ipython",
    "version": 3
   },
   "file_extension": ".py",
   "mimetype": "text/x-python",
   "name": "python",
   "nbconvert_exporter": "python",
   "pygments_lexer": "ipython3",
   "version": "3.11.4"
  }
 },
 "nbformat": 4,
 "nbformat_minor": 5
}
