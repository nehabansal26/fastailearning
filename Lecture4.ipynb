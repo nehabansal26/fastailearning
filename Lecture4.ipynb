{
 "cells": [
  {
   "cell_type": "markdown",
   "id": "c580f615-f905-4e3b-8111-3d18795f068b",
   "metadata": {},
   "source": [
    "# Lecture 4"
   ]
  },
  {
   "cell_type": "markdown",
   "id": "b6025c08-4f2d-49ba-be62-87891f009e1e",
   "metadata": {
    "tags": []
   },
   "source": [
    "### ULMfit for fine tuning (RNNs)\n",
    "- Wikitext103 : language model for next word predication (training from scracth)\n",
    "- IMDB : language model (took pretrained model from wikipedia model)\n",
    "- IMDB : sentiment classifier for reviews (fine tuned the language model of IMDB)\n"
   ]
  },
  {
   "cell_type": "markdown",
   "id": "ef1a7e3a-0d20-493a-9343-472e9915c397",
   "metadata": {
    "tags": []
   },
   "source": [
    "### US Patent Phase to Phase Competition\n",
    "- use \"include = object\" in dataframe describe function for text columns\n",
    "- Hugging face model hub : pretrained models (specific to tasks as well)\n",
    "- Transformers : bit challenging with long documents as it processes in one go (documnets < 2000 words else need GPUs with large memory)\n",
    "- ULMfit : process gradually by dividing into pieces (documnets > 2000 words)\n",
    "- Data split : training, validation and test\n",
    "- outliers : no need to remove all the time"
   ]
  },
  {
   "cell_type": "markdown",
   "id": "43d61fbd-c98d-4f15-b2c9-d09a04d30e71",
   "metadata": {},
   "source": [
    "### Transformer library from hugging face\n",
    "- using classification model and passing continuous variable as lable : does it detect automatically?"
   ]
  },
  {
   "cell_type": "code",
   "execution_count": null,
   "id": "e51f2c83-63f5-4ef0-b6bf-4d90e40f9168",
   "metadata": {},
   "outputs": [],
   "source": []
  }
 ],
 "metadata": {
  "kernelspec": {
   "display_name": "Python 3 (ipykernel)",
   "language": "python",
   "name": "python3"
  },
  "language_info": {
   "codemirror_mode": {
    "name": "ipython",
    "version": 3
   },
   "file_extension": ".py",
   "mimetype": "text/x-python",
   "name": "python",
   "nbconvert_exporter": "python",
   "pygments_lexer": "ipython3",
   "version": "3.11.4"
  }
 },
 "nbformat": 4,
 "nbformat_minor": 5
}
