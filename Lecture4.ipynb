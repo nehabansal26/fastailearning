{
 "cells": [
  {
   "cell_type": "markdown",
   "id": "c580f615-f905-4e3b-8111-3d18795f068b",
   "metadata": {},
   "source": [
    "# Lecture 4"
   ]
  },
  {
   "cell_type": "markdown",
   "id": "b6025c08-4f2d-49ba-be62-87891f009e1e",
   "metadata": {
    "tags": []
   },
   "source": [
    "### ULMfit for fine tuning (RNNs)\n",
    "- Wikitext103 : language model for next word predication (training from scracth)\n",
    "- IMDB : language model (took pretrained model from wikipedia model)\n",
    "- IMDB : sentiment classifier for reviews (fine tuned the language model of IMDB)\n"
   ]
  },
  {
   "cell_type": "markdown",
   "id": "ef1a7e3a-0d20-493a-9343-472e9915c397",
   "metadata": {
    "tags": []
   },
   "source": [
    "### US Patent Phase to Phase Competition\n",
    "- use \"include = object\" in dataframe describe function for text columns\n",
    "- Hugging face model hub : pretrained models (specific to tasks as well)\n",
    "- Transformers : bit challenging with long documents as it processes in one go (documnets < 2000 words else need GPUs with large memory)\n",
    "- ULMfit : process gradually by dividing into pieces (documnets > 2000 words)\n",
    "- Data split : training, validation and test\n",
    "- outliers : no need to remove all the time"
   ]
  },
  {
   "cell_type": "markdown",
   "id": "43d61fbd-c98d-4f15-b2c9-d09a04d30e71",
   "metadata": {},
   "source": [
    "### Transformer library from hugging face\n",
    "- using classification model and passing continuous variable as lable : does it detect automatically?"
   ]
  },
  {
   "cell_type": "markdown",
   "id": "151f511a-07dc-4b63-939d-1cf7232fed3e",
   "metadata": {},
   "source": [
    "# Book Chapter 10"
   ]
  },
  {
   "cell_type": "markdown",
   "id": "8d610268-ecf6-4484-a60c-321eeab6ebdf",
   "metadata": {},
   "source": [
    "- in general in NLP the pretrained model is trained on a different task.\n",
    "- language model is a model that has been trained to guess what the next word in a text is (having read the ones before). This kind of task is called self-supervised learning\n",
    "\n",
    "# Steps to build the model - \n",
    "\n",
    "## Tokenizer\n",
    "- Spacy : word tokenizer\n",
    "- subword tokenizer : fast ai\n",
    "- character base : use fast ai one with small vocab size  :)\n",
    "\n",
    "## Numericalization\n",
    "- assigning a number to each token (general form of word) in vocabulary \n",
    "\n",
    "## Batching\n",
    "- mini batch with same sequence length\n",
    "- shuffle the documents not the text inside it\n",
    "\n",
    "## fine tuning \n",
    "- using pretrained model on wiki data \n",
    "\n",
    "# coding tips\n",
    "- summary method in datablock for debugging\n",
    "- save the intermediate models \n",
    "\n",
    "# doubts\n",
    "- when we are concatenating reviews of different movies and preparing data for language model training : end of one movie review and start of other will become a pair (independent , label) but that doesn't happen when we write.(does xxbos will make model identify that?)\n",
    "- what is drop_mult=0.3 in learner \n",
    "- what is temperature in learn.predict\n",
    "- how N_WORDS in learn.predict is working \n",
    "- grand parent splitter in datablock\n",
    "\n",
    "# things to explore\n",
    "- class methods\n",
    "- data augmentation in NLP\n",
    "- collecting similar size images in one batch for vision problems \n",
    "- Given the limitation that models are unlikely to be able to consistently recognize machine-generated texts, what other approaches may be needed to handle large-scale disinformation campaigns that leverage deep learning?\n"
   ]
  },
  {
   "cell_type": "markdown",
   "id": "00ad6b68-20a6-4afd-b502-f0fdb19d2178",
   "metadata": {},
   "source": [
    "## TODO\n",
    "- [ ] hugging face implementation\n",
    "- [x] IMDB implementation"
   ]
  },
  {
   "cell_type": "markdown",
   "id": "05717e33-2258-4f9f-bac7-83ff65041d80",
   "metadata": {},
   "source": [
    "# IMDB Classifier"
   ]
  },
  {
   "cell_type": "code",
   "execution_count": 1,
   "id": "4ebd5e93-36f8-426b-8c68-02bb11fdbb52",
   "metadata": {
    "tags": []
   },
   "outputs": [],
   "source": [
    "import fastbook\n",
    "fastbook.setup_book()"
   ]
  },
  {
   "cell_type": "code",
   "execution_count": 2,
   "id": "c2cfec51-f984-4fe7-beaa-4ccfa5a4aeb2",
   "metadata": {
    "tags": []
   },
   "outputs": [],
   "source": [
    "from fastbook import *\n",
    "from fastai.text.all import *"
   ]
  },
  {
   "cell_type": "markdown",
   "id": "56fcdf7d-2fd1-41d6-87a4-a62272820147",
   "metadata": {},
   "source": [
    "## import and read data"
   ]
  },
  {
   "cell_type": "code",
   "execution_count": 3,
   "id": "96398609-15ba-47e9-938e-24608a76915a",
   "metadata": {
    "tags": []
   },
   "outputs": [],
   "source": [
    "path = untar_data(URLs.IMDB)"
   ]
  },
  {
   "cell_type": "code",
   "execution_count": 4,
   "id": "f7d41077-5567-49f0-b4ba-c4be7f036818",
   "metadata": {
    "tags": []
   },
   "outputs": [
    {
     "data": {
      "text/plain": [
       "(#7) [Path('/home/nehaiitr/.fastai/data/imdb/unsup'),Path('/home/nehaiitr/.fastai/data/imdb/train'),Path('/home/nehaiitr/.fastai/data/imdb/tmp_lm'),Path('/home/nehaiitr/.fastai/data/imdb/README'),Path('/home/nehaiitr/.fastai/data/imdb/test'),Path('/home/nehaiitr/.fastai/data/imdb/tmp_clas'),Path('/home/nehaiitr/.fastai/data/imdb/imdb.vocab')]"
      ]
     },
     "execution_count": 4,
     "metadata": {},
     "output_type": "execute_result"
    }
   ],
   "source": [
    "path.ls()"
   ]
  },
  {
   "cell_type": "code",
   "execution_count": 5,
   "id": "0f5ca821-8c06-42df-8b71-15ed049e905e",
   "metadata": {
    "tags": []
   },
   "outputs": [],
   "source": [
    "files = get_text_files(path, folders =['train','test','unsup'])"
   ]
  },
  {
   "cell_type": "code",
   "execution_count": 6,
   "id": "f3c0c5ca-77da-48b3-984a-c851a3fac51e",
   "metadata": {
    "tags": []
   },
   "outputs": [],
   "source": [
    "txt = files[0].open().read()"
   ]
  },
  {
   "cell_type": "code",
   "execution_count": 7,
   "id": "28c8da0d-9b84-40fd-8b81-d85ebefdde42",
   "metadata": {
    "tags": []
   },
   "outputs": [
    {
     "data": {
      "text/plain": [
       "\"Astro Boy<br /><br />One of the few advantages of having a robot child, as opposed to a human one, is that it can process the concept of divorce faster and with less emotional scarring.<br /><br />Fortunately, the little boy in this computer-animated adventure doesn't have to worry about parental separation, because he's dead.<br /><br />When his son Toby (Freddy Highmore) is accidentally killed by a military robot powered by malevolent red energy, Dr. Tenma (Nicholas Cage) re-creates him in a robot form, powered by benevolent blue energy.<br /><br />But when the military becomes interested in his circuitry, Toby must hideout in the old city, where robots participant in gladiatorial games.<br /><br />Based on the Japanese anime, Astro Boy falls far short of its Asian influence: the character designs are flawed, the voice acting is patchy and the story is unexciting.<br /><br />What's more, uptight North American movie makers didn't even bother selling Astro Boy's used underwear in vending machines.\""
      ]
     },
     "execution_count": 7,
     "metadata": {},
     "output_type": "execute_result"
    }
   ],
   "source": [
    "txt"
   ]
  },
  {
   "cell_type": "markdown",
   "id": "e1612714-e27c-4087-9046-b2611de5ab39",
   "metadata": {},
   "source": [
    "## tokenization"
   ]
  },
  {
   "cell_type": "markdown",
   "id": "a35ffe22-a40c-4eb6-947a-e62397f7aeff",
   "metadata": {},
   "source": [
    "### word tokenizers"
   ]
  },
  {
   "cell_type": "code",
   "execution_count": 8,
   "id": "3844f2d1-9276-47cc-b729-3c61a8499702",
   "metadata": {
    "tags": []
   },
   "outputs": [],
   "source": [
    "# spacy tokenizer\n",
    "spacy = WordTokenizer()\n",
    "tokns = first(spacy([txt]))"
   ]
  },
  {
   "cell_type": "code",
   "execution_count": 9,
   "id": "c3b78f19-b734-4af9-9dd2-9fac34a927e1",
   "metadata": {
    "tags": []
   },
   "outputs": [
    {
     "data": {
      "text/plain": [
       "(#187) ['Astro','Boy','<','br','/><br','/>One','of','the','few','advantages'...]"
      ]
     },
     "execution_count": 9,
     "metadata": {},
     "output_type": "execute_result"
    }
   ],
   "source": [
    "tokns"
   ]
  },
  {
   "cell_type": "code",
   "execution_count": 10,
   "id": "778d4618-d7d9-4558-9413-3acd72e49728",
   "metadata": {
    "tags": []
   },
   "outputs": [],
   "source": [
    "# fastai tokenizer on top of spacy\n",
    "tkn = Tokenizer(spacy)"
   ]
  },
  {
   "cell_type": "code",
   "execution_count": 11,
   "id": "52b1fcec-2329-4024-8c6b-e2fa3a29759d",
   "metadata": {
    "tags": []
   },
   "outputs": [
    {
     "data": {
      "text/plain": [
       "\"(#214) ['xxbos','xxmaj','astro','xxmaj','boy','\\\\n\\\\n','xxmaj','one','of','the'...]\""
      ]
     },
     "execution_count": 11,
     "metadata": {},
     "output_type": "execute_result"
    }
   ],
   "source": [
    "coll_repr(tkn(txt),10)"
   ]
  },
  {
   "cell_type": "markdown",
   "id": "67d36268-5f86-4b57-baef-30c22f605bf9",
   "metadata": {},
   "source": [
    "### subword tokenizers"
   ]
  },
  {
   "cell_type": "code",
   "execution_count": 12,
   "id": "4ff2f98d-72c8-4bb4-9763-b0b1d322ab24",
   "metadata": {
    "tags": []
   },
   "outputs": [],
   "source": [
    "txts = L(o.open().read() for o in files[:2000])"
   ]
  },
  {
   "cell_type": "code",
   "execution_count": 13,
   "id": "45555ecc-7df1-410e-b918-96b7e7cc39e6",
   "metadata": {
    "tags": []
   },
   "outputs": [],
   "source": [
    "# size 100 is throwing erorr that vocab size is too small ?\n",
    "def subword(sz):\n",
    "    sp = SubwordTokenizer(vocab_sz = sz)\n",
    "    sp.setup(txts)\n",
    "    return ' '.join(first(sp([txt]))[:40])"
   ]
  },
  {
   "cell_type": "code",
   "execution_count": 14,
   "id": "f535cb7d-c73f-4b97-8823-391c80bc302c",
   "metadata": {
    "tags": []
   },
   "outputs": [
    {
     "data": {
      "text/html": [
       "\n",
       "<style>\n",
       "    /* Turns off some styling */\n",
       "    progress {\n",
       "        /* gets rid of default border in Firefox and Opera. */\n",
       "        border: none;\n",
       "        /* Needs to be in here for Safari polyfill so background images work as expected. */\n",
       "        background-size: auto;\n",
       "    }\n",
       "    progress:not([value]), progress:not([value])::-webkit-progress-bar {\n",
       "        background: repeating-linear-gradient(45deg, #7e7e7e, #7e7e7e 10px, #5c5c5c 10px, #5c5c5c 20px);\n",
       "    }\n",
       "    .progress-bar-interrupted, .progress-bar-interrupted::-webkit-progress-bar {\n",
       "        background: #F44336;\n",
       "    }\n",
       "</style>\n"
      ],
      "text/plain": [
       "<IPython.core.display.HTML object>"
      ]
     },
     "metadata": {},
     "output_type": "display_data"
    },
    {
     "data": {
      "text/html": [],
      "text/plain": [
       "<IPython.core.display.HTML object>"
      ]
     },
     "metadata": {},
     "output_type": "display_data"
    },
    {
     "name": "stderr",
     "output_type": "stream",
     "text": [
      "sentencepiece_trainer.cc(177) LOG(INFO) Running command: --input=tmp/texts.out --vocab_size=3000 --model_prefix=tmp/spm --character_coverage=0.99999 --model_type=unigram --unk_id=9 --pad_id=-1 --bos_id=-1 --eos_id=-1 --minloglevel=2 --user_defined_symbols=▁xxunk,▁xxpad,▁xxbos,▁xxeos,▁xxfld,▁xxrep,▁xxwrep,▁xxup,▁xxmaj --hard_vocab_limit=false\n"
     ]
    },
    {
     "data": {
      "text/plain": [
       "'▁As t ro ▁Boy < br ▁/> < br ▁/> O ne ▁of ▁the ▁few ▁advantage s ▁of ▁having ▁a ▁robot ▁child , ▁as ▁oppos ed ▁to ▁a ▁human ▁one , ▁is ▁that ▁it ▁can ▁process ▁the ▁concept ▁of ▁divorce'"
      ]
     },
     "execution_count": 14,
     "metadata": {},
     "output_type": "execute_result"
    }
   ],
   "source": [
    "subword(3000)"
   ]
  },
  {
   "cell_type": "code",
   "execution_count": 15,
   "id": "327d794c-6fde-4179-b7e6-ef704af14dc4",
   "metadata": {
    "tags": []
   },
   "outputs": [
    {
     "data": {
      "text/html": [
       "\n",
       "<style>\n",
       "    /* Turns off some styling */\n",
       "    progress {\n",
       "        /* gets rid of default border in Firefox and Opera. */\n",
       "        border: none;\n",
       "        /* Needs to be in here for Safari polyfill so background images work as expected. */\n",
       "        background-size: auto;\n",
       "    }\n",
       "    progress:not([value]), progress:not([value])::-webkit-progress-bar {\n",
       "        background: repeating-linear-gradient(45deg, #7e7e7e, #7e7e7e 10px, #5c5c5c 10px, #5c5c5c 20px);\n",
       "    }\n",
       "    .progress-bar-interrupted, .progress-bar-interrupted::-webkit-progress-bar {\n",
       "        background: #F44336;\n",
       "    }\n",
       "</style>\n"
      ],
      "text/plain": [
       "<IPython.core.display.HTML object>"
      ]
     },
     "metadata": {},
     "output_type": "display_data"
    },
    {
     "data": {
      "text/html": [],
      "text/plain": [
       "<IPython.core.display.HTML object>"
      ]
     },
     "metadata": {},
     "output_type": "display_data"
    },
    {
     "data": {
      "text/plain": [
       "'▁A s t ro ▁B o y < br ▁/> < br ▁/> O ne ▁of ▁the ▁f e w ▁a d v an t a g es ▁of ▁ ha v ing ▁a ▁ ro b o t ▁'"
      ]
     },
     "execution_count": 15,
     "metadata": {},
     "output_type": "execute_result"
    }
   ],
   "source": [
    "subword(200)"
   ]
  },
  {
   "cell_type": "markdown",
   "id": "7866d7b4-3aac-48f4-99d7-a440d4dcfda3",
   "metadata": {},
   "source": [
    "## Numericalization"
   ]
  },
  {
   "cell_type": "code",
   "execution_count": 52,
   "id": "d668815c-59e4-4534-84fe-9bc82e598152",
   "metadata": {
    "tags": []
   },
   "outputs": [
    {
     "data": {
      "text/plain": [
       "\"(#214) ['xxbos','xxmaj','astro','xxmaj','boy','\\\\n\\\\n','xxmaj','one','of','the','few','advantages','of','having','a','robot','child',',','as','opposed'...]\""
      ]
     },
     "execution_count": 52,
     "metadata": {},
     "output_type": "execute_result"
    }
   ],
   "source": [
    "coll_repr(tkn(txt),20)"
   ]
  },
  {
   "cell_type": "code",
   "execution_count": 55,
   "id": "bd66a4b0-ebd7-4f09-84ad-092a730deba3",
   "metadata": {
    "tags": []
   },
   "outputs": [
    {
     "data": {
      "text/plain": [
       "(#214) ['xxbos','xxmaj','astro','xxmaj','boy','\\n\\n','xxmaj','one','of','the'...]"
      ]
     },
     "execution_count": 55,
     "metadata": {},
     "output_type": "execute_result"
    }
   ],
   "source": [
    "tokns200 = txts[:200].map(tkn)\n",
    "tokns200[0]"
   ]
  },
  {
   "cell_type": "code",
   "execution_count": 62,
   "id": "1baae044-30fc-4457-a215-5e48ebdaf42b",
   "metadata": {
    "tags": []
   },
   "outputs": [
    {
     "data": {
      "text/plain": [
       "\"(#2008) ['xxunk','xxpad','xxbos','xxeos','xxfld','xxrep','xxwrep','xxup','xxmaj','the',',','.','a','and','of','to','is','it','in','i'...]\""
      ]
     },
     "execution_count": 62,
     "metadata": {},
     "output_type": "execute_result"
    }
   ],
   "source": [
    "num = Numericalize()\n",
    "num.setup(tokns200)\n",
    "coll_repr(num.vocab,20)"
   ]
  },
  {
   "cell_type": "code",
   "execution_count": 69,
   "id": "f9d7d562-9ddc-4288-afe4-db57b8424c88",
   "metadata": {
    "tags": []
   },
   "outputs": [
    {
     "data": {
      "text/plain": [
       "\"xxbos xxmaj astro xxmaj boy \\n\\n xxmaj one of the few xxunk of having a robot child , as xxunk to a human one , is that it can process the concept of divorce xxunk and with less emotional xxunk . \\n\\n xxmaj xxunk , the little boy in this computer - animated adventure does n't have to xxunk about xxunk xxunk , because he 's dead . \\n\\n xxmaj when his son xxmaj xxunk ( xxunk xxmaj xxunk ) is xxunk killed by a military robot xxunk by xxunk red xxunk , xxmaj dr . xxmaj xxunk ( xxunk\""
      ]
     },
     "execution_count": 69,
     "metadata": {},
     "output_type": "execute_result"
    }
   ],
   "source": [
    "\" \".join([num.vocab[i] for i in num(tkn(txt))[:100]])"
   ]
  },
  {
   "cell_type": "markdown",
   "id": "37ca7f85-e7dc-45da-a697-2bba4792625a",
   "metadata": {},
   "source": [
    "## Batch creation"
   ]
  },
  {
   "cell_type": "markdown",
   "id": "4ac5447f-99ba-4379-bae2-7e690d5efb75",
   "metadata": {},
   "source": [
    "### manual version"
   ]
  },
  {
   "cell_type": "code",
   "execution_count": 80,
   "id": "6037a8bc-be8e-4495-9181-c9176600a4ef",
   "metadata": {
    "tags": []
   },
   "outputs": [],
   "source": [
    "stream = txts[2]\n",
    "tokens = tkn(stream)"
   ]
  },
  {
   "cell_type": "code",
   "execution_count": 84,
   "id": "7b3f1516-527a-4b96-a92f-95dd8d23efa7",
   "metadata": {
    "tags": []
   },
   "outputs": [],
   "source": [
    "bs, seq_len = 6, 40\n",
    "# batches_ls = [ tokens[i:i+seq_len]  for i in range(0,len(tokens),40)]\n",
    "batches_ls = [ tokens[i*seq_len:(i+1)*seq_len]  for i in range(bs)]"
   ]
  },
  {
   "cell_type": "code",
   "execution_count": 85,
   "id": "1364fca0-fd3c-4c60-9f93-5db5f9ed93c1",
   "metadata": {
    "collapsed": true,
    "jupyter": {
     "outputs_hidden": true
    },
    "tags": []
   },
   "outputs": [
    {
     "data": {
      "text/html": [
       "<div>\n",
       "<style scoped>\n",
       "    .dataframe tbody tr th:only-of-type {\n",
       "        vertical-align: middle;\n",
       "    }\n",
       "\n",
       "    .dataframe tbody tr th {\n",
       "        vertical-align: top;\n",
       "    }\n",
       "\n",
       "    .dataframe thead th {\n",
       "        text-align: right;\n",
       "    }\n",
       "</style>\n",
       "<table border=\"1\" class=\"dataframe\">\n",
       "  <thead>\n",
       "    <tr style=\"text-align: right;\">\n",
       "      <th></th>\n",
       "      <th>0</th>\n",
       "      <th>1</th>\n",
       "      <th>2</th>\n",
       "      <th>3</th>\n",
       "      <th>4</th>\n",
       "      <th>5</th>\n",
       "      <th>6</th>\n",
       "      <th>7</th>\n",
       "      <th>8</th>\n",
       "      <th>9</th>\n",
       "      <th>10</th>\n",
       "      <th>11</th>\n",
       "      <th>12</th>\n",
       "      <th>13</th>\n",
       "      <th>14</th>\n",
       "      <th>15</th>\n",
       "      <th>16</th>\n",
       "      <th>17</th>\n",
       "      <th>18</th>\n",
       "      <th>19</th>\n",
       "      <th>20</th>\n",
       "      <th>21</th>\n",
       "      <th>22</th>\n",
       "      <th>23</th>\n",
       "      <th>24</th>\n",
       "      <th>25</th>\n",
       "      <th>26</th>\n",
       "      <th>27</th>\n",
       "      <th>28</th>\n",
       "      <th>29</th>\n",
       "      <th>30</th>\n",
       "      <th>31</th>\n",
       "      <th>32</th>\n",
       "      <th>33</th>\n",
       "      <th>34</th>\n",
       "      <th>35</th>\n",
       "      <th>36</th>\n",
       "      <th>37</th>\n",
       "      <th>38</th>\n",
       "      <th>39</th>\n",
       "    </tr>\n",
       "  </thead>\n",
       "  <tbody>\n",
       "    <tr>\n",
       "      <th>0</th>\n",
       "      <td>xxbos</td>\n",
       "      <td>xxmaj</td>\n",
       "      <td>on</td>\n",
       "      <td>my</td>\n",
       "      <td>first</td>\n",
       "      <td>view</td>\n",
       "      <td>of</td>\n",
       "      <td>xxmaj</td>\n",
       "      <td>little</td>\n",
       "      <td>xxmaj</td>\n",
       "      <td>britain</td>\n",
       "      <td>it</td>\n",
       "      <td>did</td>\n",
       "      <td>n't</td>\n",
       "      <td>strike</td>\n",
       "      <td>me</td>\n",
       "      <td>as</td>\n",
       "      <td>something</td>\n",
       "      <td>that</td>\n",
       "      <td>was</td>\n",
       "      <td>hilariously</td>\n",
       "      <td>funny</td>\n",
       "      <td>.</td>\n",
       "      <td>i</td>\n",
       "      <td>found</td>\n",
       "      <td>it</td>\n",
       "      <td>witty</td>\n",
       "      <td>and</td>\n",
       "      <td>somewhat</td>\n",
       "      <td>entertaining</td>\n",
       "      <td>but</td>\n",
       "      <td>would</td>\n",
       "      <td>n't</td>\n",
       "      <td>have</td>\n",
       "      <td>rated</td>\n",
       "      <td>it</td>\n",
       "      <td>anywhere</td>\n",
       "      <td>near</td>\n",
       "      <td>xxmaj</td>\n",
       "      <td>english</td>\n",
       "    </tr>\n",
       "    <tr>\n",
       "      <th>1</th>\n",
       "      <td>sitcoms</td>\n",
       "      <td>such</td>\n",
       "      <td>as</td>\n",
       "      <td>xxmaj</td>\n",
       "      <td>the</td>\n",
       "      <td>xxmaj</td>\n",
       "      <td>office</td>\n",
       "      <td>and</td>\n",
       "      <td>the</td>\n",
       "      <td>like</td>\n",
       "      <td>..</td>\n",
       "      <td>\\n\\n</td>\n",
       "      <td>xxmaj</td>\n",
       "      <td>however</td>\n",
       "      <td>as</td>\n",
       "      <td>i</td>\n",
       "      <td>watched</td>\n",
       "      <td>it</td>\n",
       "      <td>more</td>\n",
       "      <td>and</td>\n",
       "      <td>began</td>\n",
       "      <td>to</td>\n",
       "      <td>understand</td>\n",
       "      <td>the</td>\n",
       "      <td>characters</td>\n",
       "      <td>and</td>\n",
       "      <td>relate</td>\n",
       "      <td>them</td>\n",
       "      <td>to</td>\n",
       "      <td>stereotypes</td>\n",
       "      <td>of</td>\n",
       "      <td>everyday</td>\n",
       "      <td>people</td>\n",
       "      <td>the</td>\n",
       "      <td>show</td>\n",
       "      <td>began</td>\n",
       "      <td>to</td>\n",
       "      <td>\"</td>\n",
       "      <td>wow</td>\n",
       "      <td>\"</td>\n",
       "    </tr>\n",
       "    <tr>\n",
       "      <th>2</th>\n",
       "      <td>me</td>\n",
       "      <td>with</td>\n",
       "      <td>how</td>\n",
       "      <td>many</td>\n",
       "      <td>layers</td>\n",
       "      <td>of</td>\n",
       "      <td>comedy</td>\n",
       "      <td>are</td>\n",
       "      <td>actually</td>\n",
       "      <td>present</td>\n",
       "      <td>.</td>\n",
       "      <td>\\n\\n</td>\n",
       "      <td>xxmaj</td>\n",
       "      <td>from</td>\n",
       "      <td>xxmaj</td>\n",
       "      <td>daffyth</td>\n",
       "      <td>-</td>\n",
       "      <td>xxmaj</td>\n",
       "      <td>the</td>\n",
       "      <td>only</td>\n",
       "      <td>gay</td>\n",
       "      <td>in</td>\n",
       "      <td>the</td>\n",
       "      <td>village</td>\n",
       "      <td>,</td>\n",
       "      <td>a</td>\n",
       "      <td>stereotype</td>\n",
       "      <td>that</td>\n",
       "      <td>we</td>\n",
       "      <td>know</td>\n",
       "      <td>all</td>\n",
       "      <td>too</td>\n",
       "      <td>well</td>\n",
       "      <td>to</td>\n",
       "      <td>the</td>\n",
       "      <td>xxmaj</td>\n",
       "      <td>cross</td>\n",
       "      <td>xxmaj</td>\n",
       "      <td>dressing</td>\n",
       "      <td>lady</td>\n",
       "    </tr>\n",
       "    <tr>\n",
       "      <th>3</th>\n",
       "      <td>boys</td>\n",
       "      <td>who</td>\n",
       "      <td>act</td>\n",
       "      <td>as</td>\n",
       "      <td>though</td>\n",
       "      <td>they</td>\n",
       "      <td>want</td>\n",
       "      <td>to</td>\n",
       "      <td>remain</td>\n",
       "      <td>subtle</td>\n",
       "      <td>in</td>\n",
       "      <td>their</td>\n",
       "      <td>acts</td>\n",
       "      <td>cross</td>\n",
       "      <td>dressing</td>\n",
       "      <td>however</td>\n",
       "      <td>draw</td>\n",
       "      <td>attention</td>\n",
       "      <td>to</td>\n",
       "      <td>themselves</td>\n",
       "      <td>whenever</td>\n",
       "      <td>possible</td>\n",
       "      <td>.</td>\n",
       "      <td>\\n\\n</td>\n",
       "      <td>xxmaj</td>\n",
       "      <td>these</td>\n",
       "      <td>characters</td>\n",
       "      <td>are</td>\n",
       "      <td>real</td>\n",
       "      <td>.</td>\n",
       "      <td>xxmaj</td>\n",
       "      <td>david</td>\n",
       "      <td>xxmaj</td>\n",
       "      <td>walliams</td>\n",
       "      <td>and</td>\n",
       "      <td>xxmaj</td>\n",
       "      <td>matt</td>\n",
       "      <td>xxmaj</td>\n",
       "      <td>lucas</td>\n",
       "      <td>have</td>\n",
       "    </tr>\n",
       "    <tr>\n",
       "      <th>4</th>\n",
       "      <td>really</td>\n",
       "      <td>done</td>\n",
       "      <td>xxmaj</td>\n",
       "      <td>english</td>\n",
       "      <td>comedy</td>\n",
       "      <td>proud</td>\n",
       "      <td>by</td>\n",
       "      <td>making</td>\n",
       "      <td>fictional</td>\n",
       "      <td>takes</td>\n",
       "      <td>on</td>\n",
       "      <td>real</td>\n",
       "      <td>people</td>\n",
       "      <td>.</td>\n",
       "      <td>xxmaj</td>\n",
       "      <td>they</td>\n",
       "      <td>manage</td>\n",
       "      <td>to</td>\n",
       "      <td>capture</td>\n",
       "      <td>all</td>\n",
       "      <td>demographics</td>\n",
       "      <td>of</td>\n",
       "      <td>audience</td>\n",
       "      <td>with</td>\n",
       "      <td>their</td>\n",
       "      <td>mix</td>\n",
       "      <td>of</td>\n",
       "      <td>slapstick</td>\n",
       "      <td>humour</td>\n",
       "      <td>with</td>\n",
       "      <td>more</td>\n",
       "      <td>subtle</td>\n",
       "      <td>comedy</td>\n",
       "      <td>traits</td>\n",
       "      <td>that</td>\n",
       "      <td>audiences</td>\n",
       "      <td>might</td>\n",
       "      <td>not</td>\n",
       "      <td>pick</td>\n",
       "      <td>up</td>\n",
       "    </tr>\n",
       "    <tr>\n",
       "      <th>5</th>\n",
       "      <td>on</td>\n",
       "      <td>the</td>\n",
       "      <td>first</td>\n",
       "      <td>viewing</td>\n",
       "      <td>.</td>\n",
       "      <td>\\n\\n</td>\n",
       "      <td>xxmaj</td>\n",
       "      <td>little</td>\n",
       "      <td>xxmaj</td>\n",
       "      <td>britain</td>\n",
       "      <td>is</td>\n",
       "      <td>a</td>\n",
       "      <td>timeless</td>\n",
       "      <td>classic</td>\n",
       "      <td>-</td>\n",
       "      <td>if</td>\n",
       "      <td>you</td>\n",
       "      <td>do</td>\n",
       "      <td>n't</td>\n",
       "      <td>like</td>\n",
       "      <td>it</td>\n",
       "      <td>at</td>\n",
       "      <td>first</td>\n",
       "      <td>,</td>\n",
       "      <td>give</td>\n",
       "      <td>it</td>\n",
       "      <td>another</td>\n",
       "      <td>go</td>\n",
       "      <td>.</td>\n",
       "      <td>xxmaj</td>\n",
       "      <td>there</td>\n",
       "      <td>is</td>\n",
       "      <td>more</td>\n",
       "      <td>to</td>\n",
       "      <td>it</td>\n",
       "      <td>than</td>\n",
       "      <td>meets</td>\n",
       "      <td>the</td>\n",
       "      <td>eye</td>\n",
       "      <td>…</td>\n",
       "    </tr>\n",
       "  </tbody>\n",
       "</table>\n",
       "</div>"
      ],
      "text/plain": [
       "        0      1      2        3       4      5       6       7          8   \\\n",
       "0    xxbos  xxmaj     on       my   first   view      of   xxmaj     little   \n",
       "1  sitcoms   such     as    xxmaj     the  xxmaj  office     and        the   \n",
       "2       me   with    how     many  layers     of  comedy     are   actually   \n",
       "3     boys    who    act       as  though   they    want      to     remain   \n",
       "4   really   done  xxmaj  english  comedy  proud      by  making  fictional   \n",
       "5       on    the  first  viewing       .   \\n\\n   xxmaj  little      xxmaj   \n",
       "\n",
       "        9        10     11        12       13        14       15       16  \\\n",
       "0    xxmaj  britain     it       did      n't    strike       me       as   \n",
       "1     like       ..   \\n\\n     xxmaj  however        as        i  watched   \n",
       "2  present        .   \\n\\n     xxmaj     from     xxmaj  daffyth        -   \n",
       "3   subtle       in  their      acts    cross  dressing  however     draw   \n",
       "4    takes       on   real    people        .     xxmaj     they   manage   \n",
       "5  britain       is      a  timeless  classic         -       if      you   \n",
       "\n",
       "          17       18          19            20        21          22  \\\n",
       "0  something     that         was   hilariously     funny           .   \n",
       "1         it     more         and         began        to  understand   \n",
       "2      xxmaj      the        only           gay        in         the   \n",
       "3  attention       to  themselves      whenever  possible           .   \n",
       "4         to  capture         all  demographics        of    audience   \n",
       "5         do      n't        like            it        at       first   \n",
       "\n",
       "        23          24     25          26         27        28            29  \\\n",
       "0        i       found     it       witty        and  somewhat  entertaining   \n",
       "1      the  characters    and      relate       them        to   stereotypes   \n",
       "2  village           ,      a  stereotype       that        we          know   \n",
       "3     \\n\\n       xxmaj  these  characters        are      real             .   \n",
       "4     with       their    mix          of  slapstick    humour          with   \n",
       "5        ,        give     it     another         go         .         xxmaj   \n",
       "\n",
       "      30        31      32        33     34         35        36     37  \\\n",
       "0    but     would     n't      have  rated         it  anywhere   near   \n",
       "1     of  everyday  people       the   show      began        to      \"   \n",
       "2    all       too    well        to    the      xxmaj     cross  xxmaj   \n",
       "3  xxmaj     david   xxmaj  walliams    and      xxmaj      matt  xxmaj   \n",
       "4   more    subtle  comedy    traits   that  audiences     might    not   \n",
       "5  there        is    more        to     it       than     meets    the   \n",
       "\n",
       "         38       39  \n",
       "0     xxmaj  english  \n",
       "1       wow        \"  \n",
       "2  dressing     lady  \n",
       "3     lucas     have  \n",
       "4      pick       up  \n",
       "5       eye        …  "
      ]
     },
     "execution_count": 85,
     "metadata": {},
     "output_type": "execute_result"
    }
   ],
   "source": [
    "pd.DataFrame(batches_ls)"
   ]
  },
  {
   "cell_type": "code",
   "execution_count": 86,
   "id": "c94e1901-afaa-4d8d-8fc5-58c9526a5d22",
   "metadata": {
    "tags": []
   },
   "outputs": [],
   "source": [
    "num200 = tokns200.map(num)"
   ]
  },
  {
   "cell_type": "markdown",
   "id": "e2c358f5-903c-4c99-8592-a20ab5c10176",
   "metadata": {},
   "source": [
    "### fastai version"
   ]
  },
  {
   "cell_type": "code",
   "execution_count": 87,
   "id": "5a2339ac-cc43-4fbc-85f8-a41cb104c614",
   "metadata": {
    "tags": []
   },
   "outputs": [],
   "source": [
    "dl = LMDataLoader(num200)"
   ]
  },
  {
   "cell_type": "code",
   "execution_count": 88,
   "id": "05c69e8b-6245-4d07-8c01-a311e2070fd1",
   "metadata": {
    "tags": []
   },
   "outputs": [
    {
     "name": "stdout",
     "output_type": "stream",
     "text": [
      "64 64\n"
     ]
    }
   ],
   "source": [
    "x,y = first(dl)\n",
    "print(len(x),len(y))"
   ]
  },
  {
   "cell_type": "markdown",
   "id": "c350c705-9c09-42fa-8273-9d6360c7b149",
   "metadata": {},
   "source": [
    "## Language model training"
   ]
  },
  {
   "cell_type": "code",
   "execution_count": 16,
   "id": "55a45b0d-9a41-4285-8e5b-5cfd9c9d189b",
   "metadata": {
    "tags": []
   },
   "outputs": [],
   "source": [
    "get_imdb = partial(get_text_files, folders=['train','test','unsup'])"
   ]
  },
  {
   "cell_type": "code",
   "execution_count": 17,
   "id": "5582d4dd-b152-4fe7-a254-b459017176f3",
   "metadata": {
    "tags": []
   },
   "outputs": [],
   "source": [
    "dls_lm = DataBlock(blocks=TextBlock.from_folder(path,is_lm=True),\n",
    "                  get_items = get_imdb,\n",
    "                    splitter = RandomSplitter(0.1)\n",
    "                  ).dataloaders(path, path=path, bs =128, seq_len =80)"
   ]
  },
  {
   "cell_type": "code",
   "execution_count": 18,
   "id": "1c18f687-b313-4184-a3fa-694bfea062c4",
   "metadata": {
    "collapsed": true,
    "jupyter": {
     "outputs_hidden": true
    },
    "tags": []
   },
   "outputs": [
    {
     "data": {
      "text/html": [
       "<table border=\"1\" class=\"dataframe\">\n",
       "  <thead>\n",
       "    <tr style=\"text-align: right;\">\n",
       "      <th></th>\n",
       "      <th>text</th>\n",
       "      <th>text_</th>\n",
       "    </tr>\n",
       "  </thead>\n",
       "  <tbody>\n",
       "    <tr>\n",
       "      <th>0</th>\n",
       "      <td>xxbos xxmaj do n't be reserved about liking this movie . i love it ! xxmaj it 's one of my favorite movies ever . i hate how comedies can never win awards just for being really really funny . xxmaj the xxmaj oscars that go to comedies are usually won by movies that just are n't hilarious and sometimes have a \" plot \" that just gets in the way . xxmaj anyway , i first saw the movie</td>\n",
       "      <td>xxmaj do n't be reserved about liking this movie . i love it ! xxmaj it 's one of my favorite movies ever . i hate how comedies can never win awards just for being really really funny . xxmaj the xxmaj oscars that go to comedies are usually won by movies that just are n't hilarious and sometimes have a \" plot \" that just gets in the way . xxmaj anyway , i first saw the movie with</td>\n",
       "    </tr>\n",
       "    <tr>\n",
       "      <th>1</th>\n",
       "      <td>xxup robot xxup holocaust is hardly up ( or down ) to hunt 's level . xxmaj clocking in at a painful 79 minutes ( the box says 90 ) , this is one cheap flick . xxmaj the sets have all the elaborate design of a carnival haunted house and the costumes prove that in the near future everyone will dress like xxmaj john xxmaj travolta in the final dance number of xxup staying xxup alive . xxmaj the</td>\n",
       "      <td>robot xxup holocaust is hardly up ( or down ) to hunt 's level . xxmaj clocking in at a painful 79 minutes ( the box says 90 ) , this is one cheap flick . xxmaj the sets have all the elaborate design of a carnival haunted house and the costumes prove that in the near future everyone will dress like xxmaj john xxmaj travolta in the final dance number of xxup staying xxup alive . xxmaj the atomic</td>\n",
       "    </tr>\n",
       "    <tr>\n",
       "      <th>2</th>\n",
       "      <td>rarely happens to me . xxmaj the fact that i paid for that does not exactly makes me feel better , as well as the fact the movie deserved the high user rating here . \\n\\n xxmaj so what is wrong with the movie ? xxmaj it has a fashionable title - \" 44 xxmaj minutes \" . xxmaj one first thinks about \" 15 xxmaj minutes \" , which is by the way a much better movie , but</td>\n",
       "      <td>happens to me . xxmaj the fact that i paid for that does not exactly makes me feel better , as well as the fact the movie deserved the high user rating here . \\n\\n xxmaj so what is wrong with the movie ? xxmaj it has a fashionable title - \" 44 xxmaj minutes \" . xxmaj one first thinks about \" 15 xxmaj minutes \" , which is by the way a much better movie , but still</td>\n",
       "    </tr>\n",
       "    <tr>\n",
       "      <th>3</th>\n",
       "      <td>members was trying to provoke the ghost into doing something by calling it names . xxmaj careful doing that , newbie , you might just get possessed . \\n\\n xxmaj another issue i had is that they rely on technology for xxup everything . xxmaj they 'll set up thousands of dollar 's worth of cameras and other equipment around the place in hopes that they 'll catch something . xxmaj this may be scientifically proved to catch things that</td>\n",
       "      <td>was trying to provoke the ghost into doing something by calling it names . xxmaj careful doing that , newbie , you might just get possessed . \\n\\n xxmaj another issue i had is that they rely on technology for xxup everything . xxmaj they 'll set up thousands of dollar 's worth of cameras and other equipment around the place in hopes that they 'll catch something . xxmaj this may be scientifically proved to catch things that we</td>\n",
       "    </tr>\n",
       "    <tr>\n",
       "      <th>4</th>\n",
       "      <td>the sci - fi xxmaj channel - aka xxmaj insomniac xxmaj central - which seems to proudly own the rights to every bad movie ever made . xxmaj if you think their daytime programming is awful , you should check out what they wait until after midnight to air . \\n\\n xxmaj movies like this . \\n\\n xxmaj it was a 120 - minute train wreck that i truly could n't take my eyes off of . i have seriously</td>\n",
       "      <td>sci - fi xxmaj channel - aka xxmaj insomniac xxmaj central - which seems to proudly own the rights to every bad movie ever made . xxmaj if you think their daytime programming is awful , you should check out what they wait until after midnight to air . \\n\\n xxmaj movies like this . \\n\\n xxmaj it was a 120 - minute train wreck that i truly could n't take my eyes off of . i have seriously been</td>\n",
       "    </tr>\n",
       "    <tr>\n",
       "      <th>5</th>\n",
       "      <td>story is the subtle hint of a romance on the part of xxmaj annie 's manager xxmaj hogarth ( melvyn xxmaj douglas ) , and a more overt one between xxmaj annie and her big top rival , xxmaj toby xxmaj walker ( preston xxmaj foster ) . xxmaj toby starts out the story as the guy you want to hate , but manages to come through the story as a decent guy . xxmaj the film 's abrupt finish</td>\n",
       "      <td>is the subtle hint of a romance on the part of xxmaj annie 's manager xxmaj hogarth ( melvyn xxmaj douglas ) , and a more overt one between xxmaj annie and her big top rival , xxmaj toby xxmaj walker ( preston xxmaj foster ) . xxmaj toby starts out the story as the guy you want to hate , but manages to come through the story as a decent guy . xxmaj the film 's abrupt finish with</td>\n",
       "    </tr>\n",
       "    <tr>\n",
       "      <th>6</th>\n",
       "      <td>was marketed as an action film , and many people who 've seen it seem to think that they 've watched an action film - but really , there is n't that much action , and xxmaj tim xxmaj burton barely seems interested in it . \\n\\n xxmaj people often align it with the ' grittier ' superhero comics of the late eighties , but honestly , if you 've read ' the xxmaj dark xxmaj knight xxmaj returns '</td>\n",
       "      <td>marketed as an action film , and many people who 've seen it seem to think that they 've watched an action film - but really , there is n't that much action , and xxmaj tim xxmaj burton barely seems interested in it . \\n\\n xxmaj people often align it with the ' grittier ' superhero comics of the late eighties , but honestly , if you 've read ' the xxmaj dark xxmaj knight xxmaj returns ' ,</td>\n",
       "    </tr>\n",
       "    <tr>\n",
       "      <th>7</th>\n",
       "      <td>press ) . xxmaj but are we really supposed to believe that she could n't get back to xxmaj new xxmaj york and her waiting fortune if she gave it a bit of effort ? \\n\\n xxmaj no , the point of this film seems to be that xxmaj billy is the leader of a family , a lovable bunch of losers who hang together through thick and thin . xxmaj this is a warm , fuzzy film  or</td>\n",
       "      <td>) . xxmaj but are we really supposed to believe that she could n't get back to xxmaj new xxmaj york and her waiting fortune if she gave it a bit of effort ? \\n\\n xxmaj no , the point of this film seems to be that xxmaj billy is the leader of a family , a lovable bunch of losers who hang together through thick and thin . xxmaj this is a warm , fuzzy film  or at</td>\n",
       "    </tr>\n",
       "    <tr>\n",
       "      <th>8</th>\n",
       "      <td>three actors are brilliant . xxmaj the script of the film is very tight and interesting . xxmaj the dialogues of the film are catchy . xxmaj but somewhere you feel that your stomach is not properly filled . xxmaj the comedy is sometimes not properly understood . xxmaj the film also tries to go lengthy at some parts . \\n\\n xxmaj musically nothing much to sing about except the xxmaj title xxmaj track . xxmaj the camera - work</td>\n",
       "      <td>actors are brilliant . xxmaj the script of the film is very tight and interesting . xxmaj the dialogues of the film are catchy . xxmaj but somewhere you feel that your stomach is not properly filled . xxmaj the comedy is sometimes not properly understood . xxmaj the film also tries to go lengthy at some parts . \\n\\n xxmaj musically nothing much to sing about except the xxmaj title xxmaj track . xxmaj the camera - work is</td>\n",
       "    </tr>\n",
       "  </tbody>\n",
       "</table>"
      ],
      "text/plain": [
       "<IPython.core.display.HTML object>"
      ]
     },
     "metadata": {},
     "output_type": "display_data"
    }
   ],
   "source": [
    "dls_lm.show_batch()"
   ]
  },
  {
   "cell_type": "code",
   "execution_count": 19,
   "id": "923a234c-d65b-4de7-9068-872e45ff0e02",
   "metadata": {
    "tags": []
   },
   "outputs": [],
   "source": [
    "## what is fp16 and drop mult\n",
    "learner = language_model_learner(dls_lm,AWD_LSTM,drop_mult = 0.3,metrics=[accuracy,Perplexity()]).to_fp16()"
   ]
  },
  {
   "cell_type": "code",
   "execution_count": null,
   "id": "8dd82300-888e-48c4-8c9d-ec5568be9632",
   "metadata": {
    "tags": []
   },
   "outputs": [
    {
     "name": "stderr",
     "output_type": "stream",
     "text": [
      "/home/nehaiitr/mambaforge/envs/jlabenv/lib/python3.11/site-packages/torch/amp/autocast_mode.py:204: UserWarning: User provided device_type of 'cuda', but CUDA is not available. Disabling\n",
      "  warnings.warn('User provided device_type of \\'cuda\\', but CUDA is not available. Disabling')\n",
      "/home/nehaiitr/mambaforge/envs/jlabenv/lib/python3.11/site-packages/torch/cuda/amp/grad_scaler.py:120: UserWarning: torch.cuda.amp.GradScaler is enabled, but CUDA is not available.  Disabling.\n",
      "  warnings.warn(\"torch.cuda.amp.GradScaler is enabled, but CUDA is not available.  Disabling.\")\n"
     ]
    },
    {
     "data": {
      "text/html": [
       "\n",
       "<style>\n",
       "    /* Turns off some styling */\n",
       "    progress {\n",
       "        /* gets rid of default border in Firefox and Opera. */\n",
       "        border: none;\n",
       "        /* Needs to be in here for Safari polyfill so background images work as expected. */\n",
       "        background-size: auto;\n",
       "    }\n",
       "    progress:not([value]), progress:not([value])::-webkit-progress-bar {\n",
       "        background: repeating-linear-gradient(45deg, #7e7e7e, #7e7e7e 10px, #5c5c5c 10px, #5c5c5c 20px);\n",
       "    }\n",
       "    .progress-bar-interrupted, .progress-bar-interrupted::-webkit-progress-bar {\n",
       "        background: #F44336;\n",
       "    }\n",
       "</style>\n"
      ],
      "text/plain": [
       "<IPython.core.display.HTML object>"
      ]
     },
     "metadata": {},
     "output_type": "display_data"
    },
    {
     "data": {
      "text/html": [
       "\n",
       "    <div>\n",
       "      <progress value='0' class='' max='1' style='width:300px; height:20px; vertical-align: middle;'></progress>\n",
       "      0.00% [0/1 00:00&lt;?]\n",
       "    </div>\n",
       "    \n",
       "<table border=\"1\" class=\"dataframe\">\n",
       "  <thead>\n",
       "    <tr style=\"text-align: left;\">\n",
       "      <th>epoch</th>\n",
       "      <th>train_loss</th>\n",
       "      <th>valid_loss</th>\n",
       "      <th>accuracy</th>\n",
       "      <th>perplexity</th>\n",
       "      <th>time</th>\n",
       "    </tr>\n",
       "  </thead>\n",
       "  <tbody>\n",
       "  </tbody>\n",
       "</table><p>\n",
       "\n",
       "    <div>\n",
       "      <progress value='0' class='' max='2629' style='width:300px; height:20px; vertical-align: middle;'></progress>\n",
       "      0.00% [0/2629 00:00&lt;?]\n",
       "    </div>\n",
       "    "
      ],
      "text/plain": [
       "<IPython.core.display.HTML object>"
      ]
     },
     "metadata": {},
     "output_type": "display_data"
    }
   ],
   "source": [
    "learner.fit_one_cycle(1,2e-2)"
   ]
  },
  {
   "cell_type": "markdown",
   "id": "0459254a-1775-42a9-88f0-77dacf90feda",
   "metadata": {},
   "source": [
    "# Remaining at kaggle, my computer can't train this big model."
   ]
  },
  {
   "cell_type": "code",
   "execution_count": null,
   "id": "02f97793-3591-42e4-938c-a52beca5357b",
   "metadata": {},
   "outputs": [],
   "source": []
  }
 ],
 "metadata": {
  "kernelspec": {
   "display_name": "Python 3 (ipykernel)",
   "language": "python",
   "name": "python3"
  },
  "language_info": {
   "codemirror_mode": {
    "name": "ipython",
    "version": 3
   },
   "file_extension": ".py",
   "mimetype": "text/x-python",
   "name": "python",
   "nbconvert_exporter": "python",
   "pygments_lexer": "ipython3",
   "version": "3.11.4"
  }
 },
 "nbformat": 4,
 "nbformat_minor": 5
}
